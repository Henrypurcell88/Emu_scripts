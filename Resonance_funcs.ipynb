{
 "cells": [
  {
   "cell_type": "code",
   "execution_count": 123,
   "id": "4bce3b0c",
   "metadata": {},
   "outputs": [],
   "source": [
    "import os\n",
    "import sys\n",
    "sys.path.append(\"/home/henryrpg/Desktop/N3AS/Emu_scripts/data_reduction\")\n",
    "import yt\n",
    "import numpy as np\n",
    "import matplotlib.pyplot as plt\n",
    "import matplotlib.patches as mpatches\n",
    "import h5py\n",
    "import amrex_plot_tools as amrex\n",
    "import emu_yt_module as emu\n",
    "import spin_flip_tools as sft\n",
    "import glob\n",
    "import concurrent\n",
    "import matplotlib as mpl\n",
    "from matplotlib.ticker import (MultipleLocator, FormatStrFormatter,AutoMinorLocator,LogLocator)\n",
    "from matplotlib import cm, colors\n",
    "import matplotlib.axes as ax\n",
    "from mpl_toolkits.mplot3d import Axes3D\n",
    "import latex\n",
    "from itertools import product\n",
    "\n",
    "# For ease of development, reload the relevant modules to make sure they are up to date.\n",
    "import importlib\n",
    "importlib.reload(sft)\n",
    "\n",
    "c = 299792458 #m/s\n",
    "hbar =6.582119569E-16 #eV s\n",
    "G=1.1663787E-23 # eV^-2 (fermi constant)\n",
    "\n",
    "################\n",
    "# plot options #\n",
    "################\n",
    "mpl.rcParams['font.size'] = 10\n",
    "mpl.rcParams['font.family'] = 'serif'\n",
    "COLOR = 'black'\n",
    "mpl.rcParams['text.color'] = COLOR\n",
    "mpl.rcParams['axes.labelcolor'] = COLOR\n",
    "mpl.rcParams['xtick.color'] = COLOR\n",
    "mpl.rcParams['ytick.color'] = COLOR\n",
    "mpl.rcParams['axes.facecolor'] = 'white'\n",
    "mpl.rcParams['figure.facecolor'] = 'white'\n",
    "mpl.rc('text', usetex=True)\n",
    "mpl.rcParams['xtick.major.size'] = 7\n",
    "mpl.rcParams['xtick.major.width'] = 2\n",
    "mpl.rcParams['xtick.major.pad'] = 8\n",
    "mpl.rcParams['xtick.minor.size'] = 4\n",
    "mpl.rcParams['xtick.minor.width'] = 2\n",
    "mpl.rcParams['ytick.major.size'] = 7\n",
    "mpl.rcParams['ytick.major.width'] = 2\n",
    "mpl.rcParams['ytick.minor.size'] = 4\n",
    "mpl.rcParams['ytick.minor.width'] = 2\n",
    "mpl.rcParams['axes.linewidth'] = 2\n",
    "mpl.rcParams['axes.grid'] = False\n",
    "plt.show()\n",
    "def sin(theta):\n",
    "    return np.sin(theta)\n",
    "def cos(theta):\n",
    "    return np.cos(theta)\n",
    "def exp(x):\n",
    "    return np.exp(x)\n",
    "pi=np.pi"
   ]
  },
  {
   "cell_type": "code",
   "execution_count": 10,
   "id": "a8f98810",
   "metadata": {
    "scrolled": true
   },
   "outputs": [
    {
     "data": {
      "text/plain": [
       "<KeysViewHDF5 ['GM(eV^3)I', 'GM(eV^3)R', 'H_LR(eV)I', 'H_LR(eV)R', 'H_L_free(eV)', 'H_L_minusplus(eV)I', 'H_L_minusplus(eV)R', 'H_Lz(eV)I', 'H_Lz(eV)R', 'H_R_free(eV)', 'H_R_plusminus(eV)I', 'H_R_plusminus(eV)R', 'H_Rz(eV)I', 'H_Rz(eV)R', 'J(eV^3)I', 'J(eV^3)R', 'J_a(eV^3)I', 'J_a(eV^3)R', 'J_p(eV^3)I', 'J_p(eV^3)R', 'S_L(eV)I', 'S_L(eV)R', 'S_L_kappa(eV)I', 'S_L_kappa(eV)R', 'S_L_minus(eV)I', 'S_L_minus(eV)R', 'S_L_plus(eV)I', 'S_L_plus(eV)R', 'S_R(eV)I', 'S_R(eV)R', 'S_R_kappa(eV)I', 'S_R_kappa(eV)R', 'S_R_minus(eV)I', 'S_R_minus(eV)R', 'S_R_plus(eV)I', 'S_R_plus(eV)R', 't(s)', 'z(cm)']>"
      ]
     },
     "execution_count": 10,
     "metadata": {},
     "output_type": "execute_result"
    }
   ],
   "source": [
    "spinflip_directory = \"/home/henryrpg/Desktop/N3AS/data/criticalpoint_spin_flip_matrices_0_0_.h5\"\n",
    "sf_file = h5py.File(spinflip_directory,'r')\n",
    "sf_file.keys()"
   ]
  },
  {
   "cell_type": "code",
   "execution_count": 114,
   "id": "708786af",
   "metadata": {},
   "outputs": [],
   "source": [
    "J = sft.total(sf_file, 'J(eV^3)')"
   ]
  },
  {
   "cell_type": "code",
   "execution_count": 251,
   "id": "9f11cc91",
   "metadata": {},
   "outputs": [],
   "source": [
    "H = Hamiltonian(h5py.File(spinflip_directory,'r'),0)"
   ]
  },
  {
   "cell_type": "code",
   "execution_count": null,
   "id": "914b18ac",
   "metadata": {},
   "outputs": [],
   "source": [
    "np.linalg.eig(H)[1]"
   ]
  },
  {
   "cell_type": "code",
   "execution_count": 243,
   "id": "26001af7",
   "metadata": {
    "scrolled": true
   },
   "outputs": [
    {
     "name": "stdout",
     "output_type": "stream",
     "text": [
      "[-9.49188012e-05+0.00000000e+00j -1.95901844e-10+4.60105468e-11j\n",
      " -1.22437930e-09+3.05689894e-10j  1.70795641e-18+6.04926802e-24j\n",
      "  2.53870429e-20+1.75096567e-19j  2.41791614e-19+1.09480993e-18j]\n",
      "[-1.95901844e-10-4.60105468e-11j -4.74508796e-05+0.00000000e+00j\n",
      "  1.52921290e-10+3.05388526e-12j  3.27978338e-20-1.75099754e-19j\n",
      "  8.22454742e-19+4.45510304e-24j  3.28639178e-21+6.44644898e-23j]\n",
      "[-1.22437930e-09-3.05689894e-10j  1.52921290e-10-3.05388526e-12j\n",
      " -4.74498048e-05+0.00000000e+00j  2.37186856e-19-1.09480379e-18j\n",
      "  3.41340700e-21-4.07559525e-23j  8.45306562e-19-3.74455686e-23j]\n",
      "[ 1.70795641e-18-6.04926802e-24j  3.27978338e-20+1.75099754e-19j\n",
      "  2.37186856e-19+1.09480379e-18j  9.49587788e-05+0.00000000e+00j\n",
      " -1.95148665e-10+4.60105468e-11j -1.22426912e-09+3.05689894e-10j]\n",
      "[ 2.53870429e-20-1.75096567e-19j  8.22454742e-19-4.45510304e-24j\n",
      "  3.41340700e-21+4.07559525e-23j -1.95148665e-10-4.60105468e-11j\n",
      "  4.74879104e-05+0.00000000e+00j  1.52921290e-10+3.05388526e-12j]\n",
      "[ 2.41791614e-19-1.09480993e-18j  3.28639178e-21-6.44644898e-23j\n",
      "  8.45306562e-19+3.74455686e-23j -1.22426912e-09-3.05689894e-10j\n",
      "  1.52921290e-10-3.05388526e-12j  4.74889852e-05+0.00000000e+00j]\n"
     ]
    }
   ],
   "source": [
    "for n in range(0,6):\n",
    "    print(Hamiltonian(h5py.File(spinflip_directory,'r'),0)[n])"
   ]
  },
  {
   "cell_type": "code",
   "execution_count": 245,
   "id": "da300ad0",
   "metadata": {},
   "outputs": [
    {
     "data": {
      "text/plain": [
       "array([[1.70795641e-18+6.04926802e-24j, 2.53870429e-20+1.75096567e-19j,\n",
       "        2.41791614e-19+1.09480993e-18j],\n",
       "       [3.27978338e-20-1.75099754e-19j, 8.22454742e-19+4.45510304e-24j,\n",
       "        3.28639178e-21+6.44644898e-23j],\n",
       "       [2.37186856e-19-1.09480379e-18j, 3.41340700e-21-4.07559525e-23j,\n",
       "        8.45306562e-19-3.74455686e-23j]])"
      ]
     },
     "execution_count": 245,
     "metadata": {},
     "output_type": "execute_result"
    }
   ],
   "source": [
    "H_LR[0]"
   ]
  },
  {
   "cell_type": "code",
   "execution_count": 240,
   "id": "2b5fbc6f",
   "metadata": {},
   "outputs": [],
   "source": [
    "sf_file = h5py.File(spinflip_directory,'r')\n",
    "\n",
    "H_L = np.average(sft.total(sf_file, 'H_Lz(eV)'),axis=3)\n",
    "\n",
    "H_R = np.average(sft.total(sf_file, 'H_Rz(eV)'), axis = 3)\n",
    "\n",
    "H_LR = np.average(sft.total(sf_file, 'H_LR(eV)'), axis = 3)\n",
    "    "
   ]
  },
  {
   "cell_type": "code",
   "execution_count": 387,
   "id": "c5d2750f",
   "metadata": {},
   "outputs": [],
   "source": [
    "def Hamiltonian(sf_file,t):\n",
    "    H_L = sft.total(sf_file, 'H_Lz(eV)')\n",
    "\n",
    "    H_R = sft.total(sf_file, 'H_Rz(eV)')\n",
    "\n",
    "    H_LR = sft.total(sf_file, 'H_LR(eV)')\n",
    "\n",
    "    return np.average(np.concatenate((np.concatenate( (H_R, np.conjugate(H_LR.transpose(0,2,1,3))), axis=1),\n",
    "                    np.concatenate((H_LR, H_L), axis = 1)), axis = 2), axis= 3)[t,:,:]\n",
    "\n",
    "\n",
    "class Diagonalizer:\n",
    "    def __init__(self, filepath, t=0):\n",
    "        \n",
    "        self.sf_file = h5py.File(filepath,'r')\n",
    "            \n",
    "        #get Hamiltonian\n",
    "        \n",
    "        self.H = Hamiltonian(self.sf_file, t)\n",
    "        self.Hsize = self.H.shape[1]\n",
    "       \n",
    "        #list of eigenvalues \n",
    "        self.eigenvals = (1+0*1j)*np.real(np.linalg.eig(self.H)[0] )\n",
    "\n",
    "        #(inverted) array of normalized eigenvectors\n",
    "        #a.k.a. change of basis matrix from Energy to flavor/spin\n",
    "        #ket_f = f_to_e(ket_e)\n",
    "        #H_f = (f_to_e) H_diag (e_to f)^-1\n",
    "        self.f_to_e = (1+0*1j)*np.linalg.inv(np.linalg.eig(self.H)[1]) \n",
    "        \n",
    "        self.H_diag = self.f_to_e @ self.H @ np.linalg.inv(self.f_to_e)\n",
    "    #Time evolution operator in energy basis\n",
    "    def U_energy(self, t):\n",
    "        return np.diag([exp(-1j*eigenvalue*t) for eigenvalue in self.eigenvals])\n",
    "   \n",
    "    def U_flavor(self, t):\n",
    "        return self.f_to_e @ self.U_energy(t) @ np.linalg.inv(self.f_to_e)\n",
    "    \n",
    "    #time array of neutrino density matrix, with init_array as intial condition\n",
    "    def state_evolution(self, resolution, t_lim, init_array = np.diag((1,1,1,1,1,1))):\n",
    "        return np.array([self.U_flavor(t) @ init_array @ np.linalg.inv(self.U_flavor(t)) for t in np.linspace(0, t_lim, resolution)])\n",
    "    \n",
    "    def state_evolution_plotter(self, resolution, t_lim, init_array = np.diag((1,1,1,1,1,1))):\n",
    "        flavornum = self.Hsize//2\n",
    "        left_minus_right = np.trace(self.state_evolution(\n",
    "            resolution, t_lim, init_array)[:,0:flavornum,0:flavornum], axis1=2, axis2 =1\n",
    "                                   ) - np.trace(self.state_evolution(resolution, t_lim, init_array)[:,flavornum:2*flavornum,flavornum:2*flavornum], axis1=1, axis2 =2)\n",
    "        print(np.min(left_minus_right))\n",
    "        print(np.max(left_minus_right))\n",
    "\n",
    "        f, ax = plt.subplots()\n",
    "        ax.set_ylabel('right trace minus left trace')\n",
    "        ax.set_xlabel('s')\n",
    "        ax.plot(np.linspace(0,t_lim,resolution), left_minus_right)"
   ]
  },
  {
   "cell_type": "code",
   "execution_count": 388,
   "id": "cce62d29",
   "metadata": {
    "scrolled": false
   },
   "outputs": [
    {
     "name": "stdout",
     "output_type": "stream",
     "text": [
      "(0.9999999999999997+1.573470361031295e-17j)\n",
      "(1.0000000000000004+2.9374154993648938e-18j)\n"
     ]
    },
    {
     "data": {
      "image/png": "[encoded data removed]",
      "text/plain": [
       "<Figure size 432x288 with 1 Axes>"
      ]
     },
     "metadata": {},
     "output_type": "display_data"
    }
   ],
   "source": [
    "Diagonalizer(spinflip_directory, 100).state_evolution_plotter(1000,1, init_array = np.diag((1,1,1,0,0,0)))"
   ]
  },
  {
   "cell_type": "code",
   "execution_count": 466,
   "id": "722ede2a",
   "metadata": {},
   "outputs": [],
   "source": [
    "def Hamiltonian(sf_file,t):\n",
    "    H_L = sft.total(sf_file, 'H_Lz(eV)')\n",
    "\n",
    "    H_R = sft.total(sf_file, 'H_Rz(eV)')\n",
    "    H_LR = sft.total(sf_file, 'H_LR(eV)')\n",
    "\n",
    "    return np.average(np.concatenate((np.concatenate( (H_R, np.conjugate(H_LR.transpose(0,2,1,3))), axis=1),\n",
    "                    np.concatenate((H_LR, H_L), axis = 1)), axis = 2), axis= 3)[t,:,:]\n",
    "\n",
    "\n",
    "class Diagonalizer_debug:\n",
    "    def __init__(self, filepath, t=0, H = None):\n",
    "        \n",
    "        self.sf_file = h5py.File(filepath,'r')\n",
    "            \n",
    "        #get Hamiltonian\n",
    "        if H is None:\n",
    "            self.H = Hamiltonian(self.sf_file, t)\n",
    "        else: \n",
    "            self.H = H\n",
    "        self.Hsize = self.H.shape[1]\n",
    "        #list of eigenvalues \n",
    "        self.eigenvals = (1+0*1j)*np.real(np.linalg.eig(self.H)[0] )\n",
    "\n",
    "        #(inverted) array of normalized eigenvectors\n",
    "        #a.k.a. change of basis matrix from Energy to flavor/spin\n",
    "        #ket_f = f_to_e(ket_e)\n",
    "        #H_f = (f_to_e) H_diag (e_to f)^-1\n",
    "        self.f_to_e = (1+0*1j)*np.linalg.inv(np.linalg.eig(self.H)[1]) \n",
    "        \n",
    "        self.H_diag = self.f_to_e @ self.H @ np.linalg.inv(self.f_to_e)\n",
    "    #Time evolution operator in energy basis\n",
    "    def U_energy(self, t):\n",
    "        return np.diag([exp(-1j*eigenvalue*t) for eigenvalue in self.eigenvals])\n",
    "   \n",
    "    def U_flavor(self, t):\n",
    "        return self.f_to_e @ self.U_energy(t) @ np.linalg.inv(self.f_to_e)\n",
    "   \n",
    "    #time array of neutrino density matrix, with init_array as intial condition\n",
    "    def state_evolution(self, resolution, t_lim, init_array):\n",
    "        return np.array([self.U_flavor(t) @ init_array @ np.linalg.inv(self.U_flavor(t)) for t in np.linspace(0, t_lim, resolution)])\n",
    "    \n",
    "    def state_evolution_plotter(self, resolution, t_lim, init_array = np.diag((1,0,0,0,0,0))):\n",
    "        flavornum = self.Hsize//2\n",
    "        state_vs_time = self.state_evolution(resolution, t_lim, init_array)\n",
    "        state_left = np.trace(state_vs_time[:,0:flavornum,0:flavornum], axis1= 1, axis2 = 2)\n",
    "        state_right = np.trace(state_vs_time[:,flavornum:2*flavornum,flavornum:2*flavornum], axis1= 1, axis2 = 2)\n",
    "        left_minus_right = state_left - state_right\n",
    "        \n",
    "        #electron_part = self.state_evolution(resolution, t_lim, init_array)[:,0,0]\n",
    "        f, ax = plt.subplots()\n",
    "        ax.set_ylabel('right trace minus left trace')\n",
    "        ax.set_xlabel('s')\n",
    "        ax.set_ylim(0,2E-15)\n",
    "        qty = np.real(state_vs_time[:,3,3])\n",
    "        ax.plot(np.linspace(0,t_lim,resolution),qty)\n",
    "        print(np.min(qty))\n",
    "        print(np.max(qty))"
   ]
  },
  {
   "cell_type": "code",
   "execution_count": 467,
   "id": "a4fc4056",
   "metadata": {},
   "outputs": [
    {
     "name": "stdout",
     "output_type": "stream",
     "text": [
      "1.4374712299762738e-56\n",
      "1.1434596929023293e-23\n",
      "0.0\n",
      "0.0\n"
     ]
    },
    {
     "data": {
      "image/png": "[encoded data removed]",
      "text/plain": [
       "<Figure size 432x288 with 1 Axes>"
      ]
     },
     "metadata": {},
     "output_type": "display_data"
    },
    {
     "data": {
      "image/png": "[encoded data removed]",
      "text/plain": [
       "<Figure size 432x288 with 1 Axes>"
      ]
     },
     "metadata": {},
     "output_type": "display_data"
    }
   ],
   "source": [
    "Htest= np.zeros((6,6))\n",
    "Htest[3,0]=1\n",
    "Htest[0,3]=1\n",
    "Diagonalizer_debug(spinflip_directory, 100).state_evolution_plotter(1000,10000E1, init_array = np.diag((1,0,0,0,0,0)))\n",
    "Diagonalizer_debug(spinflip_directory, 100, H= Htest).state_evolution_plotter(1000,1E1, init_array = np.diag((1,2,0,0,0,0)))\n",
    "#Diagonalizer_debug(spinflip_directory, 100, H= np.array([[0,1],[1,0]])).state_evolution_plotter(1000,1E1, init_array = np.diag((1,0)))\n"
   ]
  },
  {
   "cell_type": "code",
   "execution_count": 431,
   "id": "539af5ba",
   "metadata": {},
   "outputs": [
    {
     "data": {
      "text/plain": [
       "array([[0., 0., 0., 1., 0., 0.],\n",
       "       [0., 0., 0., 0., 0., 0.],\n",
       "       [0., 0., 0., 0., 0., 0.],\n",
       "       [1., 0., 0., 0., 0., 0.],\n",
       "       [0., 0., 0., 0., 0., 0.],\n",
       "       [0., 0., 0., 0., 0., 0.]])"
      ]
     },
     "execution_count": 431,
     "metadata": {},
     "output_type": "execute_result"
    }
   ],
   "source": [
    "Htest"
   ]
  },
  {
   "cell_type": "code",
   "execution_count": 398,
   "id": "f011bfb3",
   "metadata": {
    "scrolled": true
   },
   "outputs": [
    {
     "name": "stdout",
     "output_type": "stream",
     "text": [
      "1.1174654358992635e-09\n",
      "5.890222066424039e-07\n"
     ]
    }
   ],
   "source": [
    "evals = (np.linalg.eigvals(Diagonalizer_debug(spinflip_directory, 0).H_diag))\n",
    "min_eval_difference = 1e100\n",
    "for i in range(len(evals)):\n",
    "    for j in range(i+1,len(evals)):\n",
    "        diff = np.abs(evals[i]-evals[j])\n",
    "        if diff>0: min_eval_difference = min(diff,min_eval_difference)\n",
    "print(min_eval_difference)\n",
    "max_timescale = hbar/min_eval_difference\n",
    "print(max_timescale)"
   ]
  },
  {
   "cell_type": "code",
   "execution_count": null,
   "id": "b2afccc1",
   "metadata": {},
   "outputs": [],
   "source": []
  },
  {
   "cell_type": "code",
   "execution_count": 175,
   "id": "667db691",
   "metadata": {},
   "outputs": [
    {
     "name": "stderr",
     "output_type": "stream",
     "text": [
      "/home/henryrpg/.local/lib/python3.8/site-packages/matplotlib/cbook/__init__.py:1298: ComplexWarning: Casting complex values to real discards the imaginary part\n",
      "  return np.asarray(x, float)\n"
     ]
    },
    {
     "data": {
      "text/plain": [
       "[<matplotlib.lines.Line2D at 0x7fb920461fa0>]"
      ]
     },
     "execution_count": 175,
     "metadata": {},
     "output_type": "execute_result"
    },
    {
     "data": {
      "image/png": "[encoded data removed]",
      "text/plain": [
       "<Figure size 432x288 with 1 Axes>"
      ]
     },
     "metadata": {},
     "output_type": "display_data"
    }
   ],
   "source": [
    "t_sim = 10\n",
    "resolution = 300\n",
    "timescale =0.1*1E-7**-1\n",
    "state_evolution = np.array([(U(t, t_sim) @ np.diag((1,1,1,1,1,1))) for t in np.linspace(0, timescale, resolution)])\n",
    " \n",
    "left_minus_right = np.trace(state_evolution[:,0:3,0:3], axis1=2, axis2 =1) - np.trace(state_evolution[:,3:6,3:6], axis1=2, axis2 =1)\n",
    "\n",
    "\n",
    "plt.plot(np.linspace(0,timescale,resolution), left_minus_right)\n",
    "                                          \n",
    "                                          "
   ]
  },
  {
   "cell_type": "code",
   "execution_count": 125,
   "id": "d6405395",
   "metadata": {},
   "outputs": [
    {
     "data": {
      "text/plain": [
       "(30, 6, 6)"
      ]
     },
     "execution_count": 125,
     "metadata": {},
     "output_type": "execute_result"
    }
   ],
   "source": [
    "np.shape(state_evolution)"
   ]
  },
  {
   "cell_type": "code",
   "execution_count": 146,
   "id": "e2cebef8",
   "metadata": {},
   "outputs": [
    {
     "data": {
      "text/plain": [
       "array([-9.49188012e-05+0.j, -4.74497834e-05+0.j, -4.74509009e-05+0.j,\n",
       "        9.49587788e-05+0.j,  4.74890065e-05+0.j,  4.74878890e-05+0.j])"
      ]
     },
     "execution_count": 146,
     "metadata": {},
     "output_type": "execute_result"
    }
   ],
   "source": [
    "Diagonalizer(spinflip_directory, t_sim).eigenvals"
   ]
  },
  {
   "cell_type": "code",
   "execution_count": null,
   "id": "6ed16645",
   "metadata": {},
   "outputs": [],
   "source": []
  }
 ],
 "metadata": {
  "kernelspec": {
   "display_name": "Python 3 (ipykernel)",
   "language": "python",
   "name": "python3"
  },
  "language_info": {
   "codemirror_mode": {
    "name": "ipython",
    "version": 3
   },
   "file_extension": ".py",
   "mimetype": "text/x-python",
   "name": "python",
   "nbconvert_exporter": "python",
   "pygments_lexer": "ipython3",
   "version": "3.8.10"
  }
 },
 "nbformat": 4,
 "nbformat_minor": 5
}

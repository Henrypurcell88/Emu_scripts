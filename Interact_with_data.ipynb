{
 "cells": [
  {
   "cell_type": "code",
   "execution_count": 6,
   "id": "a071ffb4",
   "metadata": {
    "scrolled": true
   },
   "outputs": [
    {
     "data": {
      "text/plain": [
       "<module 'spin_flip_tools' from '/home/henryrpg/Desktop/N3AS/Emu_scripts/data_reduction/spin_flip_tools.py'>"
      ]
     },
     "execution_count": 6,
     "metadata": {},
     "output_type": "execute_result"
    }
   ],
   "source": [
    "#CHDIR COMMAND ONLY FOR JUPYTER\n",
    "import os\n",
    "import sys\n",
    "sys.path.append(\"/home/henryrpg/Desktop/N3AS/Emu_scripts/data_reduction\")\n",
    "import yt\n",
    "import numpy as np\n",
    "import matplotlib.pyplot as plt\n",
    "import h5py\n",
    "import amrex_plot_tools as amrex\n",
    "import emu_yt_module as emu\n",
    "import spin_flip_tools as sft\n",
    "\n",
    "# For ease of development, reload the relevant modules to make sure they are up to date.\n",
    "import importlib\n",
    "import reduce_data\n",
    "importlib.reload(reduce_data)\n",
    "importlib.reload(sft)"
   ]
  },
  {
   "cell_type": "code",
   "execution_count": null,
   "id": "872cc859",
   "metadata": {},
   "outputs": [],
   "source": [
    "#terms=np.zeros((48,3))\n",
    "#for n in np.arange(0,4900,100):\n",
    "#    terms[n,:]=scalar_avg(interact(\"plt\"+str(n).zfill(5)))\n",
    "#terms\n",
    "terms=[[sft.scalar_avg(sft.interact(\"/home/srichers/data/1D_fiducial/plt\"+str(n).zfill(5))[k]) for k in range(0,3)] for n in np.arange(0,4850,10)]"
   ]
  },
  {
   "cell_type": "code",
   "execution_count": 8,
   "id": "47d5117c",
   "metadata": {},
   "outputs": [
    {
     "name": "stderr",
     "output_type": "stream",
     "text": [
      "yt : [INFO     ] 2022-01-11 17:27:16,939 Parameters: current_time              = 0.0\n",
      "yt : [INFO     ] 2022-01-11 17:27:16,940 Parameters: domain_dimensions         = [   1    1 1024]\n",
      "yt : [INFO     ] 2022-01-11 17:27:16,942 Parameters: domain_left_edge          = [0. 0. 0.]\n",
      "yt : [INFO     ] 2022-01-11 17:27:16,943 Parameters: domain_right_edge         = [ 1.  1. 64.]\n"
     ]
    },
    {
     "name": "stdout",
     "output_type": "stream",
     "text": [
      "1 1 1024\n"
     ]
    },
    {
     "name": "stderr",
     "output_type": "stream",
     "text": [
      "yt : [INFO     ] 2022-01-11 17:27:19,443 Parameters: current_time              = 8.848062431774101e-11\n",
      "yt : [INFO     ] 2022-01-11 17:27:19,444 Parameters: domain_dimensions         = [   1    1 1024]\n",
      "yt : [INFO     ] 2022-01-11 17:27:19,445 Parameters: domain_left_edge          = [0. 0. 0.]\n",
      "yt : [INFO     ] 2022-01-11 17:27:19,446 Parameters: domain_right_edge         = [ 1.  1. 64.]\n"
     ]
    },
    {
     "name": "stdout",
     "output_type": "stream",
     "text": [
      "1 1 1024\n"
     ]
    },
    {
     "name": "stderr",
     "output_type": "stream",
     "text": [
      "yt : [INFO     ] 2022-01-11 17:27:22,001 Parameters: current_time              = 1.76961250807161e-10\n",
      "yt : [INFO     ] 2022-01-11 17:27:22,002 Parameters: domain_dimensions         = [   1    1 1024]\n",
      "yt : [INFO     ] 2022-01-11 17:27:22,002 Parameters: domain_left_edge          = [0. 0. 0.]\n",
      "yt : [INFO     ] 2022-01-11 17:27:22,003 Parameters: domain_right_edge         = [ 1.  1. 64.]\n"
     ]
    },
    {
     "name": "stdout",
     "output_type": "stream",
     "text": [
      "1 1 1024\n"
     ]
    },
    {
     "name": "stderr",
     "output_type": "stream",
     "text": [
      "yt : [INFO     ] 2022-01-11 17:27:24,579 Parameters: current_time              = 2.656372357805686e-10\n",
      "yt : [INFO     ] 2022-01-11 17:27:24,579 Parameters: domain_dimensions         = [   1    1 1024]\n",
      "yt : [INFO     ] 2022-01-11 17:27:24,581 Parameters: domain_left_edge          = [0. 0. 0.]\n",
      "yt : [INFO     ] 2022-01-11 17:27:24,582 Parameters: domain_right_edge         = [ 1.  1. 64.]\n"
     ]
    },
    {
     "name": "stdout",
     "output_type": "stream",
     "text": [
      "1 1 1024\n"
     ]
    },
    {
     "name": "stderr",
     "output_type": "stream",
     "text": [
      "yt : [INFO     ] 2022-01-11 17:27:27,010 Parameters: current_time              = 3.684481874591211e-10\n",
      "yt : [INFO     ] 2022-01-11 17:27:27,011 Parameters: domain_dimensions         = [   1    1 1024]\n",
      "yt : [INFO     ] 2022-01-11 17:27:27,013 Parameters: domain_left_edge          = [0. 0. 0.]\n",
      "yt : [INFO     ] 2022-01-11 17:27:27,014 Parameters: domain_right_edge         = [ 1.  1. 64.]\n"
     ]
    },
    {
     "name": "stdout",
     "output_type": "stream",
     "text": [
      "1 1 1024\n"
     ]
    },
    {
     "name": "stderr",
     "output_type": "stream",
     "text": [
      "yt : [INFO     ] 2022-01-11 17:27:29,660 Parameters: current_time              = 4.726869672085441e-10\n",
      "yt : [INFO     ] 2022-01-11 17:27:29,661 Parameters: domain_dimensions         = [   1    1 1024]\n",
      "yt : [INFO     ] 2022-01-11 17:27:29,662 Parameters: domain_left_edge          = [0. 0. 0.]\n",
      "yt : [INFO     ] 2022-01-11 17:27:29,663 Parameters: domain_right_edge         = [ 1.  1. 64.]\n"
     ]
    },
    {
     "name": "stdout",
     "output_type": "stream",
     "text": [
      "1 1 1024\n"
     ]
    },
    {
     "name": "stderr",
     "output_type": "stream",
     "text": [
      "yt : [INFO     ] 2022-01-11 17:27:32,471 Parameters: current_time              = 5.769257469579671e-10\n",
      "yt : [INFO     ] 2022-01-11 17:27:32,472 Parameters: domain_dimensions         = [   1    1 1024]\n",
      "yt : [INFO     ] 2022-01-11 17:27:32,473 Parameters: domain_left_edge          = [0. 0. 0.]\n",
      "yt : [INFO     ] 2022-01-11 17:27:32,475 Parameters: domain_right_edge         = [ 1.  1. 64.]\n"
     ]
    },
    {
     "name": "stdout",
     "output_type": "stream",
     "text": [
      "1 1 1024\n"
     ]
    },
    {
     "name": "stderr",
     "output_type": "stream",
     "text": [
      "yt : [INFO     ] 2022-01-11 17:27:35,185 Parameters: current_time              = 6.811645267073901e-10\n",
      "yt : [INFO     ] 2022-01-11 17:27:35,187 Parameters: domain_dimensions         = [   1    1 1024]\n",
      "yt : [INFO     ] 2022-01-11 17:27:35,188 Parameters: domain_left_edge          = [0. 0. 0.]\n",
      "yt : [INFO     ] 2022-01-11 17:27:35,188 Parameters: domain_right_edge         = [ 1.  1. 64.]\n"
     ]
    },
    {
     "name": "stdout",
     "output_type": "stream",
     "text": [
      "1 1 1024\n"
     ]
    },
    {
     "name": "stderr",
     "output_type": "stream",
     "text": [
      "yt : [INFO     ] 2022-01-11 17:27:37,694 Parameters: current_time              = 7.854033064568131e-10\n",
      "yt : [INFO     ] 2022-01-11 17:27:37,695 Parameters: domain_dimensions         = [   1    1 1024]\n",
      "yt : [INFO     ] 2022-01-11 17:27:37,696 Parameters: domain_left_edge          = [0. 0. 0.]\n",
      "yt : [INFO     ] 2022-01-11 17:27:37,697 Parameters: domain_right_edge         = [ 1.  1. 64.]\n"
     ]
    },
    {
     "name": "stdout",
     "output_type": "stream",
     "text": [
      "1 1 1024\n"
     ]
    },
    {
     "name": "stderr",
     "output_type": "stream",
     "text": [
      "yt : [INFO     ] 2022-01-11 17:27:40,127 Parameters: current_time              = 8.89642086206236e-10\n",
      "yt : [INFO     ] 2022-01-11 17:27:40,128 Parameters: domain_dimensions         = [   1    1 1024]\n",
      "yt : [INFO     ] 2022-01-11 17:27:40,129 Parameters: domain_left_edge          = [0. 0. 0.]\n",
      "yt : [INFO     ] 2022-01-11 17:27:40,131 Parameters: domain_right_edge         = [ 1.  1. 64.]\n"
     ]
    },
    {
     "name": "stdout",
     "output_type": "stream",
     "text": [
      "1 1 1024\n"
     ]
    },
    {
     "name": "stderr",
     "output_type": "stream",
     "text": [
      "yt : [INFO     ] 2022-01-11 17:27:42,563 Parameters: current_time              = 9.93880865955659e-10\n",
      "yt : [INFO     ] 2022-01-11 17:27:42,564 Parameters: domain_dimensions         = [   1    1 1024]\n",
      "yt : [INFO     ] 2022-01-11 17:27:42,565 Parameters: domain_left_edge          = [0. 0. 0.]\n",
      "yt : [INFO     ] 2022-01-11 17:27:42,566 Parameters: domain_right_edge         = [ 1.  1. 64.]\n"
     ]
    },
    {
     "name": "stdout",
     "output_type": "stream",
     "text": [
      "1 1 1024\n"
     ]
    },
    {
     "name": "stderr",
     "output_type": "stream",
     "text": [
      "yt : [INFO     ] 2022-01-11 17:27:45,181 Parameters: current_time              = 1.098119645705082e-09\n",
      "yt : [INFO     ] 2022-01-11 17:27:45,182 Parameters: domain_dimensions         = [   1    1 1024]\n",
      "yt : [INFO     ] 2022-01-11 17:27:45,183 Parameters: domain_left_edge          = [0. 0. 0.]\n",
      "yt : [INFO     ] 2022-01-11 17:27:45,184 Parameters: domain_right_edge         = [ 1.  1. 64.]\n"
     ]
    },
    {
     "name": "stdout",
     "output_type": "stream",
     "text": [
      "1 1 1024\n"
     ]
    },
    {
     "name": "stderr",
     "output_type": "stream",
     "text": [
      "yt : [INFO     ] 2022-01-11 17:27:48,021 Parameters: current_time              = 1.202358425454505e-09\n",
      "yt : [INFO     ] 2022-01-11 17:27:48,023 Parameters: domain_dimensions         = [   1    1 1024]\n",
      "yt : [INFO     ] 2022-01-11 17:27:48,024 Parameters: domain_left_edge          = [0. 0. 0.]\n",
      "yt : [INFO     ] 2022-01-11 17:27:48,026 Parameters: domain_right_edge         = [ 1.  1. 64.]\n"
     ]
    },
    {
     "name": "stdout",
     "output_type": "stream",
     "text": [
      "1 1 1024\n"
     ]
    },
    {
     "name": "stderr",
     "output_type": "stream",
     "text": [
      "yt : [INFO     ] 2022-01-11 17:27:50,900 Parameters: current_time              = 1.306597205203928e-09\n",
      "yt : [INFO     ] 2022-01-11 17:27:50,901 Parameters: domain_dimensions         = [   1    1 1024]\n",
      "yt : [INFO     ] 2022-01-11 17:27:50,902 Parameters: domain_left_edge          = [0. 0. 0.]\n",
      "yt : [INFO     ] 2022-01-11 17:27:50,903 Parameters: domain_right_edge         = [ 1.  1. 64.]\n"
     ]
    },
    {
     "name": "stdout",
     "output_type": "stream",
     "text": [
      "1 1 1024\n"
     ]
    },
    {
     "name": "stderr",
     "output_type": "stream",
     "text": [
      "yt : [INFO     ] 2022-01-11 17:27:53,403 Parameters: current_time              = 1.410835984953351e-09\n",
      "yt : [INFO     ] 2022-01-11 17:27:53,404 Parameters: domain_dimensions         = [   1    1 1024]\n",
      "yt : [INFO     ] 2022-01-11 17:27:53,405 Parameters: domain_left_edge          = [0. 0. 0.]\n",
      "yt : [INFO     ] 2022-01-11 17:27:53,406 Parameters: domain_right_edge         = [ 1.  1. 64.]\n"
     ]
    },
    {
     "name": "stdout",
     "output_type": "stream",
     "text": [
      "1 1 1024\n"
     ]
    },
    {
     "name": "stderr",
     "output_type": "stream",
     "text": [
      "yt : [INFO     ] 2022-01-11 17:27:55,828 Parameters: current_time              = 1.515074764702774e-09\n",
      "yt : [INFO     ] 2022-01-11 17:27:55,829 Parameters: domain_dimensions         = [   1    1 1024]\n",
      "yt : [INFO     ] 2022-01-11 17:27:55,830 Parameters: domain_left_edge          = [0. 0. 0.]\n",
      "yt : [INFO     ] 2022-01-11 17:27:55,831 Parameters: domain_right_edge         = [ 1.  1. 64.]\n"
     ]
    },
    {
     "name": "stdout",
     "output_type": "stream",
     "text": [
      "1 1 1024\n"
     ]
    },
    {
     "name": "stderr",
     "output_type": "stream",
     "text": [
      "yt : [INFO     ] 2022-01-11 17:27:58,194 Parameters: current_time              = 1.619313544452197e-09\n",
      "yt : [INFO     ] 2022-01-11 17:27:58,195 Parameters: domain_dimensions         = [   1    1 1024]\n",
      "yt : [INFO     ] 2022-01-11 17:27:58,196 Parameters: domain_left_edge          = [0. 0. 0.]\n",
      "yt : [INFO     ] 2022-01-11 17:27:58,197 Parameters: domain_right_edge         = [ 1.  1. 64.]\n"
     ]
    },
    {
     "name": "stdout",
     "output_type": "stream",
     "text": [
      "1 1 1024\n"
     ]
    },
    {
     "name": "stderr",
     "output_type": "stream",
     "text": [
      "yt : [INFO     ] 2022-01-11 17:28:00,640 Parameters: current_time              = 1.72355232420162e-09\n",
      "yt : [INFO     ] 2022-01-11 17:28:00,641 Parameters: domain_dimensions         = [   1    1 1024]\n",
      "yt : [INFO     ] 2022-01-11 17:28:00,642 Parameters: domain_left_edge          = [0. 0. 0.]\n",
      "yt : [INFO     ] 2022-01-11 17:28:00,642 Parameters: domain_right_edge         = [ 1.  1. 64.]\n"
     ]
    },
    {
     "name": "stdout",
     "output_type": "stream",
     "text": [
      "1 1 1024\n"
     ]
    },
    {
     "name": "stderr",
     "output_type": "stream",
     "text": [
      "yt : [INFO     ] 2022-01-11 17:28:03,070 Parameters: current_time              = 1.827791103951043e-09\n",
      "yt : [INFO     ] 2022-01-11 17:28:03,071 Parameters: domain_dimensions         = [   1    1 1024]\n",
      "yt : [INFO     ] 2022-01-11 17:28:03,072 Parameters: domain_left_edge          = [0. 0. 0.]\n",
      "yt : [INFO     ] 2022-01-11 17:28:03,073 Parameters: domain_right_edge         = [ 1.  1. 64.]\n"
     ]
    },
    {
     "name": "stdout",
     "output_type": "stream",
     "text": [
      "1 1 1024\n"
     ]
    },
    {
     "name": "stderr",
     "output_type": "stream",
     "text": [
      "yt : [INFO     ] 2022-01-11 17:28:05,506 Parameters: current_time              = 1.932029883700466e-09\n",
      "yt : [INFO     ] 2022-01-11 17:28:05,507 Parameters: domain_dimensions         = [   1    1 1024]\n",
      "yt : [INFO     ] 2022-01-11 17:28:05,508 Parameters: domain_left_edge          = [0. 0. 0.]\n",
      "yt : [INFO     ] 2022-01-11 17:28:05,509 Parameters: domain_right_edge         = [ 1.  1. 64.]\n"
     ]
    },
    {
     "name": "stdout",
     "output_type": "stream",
     "text": [
      "1 1 1024\n"
     ]
    },
    {
     "name": "stderr",
     "output_type": "stream",
     "text": [
      "yt : [INFO     ] 2022-01-11 17:28:07,902 Parameters: current_time              = 2.036268663449889e-09\n",
      "yt : [INFO     ] 2022-01-11 17:28:07,903 Parameters: domain_dimensions         = [   1    1 1024]\n",
      "yt : [INFO     ] 2022-01-11 17:28:07,904 Parameters: domain_left_edge          = [0. 0. 0.]\n",
      "yt : [INFO     ] 2022-01-11 17:28:07,905 Parameters: domain_right_edge         = [ 1.  1. 64.]\n"
     ]
    },
    {
     "name": "stdout",
     "output_type": "stream",
     "text": [
      "1 1 1024\n"
     ]
    },
    {
     "name": "stderr",
     "output_type": "stream",
     "text": [
      "yt : [INFO     ] 2022-01-11 17:28:10,607 Parameters: current_time              = 2.140507443199312e-09\n",
      "yt : [INFO     ] 2022-01-11 17:28:10,609 Parameters: domain_dimensions         = [   1    1 1024]\n",
      "yt : [INFO     ] 2022-01-11 17:28:10,610 Parameters: domain_left_edge          = [0. 0. 0.]\n",
      "yt : [INFO     ] 2022-01-11 17:28:10,612 Parameters: domain_right_edge         = [ 1.  1. 64.]\n"
     ]
    },
    {
     "name": "stdout",
     "output_type": "stream",
     "text": [
      "1 1 1024\n"
     ]
    },
    {
     "name": "stderr",
     "output_type": "stream",
     "text": [
      "yt : [INFO     ] 2022-01-11 17:28:13,223 Parameters: current_time              = 2.244746222948735e-09\n",
      "yt : [INFO     ] 2022-01-11 17:28:13,224 Parameters: domain_dimensions         = [   1    1 1024]\n",
      "yt : [INFO     ] 2022-01-11 17:28:13,225 Parameters: domain_left_edge          = [0. 0. 0.]\n",
      "yt : [INFO     ] 2022-01-11 17:28:13,226 Parameters: domain_right_edge         = [ 1.  1. 64.]\n"
     ]
    },
    {
     "name": "stdout",
     "output_type": "stream",
     "text": [
      "1 1 1024\n"
     ]
    },
    {
     "name": "stderr",
     "output_type": "stream",
     "text": [
      "yt : [INFO     ] 2022-01-11 17:28:15,682 Parameters: current_time              = 2.348985002698158e-09\n",
      "yt : [INFO     ] 2022-01-11 17:28:15,683 Parameters: domain_dimensions         = [   1    1 1024]\n",
      "yt : [INFO     ] 2022-01-11 17:28:15,684 Parameters: domain_left_edge          = [0. 0. 0.]\n",
      "yt : [INFO     ] 2022-01-11 17:28:15,685 Parameters: domain_right_edge         = [ 1.  1. 64.]\n"
     ]
    },
    {
     "name": "stdout",
     "output_type": "stream",
     "text": [
      "1 1 1024\n"
     ]
    },
    {
     "name": "stderr",
     "output_type": "stream",
     "text": [
      "yt : [INFO     ] 2022-01-11 17:28:18,465 Parameters: current_time              = 2.453223782447581e-09\n",
      "yt : [INFO     ] 2022-01-11 17:28:18,466 Parameters: domain_dimensions         = [   1    1 1024]\n",
      "yt : [INFO     ] 2022-01-11 17:28:18,468 Parameters: domain_left_edge          = [0. 0. 0.]\n",
      "yt : [INFO     ] 2022-01-11 17:28:18,470 Parameters: domain_right_edge         = [ 1.  1. 64.]\n"
     ]
    },
    {
     "name": "stdout",
     "output_type": "stream",
     "text": [
      "1 1 1024\n"
     ]
    },
    {
     "name": "stderr",
     "output_type": "stream",
     "text": [
      "yt : [INFO     ] 2022-01-11 17:28:21,420 Parameters: current_time              = 2.557462562197004e-09\n",
      "yt : [INFO     ] 2022-01-11 17:28:21,421 Parameters: domain_dimensions         = [   1    1 1024]\n",
      "yt : [INFO     ] 2022-01-11 17:28:21,422 Parameters: domain_left_edge          = [0. 0. 0.]\n",
      "yt : [INFO     ] 2022-01-11 17:28:21,422 Parameters: domain_right_edge         = [ 1.  1. 64.]\n"
     ]
    },
    {
     "name": "stdout",
     "output_type": "stream",
     "text": [
      "1 1 1024\n"
     ]
    },
    {
     "name": "stderr",
     "output_type": "stream",
     "text": [
      "yt : [INFO     ] 2022-01-11 17:28:23,943 Parameters: current_time              = 2.661701341946427e-09\n",
      "yt : [INFO     ] 2022-01-11 17:28:23,944 Parameters: domain_dimensions         = [   1    1 1024]\n",
      "yt : [INFO     ] 2022-01-11 17:28:23,945 Parameters: domain_left_edge          = [0. 0. 0.]\n",
      "yt : [INFO     ] 2022-01-11 17:28:23,946 Parameters: domain_right_edge         = [ 1.  1. 64.]\n"
     ]
    },
    {
     "name": "stdout",
     "output_type": "stream",
     "text": [
      "1 1 1024\n"
     ]
    },
    {
     "name": "stderr",
     "output_type": "stream",
     "text": [
      "yt : [INFO     ] 2022-01-11 17:28:26,623 Parameters: current_time              = 2.76594012169585e-09\n",
      "yt : [INFO     ] 2022-01-11 17:28:26,624 Parameters: domain_dimensions         = [   1    1 1024]\n",
      "yt : [INFO     ] 2022-01-11 17:28:26,625 Parameters: domain_left_edge          = [0. 0. 0.]\n",
      "yt : [INFO     ] 2022-01-11 17:28:26,626 Parameters: domain_right_edge         = [ 1.  1. 64.]\n"
     ]
    },
    {
     "name": "stdout",
     "output_type": "stream",
     "text": [
      "1 1 1024\n"
     ]
    },
    {
     "name": "stderr",
     "output_type": "stream",
     "text": [
      "yt : [INFO     ] 2022-01-11 17:28:29,235 Parameters: current_time              = 2.870178901445273e-09\n",
      "yt : [INFO     ] 2022-01-11 17:28:29,236 Parameters: domain_dimensions         = [   1    1 1024]\n",
      "yt : [INFO     ] 2022-01-11 17:28:29,237 Parameters: domain_left_edge          = [0. 0. 0.]\n",
      "yt : [INFO     ] 2022-01-11 17:28:29,238 Parameters: domain_right_edge         = [ 1.  1. 64.]\n"
     ]
    },
    {
     "name": "stdout",
     "output_type": "stream",
     "text": [
      "1 1 1024\n"
     ]
    },
    {
     "name": "stderr",
     "output_type": "stream",
     "text": [
      "yt : [INFO     ] 2022-01-11 17:28:31,787 Parameters: current_time              = 2.974417681194696e-09\n",
      "yt : [INFO     ] 2022-01-11 17:28:31,788 Parameters: domain_dimensions         = [   1    1 1024]\n",
      "yt : [INFO     ] 2022-01-11 17:28:31,789 Parameters: domain_left_edge          = [0. 0. 0.]\n",
      "yt : [INFO     ] 2022-01-11 17:28:31,790 Parameters: domain_right_edge         = [ 1.  1. 64.]\n"
     ]
    },
    {
     "name": "stdout",
     "output_type": "stream",
     "text": [
      "1 1 1024\n"
     ]
    },
    {
     "name": "stderr",
     "output_type": "stream",
     "text": [
      "yt : [INFO     ] 2022-01-11 17:28:35,771 Parameters: current_time              = 3.078656460944119e-09\n",
      "yt : [INFO     ] 2022-01-11 17:28:35,773 Parameters: domain_dimensions         = [   1    1 1024]\n",
      "yt : [INFO     ] 2022-01-11 17:28:35,774 Parameters: domain_left_edge          = [0. 0. 0.]\n",
      "yt : [INFO     ] 2022-01-11 17:28:35,776 Parameters: domain_right_edge         = [ 1.  1. 64.]\n"
     ]
    },
    {
     "name": "stdout",
     "output_type": "stream",
     "text": [
      "1 1 1024\n"
     ]
    },
    {
     "name": "stderr",
     "output_type": "stream",
     "text": [
      "yt : [INFO     ] 2022-01-11 17:28:38,716 Parameters: current_time              = 3.182895240693542e-09\n",
      "yt : [INFO     ] 2022-01-11 17:28:38,717 Parameters: domain_dimensions         = [   1    1 1024]\n",
      "yt : [INFO     ] 2022-01-11 17:28:38,718 Parameters: domain_left_edge          = [0. 0. 0.]\n",
      "yt : [INFO     ] 2022-01-11 17:28:38,719 Parameters: domain_right_edge         = [ 1.  1. 64.]\n"
     ]
    },
    {
     "name": "stdout",
     "output_type": "stream",
     "text": [
      "1 1 1024\n"
     ]
    },
    {
     "name": "stderr",
     "output_type": "stream",
     "text": [
      "yt : [INFO     ] 2022-01-11 17:28:41,894 Parameters: current_time              = 3.287134020442965e-09\n",
      "yt : [INFO     ] 2022-01-11 17:28:41,895 Parameters: domain_dimensions         = [   1    1 1024]\n",
      "yt : [INFO     ] 2022-01-11 17:28:41,896 Parameters: domain_left_edge          = [0. 0. 0.]\n",
      "yt : [INFO     ] 2022-01-11 17:28:41,897 Parameters: domain_right_edge         = [ 1.  1. 64.]\n"
     ]
    },
    {
     "name": "stdout",
     "output_type": "stream",
     "text": [
      "1 1 1024\n"
     ]
    },
    {
     "name": "stderr",
     "output_type": "stream",
     "text": [
      "yt : [INFO     ] 2022-01-11 17:28:44,828 Parameters: current_time              = 3.391372800192388e-09\n",
      "yt : [INFO     ] 2022-01-11 17:28:44,829 Parameters: domain_dimensions         = [   1    1 1024]\n",
      "yt : [INFO     ] 2022-01-11 17:28:44,830 Parameters: domain_left_edge          = [0. 0. 0.]\n",
      "yt : [INFO     ] 2022-01-11 17:28:44,831 Parameters: domain_right_edge         = [ 1.  1. 64.]\n"
     ]
    },
    {
     "name": "stdout",
     "output_type": "stream",
     "text": [
      "1 1 1024\n"
     ]
    },
    {
     "name": "stderr",
     "output_type": "stream",
     "text": [
      "yt : [INFO     ] 2022-01-11 17:28:47,756 Parameters: current_time              = 3.495611579941811e-09\n",
      "yt : [INFO     ] 2022-01-11 17:28:47,757 Parameters: domain_dimensions         = [   1    1 1024]\n",
      "yt : [INFO     ] 2022-01-11 17:28:47,758 Parameters: domain_left_edge          = [0. 0. 0.]\n",
      "yt : [INFO     ] 2022-01-11 17:28:47,759 Parameters: domain_right_edge         = [ 1.  1. 64.]\n"
     ]
    },
    {
     "name": "stdout",
     "output_type": "stream",
     "text": [
      "1 1 1024\n"
     ]
    },
    {
     "name": "stderr",
     "output_type": "stream",
     "text": [
      "yt : [INFO     ] 2022-01-11 17:28:50,654 Parameters: current_time              = 3.599850359691234e-09\n",
      "yt : [INFO     ] 2022-01-11 17:28:50,656 Parameters: domain_dimensions         = [   1    1 1024]\n",
      "yt : [INFO     ] 2022-01-11 17:28:50,657 Parameters: domain_left_edge          = [0. 0. 0.]\n",
      "yt : [INFO     ] 2022-01-11 17:28:50,659 Parameters: domain_right_edge         = [ 1.  1. 64.]\n"
     ]
    },
    {
     "name": "stdout",
     "output_type": "stream",
     "text": [
      "1 1 1024\n"
     ]
    },
    {
     "name": "stderr",
     "output_type": "stream",
     "text": [
      "yt : [INFO     ] 2022-01-11 17:28:53,901 Parameters: current_time              = 3.704089139440657e-09\n",
      "yt : [INFO     ] 2022-01-11 17:28:53,902 Parameters: domain_dimensions         = [   1    1 1024]\n",
      "yt : [INFO     ] 2022-01-11 17:28:53,903 Parameters: domain_left_edge          = [0. 0. 0.]\n",
      "yt : [INFO     ] 2022-01-11 17:28:53,906 Parameters: domain_right_edge         = [ 1.  1. 64.]\n"
     ]
    },
    {
     "name": "stdout",
     "output_type": "stream",
     "text": [
      "1 1 1024\n"
     ]
    },
    {
     "name": "stderr",
     "output_type": "stream",
     "text": [
      "yt : [INFO     ] 2022-01-11 17:28:56,677 Parameters: current_time              = 3.808327919190079e-09\n",
      "yt : [INFO     ] 2022-01-11 17:28:56,678 Parameters: domain_dimensions         = [   1    1 1024]\n",
      "yt : [INFO     ] 2022-01-11 17:28:56,679 Parameters: domain_left_edge          = [0. 0. 0.]\n",
      "yt : [INFO     ] 2022-01-11 17:28:56,680 Parameters: domain_right_edge         = [ 1.  1. 64.]\n"
     ]
    },
    {
     "name": "stdout",
     "output_type": "stream",
     "text": [
      "1 1 1024\n"
     ]
    },
    {
     "name": "stderr",
     "output_type": "stream",
     "text": [
      "yt : [INFO     ] 2022-01-11 17:29:00,319 Parameters: current_time              = 3.912566698939502e-09\n",
      "yt : [INFO     ] 2022-01-11 17:29:00,320 Parameters: domain_dimensions         = [   1    1 1024]\n",
      "yt : [INFO     ] 2022-01-11 17:29:00,322 Parameters: domain_left_edge          = [0. 0. 0.]\n",
      "yt : [INFO     ] 2022-01-11 17:29:00,323 Parameters: domain_right_edge         = [ 1.  1. 64.]\n"
     ]
    },
    {
     "name": "stdout",
     "output_type": "stream",
     "text": [
      "1 1 1024\n"
     ]
    },
    {
     "name": "stderr",
     "output_type": "stream",
     "text": [
      "yt : [INFO     ] 2022-01-11 17:29:03,878 Parameters: current_time              = 4.016805478688925e-09\n",
      "yt : [INFO     ] 2022-01-11 17:29:03,880 Parameters: domain_dimensions         = [   1    1 1024]\n",
      "yt : [INFO     ] 2022-01-11 17:29:03,881 Parameters: domain_left_edge          = [0. 0. 0.]\n",
      "yt : [INFO     ] 2022-01-11 17:29:03,883 Parameters: domain_right_edge         = [ 1.  1. 64.]\n"
     ]
    },
    {
     "name": "stdout",
     "output_type": "stream",
     "text": [
      "1 1 1024\n"
     ]
    },
    {
     "name": "stderr",
     "output_type": "stream",
     "text": [
      "yt : [INFO     ] 2022-01-11 17:29:07,466 Parameters: current_time              = 4.121044258438348e-09\n",
      "yt : [INFO     ] 2022-01-11 17:29:07,469 Parameters: domain_dimensions         = [   1    1 1024]\n",
      "yt : [INFO     ] 2022-01-11 17:29:07,470 Parameters: domain_left_edge          = [0. 0. 0.]\n",
      "yt : [INFO     ] 2022-01-11 17:29:07,473 Parameters: domain_right_edge         = [ 1.  1. 64.]\n"
     ]
    },
    {
     "name": "stdout",
     "output_type": "stream",
     "text": [
      "1 1 1024\n"
     ]
    },
    {
     "name": "stderr",
     "output_type": "stream",
     "text": [
      "yt : [INFO     ] 2022-01-11 17:29:11,563 Parameters: current_time              = 4.225283038187771e-09\n",
      "yt : [INFO     ] 2022-01-11 17:29:11,565 Parameters: domain_dimensions         = [   1    1 1024]\n",
      "yt : [INFO     ] 2022-01-11 17:29:11,569 Parameters: domain_left_edge          = [0. 0. 0.]\n",
      "yt : [INFO     ] 2022-01-11 17:29:11,571 Parameters: domain_right_edge         = [ 1.  1. 64.]\n"
     ]
    },
    {
     "name": "stdout",
     "output_type": "stream",
     "text": [
      "1 1 1024\n"
     ]
    },
    {
     "name": "stderr",
     "output_type": "stream",
     "text": [
      "yt : [INFO     ] 2022-01-11 17:29:15,027 Parameters: current_time              = 4.329521817937194e-09\n",
      "yt : [INFO     ] 2022-01-11 17:29:15,029 Parameters: domain_dimensions         = [   1    1 1024]\n",
      "yt : [INFO     ] 2022-01-11 17:29:15,030 Parameters: domain_left_edge          = [0. 0. 0.]\n",
      "yt : [INFO     ] 2022-01-11 17:29:15,032 Parameters: domain_right_edge         = [ 1.  1. 64.]\n"
     ]
    },
    {
     "name": "stdout",
     "output_type": "stream",
     "text": [
      "1 1 1024\n"
     ]
    },
    {
     "name": "stderr",
     "output_type": "stream",
     "text": [
      "yt : [INFO     ] 2022-01-11 17:29:18,460 Parameters: current_time              = 4.433760597686617e-09\n",
      "yt : [INFO     ] 2022-01-11 17:29:18,461 Parameters: domain_dimensions         = [   1    1 1024]\n",
      "yt : [INFO     ] 2022-01-11 17:29:18,462 Parameters: domain_left_edge          = [0. 0. 0.]\n",
      "yt : [INFO     ] 2022-01-11 17:29:18,464 Parameters: domain_right_edge         = [ 1.  1. 64.]\n"
     ]
    },
    {
     "name": "stdout",
     "output_type": "stream",
     "text": [
      "1 1 1024\n"
     ]
    },
    {
     "name": "stderr",
     "output_type": "stream",
     "text": [
      "yt : [INFO     ] 2022-01-11 17:29:21,765 Parameters: current_time              = 4.53799937743604e-09\n",
      "yt : [INFO     ] 2022-01-11 17:29:21,766 Parameters: domain_dimensions         = [   1    1 1024]\n",
      "yt : [INFO     ] 2022-01-11 17:29:21,767 Parameters: domain_left_edge          = [0. 0. 0.]\n",
      "yt : [INFO     ] 2022-01-11 17:29:21,768 Parameters: domain_right_edge         = [ 1.  1. 64.]\n"
     ]
    },
    {
     "name": "stdout",
     "output_type": "stream",
     "text": [
      "1 1 1024\n"
     ]
    },
    {
     "name": "stderr",
     "output_type": "stream",
     "text": [
      "yt : [INFO     ] 2022-01-11 17:29:24,599 Parameters: current_time              = 4.642238157185463e-09\n",
      "yt : [INFO     ] 2022-01-11 17:29:24,600 Parameters: domain_dimensions         = [   1    1 1024]\n",
      "yt : [INFO     ] 2022-01-11 17:29:24,602 Parameters: domain_left_edge          = [0. 0. 0.]\n",
      "yt : [INFO     ] 2022-01-11 17:29:24,604 Parameters: domain_right_edge         = [ 1.  1. 64.]\n"
     ]
    },
    {
     "name": "stdout",
     "output_type": "stream",
     "text": [
      "1 1 1024\n"
     ]
    },
    {
     "name": "stderr",
     "output_type": "stream",
     "text": [
      "yt : [INFO     ] 2022-01-11 17:29:27,776 Parameters: current_time              = 4.746476936934886e-09\n",
      "yt : [INFO     ] 2022-01-11 17:29:27,778 Parameters: domain_dimensions         = [   1    1 1024]\n",
      "yt : [INFO     ] 2022-01-11 17:29:27,779 Parameters: domain_left_edge          = [0. 0. 0.]\n",
      "yt : [INFO     ] 2022-01-11 17:29:27,780 Parameters: domain_right_edge         = [ 1.  1. 64.]\n"
     ]
    },
    {
     "name": "stdout",
     "output_type": "stream",
     "text": [
      "1 1 1024\n"
     ]
    },
    {
     "name": "stderr",
     "output_type": "stream",
     "text": [
      "yt : [INFO     ] 2022-01-11 17:29:30,813 Parameters: current_time              = 4.850715716684309e-09\n",
      "yt : [INFO     ] 2022-01-11 17:29:30,814 Parameters: domain_dimensions         = [   1    1 1024]\n",
      "yt : [INFO     ] 2022-01-11 17:29:30,815 Parameters: domain_left_edge          = [0. 0. 0.]\n",
      "yt : [INFO     ] 2022-01-11 17:29:30,817 Parameters: domain_right_edge         = [ 1.  1. 64.]\n"
     ]
    },
    {
     "name": "stdout",
     "output_type": "stream",
     "text": [
      "1 1 1024\n"
     ]
    },
    {
     "name": "stderr",
     "output_type": "stream",
     "text": [
      "yt : [INFO     ] 2022-01-11 17:29:33,880 Parameters: current_time              = 4.954954496433732e-09\n",
      "yt : [INFO     ] 2022-01-11 17:29:33,881 Parameters: domain_dimensions         = [   1    1 1024]\n",
      "yt : [INFO     ] 2022-01-11 17:29:33,882 Parameters: domain_left_edge          = [0. 0. 0.]\n",
      "yt : [INFO     ] 2022-01-11 17:29:33,884 Parameters: domain_right_edge         = [ 1.  1. 64.]\n"
     ]
    },
    {
     "name": "stdout",
     "output_type": "stream",
     "text": [
      "1 1 1024\n"
     ]
    }
   ],
   "source": [
    "J_raw=[sft.interact(\"/home/henryrpg/Desktop/N3AS/1D_fiducial/plt\"+str(n).zfill(5)) for n in np.arange(0,4850,100)]"
   ]
  },
  {
   "cell_type": "code",
   "execution_count": null,
   "id": "357cdf06-98ce-4eae-a552-f8c86513c336",
   "metadata": {},
   "outputs": [],
   "source": []
  }
 ],
 "metadata": {
  "kernelspec": {
   "display_name": "Python 3 (ipykernel)",
   "language": "python",
   "name": "python3"
  },
  "language_info": {
   "codemirror_mode": {
    "name": "ipython",
    "version": 3
   },
   "file_extension": ".py",
   "mimetype": "text/x-python",
   "name": "python",
   "nbconvert_exporter": "python",
   "pygments_lexer": "ipython3",
   "version": "3.8.10"
  }
 },
 "nbformat": 4,
 "nbformat_minor": 5
}

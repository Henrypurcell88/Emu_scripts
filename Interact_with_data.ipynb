{
 "cells": [
  {
   "cell_type": "code",
   "execution_count": null,
   "id": "a071ffb4",
   "metadata": {
    "scrolled": true
   },
   "outputs": [],
   "source": [
    "#CHDIR COMMAND ONLY FOR JUPYTER\n",
    "import os\n",
    "import sys\n",
    "sys.path.append(\"/home/srichers/software/Emu_scripts/data_reduction\")\n",
    "import yt\n",
    "import numpy as np\n",
    "import matplotlib.pyplot as plt\n",
    "import h5py\n",
    "import amrex_plot_tools as amrex\n",
    "import emu_yt_module as emu\n",
    "import spin_flip_tools as sft\n",
    "import glob\n",
    "import concurrent\n",
    "\n",
    "# For ease of development, reload the relevant modules to make sure they are up to date.\n",
    "import importlib\n",
    "importlib.reload(sft)"
   ]
  },
  {
   "cell_type": "code",
   "execution_count": null,
   "id": "15853416",
   "metadata": {},
   "outputs": [],
   "source": [
    "data_base_directory = \"/home/srichers/data/1D_fiducial/\"\n",
    "directory_list = sorted(glob.glob(data_base_directory+\"plt*\"))\n",
    "\n",
    "output_filename = data_base_directory + \"spin_flip.h5\"\n",
    "\n",
    "basis_theta = 0\n",
    "basis_phi = 0"
   ]
  },
  {
   "cell_type": "code",
   "execution_count": null,
   "id": "8c3fd4e8",
   "metadata": {},
   "outputs": [],
   "source": [
    "if os.path.exists(output_filename):\n",
    "    os.remove(output_filename)\n",
    "\n",
    "for d in directory_list:\n",
    "    print(d)\n",
    "    with concurrent.futures.ProcessPoolExecutor(max_workers=1) as executor:\n",
    "        executor.submit(sft.interact, d, output_filename, basis_theta, basis_phi)"
   ]
  },
  {
   "cell_type": "code",
   "execution_count": null,
   "id": "883792a7",
   "metadata": {},
   "outputs": [],
   "source": [
    "# open the hdf5 file with read permissions\n",
    "data = h5py.File(output_filename,\"r\")\n",
    "\n",
    "# show the available datasets\n",
    "# note - use h5ls in the terminal to peek inside a hdf5 file\n",
    "list(data.keys())"
   ]
  },
  {
   "cell_type": "code",
   "execution_count": null,
   "id": "5463bfb4",
   "metadata": {},
   "outputs": [],
   "source": [
    "# Plot H_LR at t=0\n",
    "z = np.array(data[\"z(cm)\"])\n",
    "H_LR = np.array(data[\"H_LR(eV)\"])\n",
    "plt.plot(z, H_LR[0])"
   ]
  },
  {
   "cell_type": "code",
   "execution_count": null,
   "id": "2ea60732",
   "metadata": {},
   "outputs": [],
   "source": [
    "# plot the average across time\n",
    "t = np.array(data[\"t(s)\"])\n",
    "H_LR_avg = np.average(H_LR, axis=1)\n",
    "plt.plot(t, H_LR_avg)"
   ]
  }
 ],
 "metadata": {
  "kernelspec": {
   "display_name": "Python 3 (ipykernel)",
   "language": "python",
   "name": "python3"
  },
  "language_info": {
   "codemirror_mode": {
    "name": "ipython",
    "version": 3
   },
   "file_extension": ".py",
   "mimetype": "text/x-python",
   "name": "python",
   "nbconvert_exporter": "python",
   "pygments_lexer": "ipython3",
   "version": "3.8.10"
  }
 },
 "nbformat": 4,
 "nbformat_minor": 5
}

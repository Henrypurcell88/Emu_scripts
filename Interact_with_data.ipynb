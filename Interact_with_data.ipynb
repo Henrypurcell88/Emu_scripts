{
 "cells": [
  {
   "cell_type": "code",
   "execution_count": null,
   "id": "a071ffb4",
   "metadata": {
    "scrolled": true
   },
   "outputs": [],
   "source": [
    "#CHDIR COMMAND ONLY FOR JUPYTER\n",
    "import os\n",
    "import sys\n",
    "sys.path.append(\"/home/henryrpg/Desktop/N3AS/Emu_scripts/data_reduction\")\n",
    "import yt\n",
    "import numpy as np\n",
    "import matplotlib.pyplot as plt\n",
    "import h5py\n",
    "import amrex_plot_tools as amrex\n",
    "import emu_yt_module as emu\n",
    "import spin_flip_tools as sft\n",
    "\n",
    "# For ease of development, reload the relevant modules to make sure they are up to date.\n",
    "import importlib\n",
    "import reduce_data\n",
    "importlib.reload(reduce_data)\n",
    "importlib.reload(sft)"
   ]
  },
  {
   "cell_type": "code",
   "execution_count": null,
   "id": "872cc859",
   "metadata": {
    "scrolled": false
   },
   "outputs": [],
   "source": [
    "#terms=np.zeros((48,3))\n",
    "#for n in np.arange(0,4900,100):\n",
    "#    terms[n,:]=scalar_avg(interact(\"plt\"+str(n).zfill(5)))\n",
    "#terms\n",
    "terms=[[sft.scalar_avg(sft.interact(\"plt\"+str(n).zfill(5))[k]) for k in range(0,3)] for n in np.arange(0,4850,10)]"
   ]
  }
 ],
 "metadata": {
  "kernelspec": {
   "display_name": "Python 3 (ipykernel)",
   "language": "python",
   "name": "python3"
  },
  "language_info": {
   "codemirror_mode": {
    "name": "ipython",
    "version": 3
   },
   "file_extension": ".py",
   "mimetype": "text/x-python",
   "name": "python",
   "nbconvert_exporter": "python",
   "pygments_lexer": "ipython3",
   "version": "3.8.10"
  }
 },
 "nbformat": 4,
 "nbformat_minor": 5
}

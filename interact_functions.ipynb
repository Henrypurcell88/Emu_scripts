{
 "cells": [
  {
   "cell_type": "code",
   "execution_count": 1,
   "id": "0f735327",
   "metadata": {
    "scrolled": true
   },
   "outputs": [],
   "source": [
    "#CHDIR COMMAND ONLY FOR JUPYTER\n",
    "import os\n",
    "import sys\n",
    "sys.path.append(\"/mnt/scratch/henrypurcell/N3AS/Emu_scripts/data_reduction\")\n",
    "import yt\n",
    "import numpy as np\n",
    "import matplotlib.pyplot as plt\n",
    "import matplotlib.patches as mpatches\n",
    "import h5py\n",
    "import amrex_plot_tools as amrex\n",
    "import emu_yt_module as emu\n",
    "import spin_flip_tools as sft\n",
    "import glob\n",
    "import concurrent\n",
    "import matplotlib as mpl\n",
    "from matplotlib.ticker import (MultipleLocator, FormatStrFormatter,AutoMinorLocator,LogLocator)\n",
    "from matplotlib import cm, colors\n",
    "import matplotlib.axes as ax\n",
    "from mpl_toolkits.mplot3d import Axes3D\n",
    "#import latex\n",
    "from itertools import product\n",
    "\n",
    "\n",
    "# For ease of development, reload the relevant modules to make sure they are up to date.\n",
    "import importlib\n",
    "importlib.reload(sft)\n",
    "\n",
    "################\n",
    "# plot options #\n",
    "################\n",
    "mpl.rcParams['axes.facecolor'] = 'white'\n",
    "mpl.rcParams['figure.facecolor'] = 'white'\n",
    "mpl.rcParams['font.size'] = 10\n",
    "mpl.rcParams['font.family'] = 'serif'\n",
    "COLOR = 'black'\n",
    "mpl.rcParams['text.color'] = COLOR\n",
    "mpl.rcParams['axes.labelcolor'] = COLOR\n",
    "mpl.rcParams['xtick.color'] = COLOR\n",
    "mpl.rcParams['ytick.color'] = COLOR\n",
    "#mpl.rc('text', usetex=True)\n",
    "mpl.rcParams['xtick.major.size'] = 7\n",
    "mpl.rcParams['xtick.major.width'] = 2\n",
    "mpl.rcParams['xtick.major.pad'] = 8\n",
    "mpl.rcParams['xtick.minor.size'] = 4\n",
    "mpl.rcParams['xtick.minor.width'] = 2\n",
    "mpl.rcParams['ytick.major.size'] = 7\n",
    "mpl.rcParams['ytick.major.width'] = 2\n",
    "mpl.rcParams['ytick.minor.size'] = 4\n",
    "mpl.rcParams['ytick.minor.width'] = 2\n",
    "mpl.rcParams['axes.linewidth'] = 2\n",
    "mpl.rcParams['axes.grid'] = True\n",
    "#fig,ax = plt.subplots()\n",
    "\n",
    "def sin(theta):\n",
    "    return np.sin(theta)\n",
    "def cos(theta):\n",
    "    return np.cos(theta)\n",
    "def exp(x):\n",
    "    return np.exp(x)\n",
    "pi=np.pi"
   ]
  },
  {
   "cell_type": "code",
   "execution_count": 2,
   "id": "a0f3c701",
   "metadata": {},
   "outputs": [],
   "source": [
    "class Interact:\n",
    "    def __init__(self, data_base_directory, theta=0, phi=0, output_name = None, output_append = '_sfm_'):\n",
    "        self.data_base_directory = data_base_directory\n",
    "        self.theta = theta\n",
    "        self.phi = phi\n",
    "        if output_name == None:\n",
    "            self.output_filename = data_base_directory[0:-3] + output_append\n",
    "        else: \n",
    "            self.output_filename = output_name + output_append\n",
    "    \n",
    "    def is_h5(self):\n",
    "        if self.data_base_directory[-3:]=='.h5':\n",
    "            return True\n",
    "        else: \n",
    "            return False\n",
    "    \n",
    "    #interact function\n",
    "    def run(self, anglename):\n",
    "      \n",
    "        if self.is_h5() == True:      \n",
    "        #runs interact for h5 files, outputs [filename]_spin_flip_matrices.h5 in same location\n",
    "       \n",
    "        #find number of time intervals\n",
    "            File=h5py.File(self.data_base_directory,\"r\")\n",
    "            nt=len(np.array(File[\"t(s)\"]))\n",
    "            File.close()\n",
    "\n",
    "            for t in range(0,nt):\n",
    "                sft.interact(self.data_base_directory, self.output_filename + anglename + '.h5', self.theta, self.phi, t)\n",
    "        \n",
    "        else: #runs interact, for plt files. outputs h5 'spin_flip_matrices' file inside of data_base_directory\n",
    "            directory_list = sorted(glob.glob(self.data_base_directory+\"plt*\"))\n",
    "           \n",
    "            if os.path.exists(self.output_filename):\n",
    "                os.remove(self.output_filename)\n",
    "\n",
    "            for d in directory_list:\n",
    "                print(d)\n",
    "                with concurrent.futures.ProcessPoolExecutor(max_workers=1) as executor:\n",
    "                    executor.submit(sft.interact, d, self.output_filename + anglename + '.h5', self.theta, self.phi)\n",
    "    \n",
    "    #interact_J, which just outputs the flux to save space\n",
    "    def run_J(self):\n",
    "      \n",
    "        if self.is_h5() == True:      \n",
    "        #runs interact for h5 files, outputs [filename]_spin_flip_matrices.h5 in same location\n",
    "       \n",
    "        #find number of time intervals\n",
    "            File=h5py.File(self.data_base_directory,\"r\")\n",
    "            nt=len(np.array(File[\"t(s)\"]))\n",
    "            File.close()\n",
    "\n",
    "            for t in range(0,nt):\n",
    "                sft.interact_J(self.data_base_directory, self.output_filename+'J.h5', t)\n",
    "        \n",
    "        else: #runs interact, for plt files. outputs h5 'spin_flip_matrices' file inside of data_base_directory\n",
    "            directory_list = sorted(glob.glob(self.data_base_directory+\"plt*\"))\n",
    "           \n",
    "            if os.path.exists(self.output_filename):\n",
    "                os.remove(self.output_filename)\n",
    "\n",
    "            for d in directory_list:\n",
    "                print(d)\n",
    "                with concurrent.futures.ProcessPoolExecutor(max_workers=1) as executor:\n",
    "                    executor.submit(sft.interact_J, d, self.output_filename)\n",
    "        "
   ]
  },
  {
   "cell_type": "code",
   "execution_count": 4,
   "id": "02a6d940",
   "metadata": {},
   "outputs": [],
   "source": [
    "#inputdatafile carries files of the form /i*j*k*/allData.h5. output_loc + output_name is the file where you want to store the output h5 files\n",
    "class Multipoint_interact:\n",
    "    def __init__(self, output_name, inputdatafile = '/mnt/scratch/shared/Henry_NSM_box', output_loc = '/mnt/scratch/henrypurcell/N3AS/data/'):\n",
    "        self.inputdatafile = inputdatafile\n",
    "        self.filelist = glob.glob(self.inputdatafile + \"/i*j*k*/allData.h5\")\n",
    "        self.outputdatafile = output_loc + output_name\n",
    "        \n",
    "    def interact(self):\n",
    "        os.mkdir(self.outputdatafile)\n",
    "        \n",
    "        for h5file in self.filelist:\n",
    "            coords = h5file[-26:-11] #just the coordinate part\n",
    "            Interact(h5file, output_name = self.outputdatafile + coords, output_append = '_sfm').run_J()\n",
    "        \n",
    "               "
   ]
  },
  {
   "cell_type": "code",
   "execution_count": null,
   "id": "cf244188",
   "metadata": {},
   "outputs": [],
   "source": [
    "Multipoint_interact('sfm', inputdatafile = '/mnt/scratch/shared/Henry_NSM_box').interact()"
   ]
  },
  {
   "cell_type": "code",
   "execution_count": 4,
   "id": "3eabff4a",
   "metadata": {},
   "outputs": [],
   "source": [
    "Multipoint_interact('sfm_test', inputdatafile = '/mnt/scratch/henrypurcell/N3AS/test_input/').interact()"
   ]
  },
  {
   "cell_type": "code",
   "execution_count": 6,
   "id": "d62bd6c5",
   "metadata": {},
   "outputs": [
    {
     "data": {
      "text/plain": [
       "'i000j000k000/allData.h5'"
      ]
     },
     "execution_count": 6,
     "metadata": {},
     "output_type": "execute_result"
    }
   ],
   "source": [
    "\"/i000j000k000/allData.h5\"[-23:]"
   ]
  },
  {
   "cell_type": "code",
   "execution_count": 5,
   "id": "8851a48d",
   "metadata": {},
   "outputs": [],
   "source": [
    "os.mkdir('/mnt/scratch/henrypurcell/N3AS/data/lol')"
   ]
  },
  {
   "cell_type": "code",
   "execution_count": 13,
   "id": "215045ba",
   "metadata": {},
   "outputs": [],
   "source": [
    "Interact('/mnt/scratch/henrypurcell/N3AS/data/i106_j136_k099_highres.h5', theta=0).run(anglename='z')"
   ]
  },
  {
   "cell_type": "code",
   "execution_count": 4,
   "id": "38ee4c56",
   "metadata": {},
   "outputs": [],
   "source": [
    "def gellmann(j, k, d):\n",
    "    r\"\"\"Returns a generalized Gell-Mann matrix of dimension d. According to the\n",
    "    convention in *Bloch Vectors for Qubits* by Bertlmann and Krammer (2008),\n",
    "    returns :math:`\\Lambda^j` for :math:`1\\leq j=k\\leq d-1`,\n",
    "    :math:`\\Lambda^{kj}_s` for :math:`1\\leq k<j\\leq d`,\n",
    "    :math:`\\Lambda^{jk}_a` for :math:`1\\leq j<k\\leq d`, and\n",
    "    :math:`I` for :math:`j=k=d`.\n",
    "\n",
    "    :param j: First index for generalized Gell-Mann matrix\n",
    "    :type j:  positive integer\n",
    "    :param k: Second index for generalized Gell-Mann matrix\n",
    "    :type k:  positive integer\n",
    "    :param d: Dimension of the generalized Gell-Mann matrix\n",
    "    :type d:  positive integer\n",
    "    :returns: A genereralized Gell-Mann matrix.\n",
    "    :rtype:   numpy.array\n",
    "\n",
    "    \"\"\"\n",
    "\n",
    "    if j > k:\n",
    "        gjkd = np.zeros((d, d), dtype=np.complex128)\n",
    "        gjkd[j - 1][k - 1] = 1\n",
    "        gjkd[k - 1][j - 1] = 1\n",
    "    elif k > j:\n",
    "        gjkd = np.zeros((d, d), dtype=np.complex128)\n",
    "        gjkd[j - 1][k - 1] = -1.j\n",
    "        gjkd[k - 1][j - 1] = 1.j\n",
    "    elif j == k and j < d:\n",
    "        gjkd = np.sqrt(2/(j*(j + 1)))*np.diag([1 + 0.j if n <= j\n",
    "                                               else (-j + 0.j if n == (j + 1)\n",
    "                                                     else 0 + 0.j)\n",
    "                                               for n in range(1, d + 1)])\n",
    "    else:\n",
    "        gjkd = np.diag([1 + 0.j for n in range(1, d + 1)])\n",
    "\n",
    "    return gjkd\n",
    "\n",
    "\n",
    "def get_GM(d):\n",
    "    r'''Return a basis of orthogonal Hermitian operators on a Hilbert space of\n",
    "    dimension d, with the identity element in the last place.\n",
    "\n",
    "    '''\n",
    "    return np.array([gellmann(j, k, d) for j, k in product(range(1, d + 1), repeat=2)])\n",
    "\n",
    "# finds Gell Mann projection vector of a matrix\n",
    "def GM_projection(M):\n",
    "    matrix_size = np.shape(M)[0]\n",
    "    GM_components = get_GM(matrix_size)\n",
    "    return np.array([np.trace(0.5*GM_components[n] @ M) for n in np.arange(0, matrix_size**2-1)])\n",
    "\n",
    "#scalar magnitude of GM projection\n",
    "def GM_magnitude(M):\n",
    "    return np.linalg.norm(GM_projection(M))\n",
    "\n",
    "#magnitude of array by just squaring and adding all components. this is equivalent to the above if you're looking at an off-diagonal subset of an array (eg HLR).\n",
    "def sum_magnitude(M):\n",
    "    size=M.shape[0]\n",
    "    M_flattened = M.reshape(size**2)\n",
    "    return np.linalg.norm(M_flattened)\n",
    "\n",
    "#returns H dot P as Gell Mann projection vectors. Resonance occurs when this is 0 \n",
    "def GM_dotprod(H, P):\n",
    "    if np.shape(H)[0] != np.shape(P)[0]:\n",
    "        raise TypeError('H and P have different dimensions')\n",
    "        return\n",
    "    else: \n",
    "        return np.dot(np.real(GM_projection(H)),np.real(GM_projection(P)))\n",
    "    \n",
    "#takes in value that depends on theta, phi and returns a theta_res by phi_res array of values \n",
    "def angularArray(func, theta_res, phi_res):   \n",
    "    return np.array([[func(theta, phi) for phi in np.linspace(0, 2*pi, phi_res)]\n",
    "                                      for theta in np.linspace(0, pi, theta_res)])\n",
    "\n",
    "def rm_trace(M):\n",
    "    return np.array(M) - np.trace(M)*np.identity(np.array(M).shape[0])/np.array(M).shape[0]\n",
    "\n",
    "def visualizer(M, log=True, text=False, traceless = False, vmin=1E-15,vmax=1E-6):\n",
    "    if traceless ==True:\n",
    "        M=rm_trace(M)\n",
    "    else:\n",
    "        M=np.array(M)\n",
    "    \n",
    "    matrix_size = M.shape[0]\n",
    "    grid_subdivisions = 1/matrix_size\n",
    "    vertices_x = [n*grid_subdivisions for n in np.arange(0,matrix_size+1)]\n",
    "    vertices_y = [n*grid_subdivisions for n in np.arange(matrix_size,-1,-1)]\n",
    "    \n",
    "    min_value=vmin\n",
    "    max_value=vmax\n",
    "    \n",
    "    if log ==True: scale = norm=colors.LogNorm(vmin=min_value, vmax=max_value)\n",
    "    else: scale = None\n",
    "    \n",
    "    \n",
    "    f, ax = plt.subplots()\n",
    "    ax.set_ylim(0,1)\n",
    "    ax.set_xlim(0,1)\n",
    "    \n",
    "    image = ax.pcolormesh(vertices_x,vertices_y,np.abs(M),cmap='hot',norm=scale)\n",
    "    plt.colorbar(image)\n",
    "    \n",
    "    if text=='mag':\n",
    "        for n in np.arange(0,matrix_size):\n",
    "            for m in np.arange(0,matrix_size):\n",
    "                xcoord = (n+1/6)*grid_subdivisions\n",
    "                ycoord = 1 - (m+1/2)*grid_subdivisions\n",
    "                ax.text(xcoord, ycoord, str(round(np.log10(np.abs(M[m,n])),0)), color='cyan', size=10)\n",
    "                \n",
    "    elif text=='arg':\n",
    "        for n in np.arange(0,matrix_size):\n",
    "            for m in np.arange(0,matrix_size):\n",
    "                xcoord = (n)*grid_subdivisions\n",
    "                ycoord = 1 - (m+1/2)*grid_subdivisions\n",
    "                ax.text(xcoord, ycoord, str(round(np.real(M[m,n]/np.abs(M[m,n])), ndigits=1))+'+'+str(round(np.imag(M[m,n])/np.abs(M[m,n]), ndigits=2))+'i', color='cyan', size=9)"
   ]
  },
  {
   "cell_type": "code",
   "execution_count": 5,
   "id": "64b8a57e",
   "metadata": {},
   "outputs": [],
   "source": [
    "#datafile = location name\n",
    "class SpinFlip:\n",
    "    def __init__(self, datafile):\n",
    "        self.datafile = datafile\n",
    "    \n",
    "    #show keys\n",
    "    def keys(self):\n",
    "        readdata =  h5py.File(self.datafile, \"r\")\n",
    "        return list(readdata.keys())\n",
    "    \n",
    "    #add GM components\n",
    "    def add_GM(self):\n",
    "        #adds GM components of flux\n",
    "        readdata =  h5py.File(self.datafile, \"r\")\n",
    "        if 'GM(eV^3)R' in list(readdata.keys()):\n",
    "            print('Already computed')\n",
    "            return\n",
    "        else:\n",
    "            GM_data = sft.GM_components(readdata) \n",
    "            readdata.close()\n",
    "            appenddata =  h5py.File(self.datafile, \"a\")\n",
    "            sft.append_to_hdf5(appenddata, \"GM(eV^3)\", GM_data)\n",
    "            appenddata.close()\n",
    "    \n",
    "    #plotter\n",
    "    def plotter(self, quantity, basis=0, Title = None, savefig = False):\n",
    "        \n",
    "        readdata = h5py.File(self.datafile, \"r\")\n",
    "        t = np.array(readdata[\"t(s)\"])\n",
    "        \n",
    "        f, ax = plt.subplots()\n",
    "       \n",
    "        if quantity == 'J': \n",
    "            J = sft.total(readdata,\"J(eV^3)\")\n",
    "            plt.semilogy(t*1E9,np.average(sft.scalarfunc_time(J[:,basis,:,:,:]), axis=1))\n",
    "            ax.set_ylabel(r\"$eV^3$\")\n",
    "        \n",
    "        elif quantity == 'J_v_space': \n",
    "            J = sft.total(readdata,\"J(eV^3)\")\n",
    "            plt.plot(np.average(sft.scalarfunc_time(J[:,basis,:,:,:]), axis=1))\n",
    "            ax.set_ylabel(r\"$eV^3$\")\n",
    "        \n",
    "        elif quantity == 'GM': \n",
    "            GM = sft.total(readdata,\"GM(eV^3)\")\n",
    "            plt.semilogy(t*1E9,np.average(sft.scalarfunc_time(GM[:,basis,:,:,:]), axis=1))\n",
    "            ax.set_ylabel(r\"$eV^3$\")\n",
    "        \n",
    "        elif quantity == 'H_LR_GM_mag':\n",
    "            H_LR=sft.total(readdata,\"H_LR(eV)\")\n",
    "            HLR_t=[GM_magnitude(np.average(H_LR[t,:,:,:], axis=2)) for t in np.arange(0,H_LR.shape[0])]\n",
    "            ax.set_ylabel(r\"$|H_{LR}| \\ \\ (eV)$\")\n",
    "            plt.semilogy(t*1E9,HLR_t)\n",
    "        \n",
    "        elif quantity == 'H_LR':\n",
    "            H_LR=sft.total(readdata,\"H_LR(eV)\")\n",
    "            ax.set_ylabel(r\"$|H_{LR}| \\ \\ (eV)$\")\n",
    "            plt.semilogy(t*1E9,np.average(sft.scalarfunc_time(H_LR[:,:,:,:]), axis=1))\n",
    "       \n",
    "        elif quantity == 'H_LR_sum':\n",
    "            H_LR=sft.total(readdata,\"H_LR(eV)\")\n",
    "            ax.set_ylabel(r\"$|H_{LR}| \\ \\ (eV)$\")\n",
    "            plt.semilogy(t*1E9,np.average(sft.scalarfunc_sum_time(H_LR[:,:,:,:]), axis=1))\n",
    "        \n",
    "        elif quantity == 'J_all':\n",
    "            J = sft.total(readdata,\"J(eV^3)\")\n",
    "            ax.set_ylabel(r\"$eV^3$\")\n",
    "            plt.semilogy(t*1E9,np.average(sft.scalarfunc_time(J[:,1,:,:,:]), axis=1), label = 'x')\n",
    "            plt.semilogy(t*1E9,np.average(sft.scalarfunc_time(J[:,2,:,:,:]), axis=1), label = 'y')\n",
    "            plt.semilogy(t*1E9,np.average(sft.scalarfunc_time(J[:,3,:,:,:]), axis=1), label = 'z')\n",
    "            ax.legend()\n",
    "        \n",
    "        elif quantity == 'H_LR_00':\n",
    "            H_LR=sft.total(readdata,\"H_LR(eV)\")\n",
    "            ax.set_ylabel(r\"$|H_{LR}| \\ \\ (eV)$\")\n",
    "            plt.semilogy(t*1E9,np.average(H_LR[:,0,0,:], axis=1), label = 'electron component')\n",
    "            plt.semilogy(t*1E9,np.average(H_LR[:,1,1,:], axis=1), label = 'muon component')\n",
    "            plt.semilogy(t*1E9,np.average(H_LR[:,2,2,:], axis=1), label = 'tau component')\n",
    "            ax.legend()\n",
    "            ax.set_ylim(1E-25,1E-15)\n",
    "        elif  quantity == 'kappa':\n",
    "            kappa=sft.total(data,'S_R_kappa(eV)')\n",
    "            ax.set_ylabel(r\"$eV$\")\n",
    "            plt.plot(t*1E9,np.average(kappa[:,0,0,:], axis=1))\n",
    "            \n",
    "\n",
    "        \n",
    "        \n",
    "        \n",
    "        if Title == None:\n",
    "            ax.set_title('basis = '+str(basis)+', quantity = ' + quantity)\n",
    "        else: \n",
    "            ax.set_title(Title)\n",
    "        \n",
    "        ax.set_xlabel(\"time (ns)\")\n",
    "        mpl.pyplot.tick_params(axis='both',which=\"both\", direction=\"in\",top=True,right=True)\n",
    "        mpl.pyplot.minorticks_on()\n",
    "  \n",
    "        \n",
    "        if savefig == True: \n",
    "            plt.tight_layout()\n",
    "            plt.savefig('../'+quantity+'.png', dpi=300)\n",
    "    \n",
    "        else: pass\n",
    "       \n",
    "    def angular_plot(self, theta_precision = 200, phi_precision = 100):\n",
    "        \n",
    "        H_LR_angular = np.transpose((np.array([[((np.real(self.H_LR_at_basis(theta,phi)[0,0]))**2\n",
    "                                               + (np.imag(self.H_LR_at_basis(theta,phi)[0,0]))**2)**(1/2)\n",
    "                                            for theta in np.linspace(0,np.pi,200)] \n",
    "                                            for phi in np.linspace(0,2*np.pi,100)])))\n",
    "        resonance_angular = np.transpose((np.array([[np.real(self.resonance_at_basis(theta,phi))  \n",
    "                                            for theta in np.linspace(0,np.pi,200)] \n",
    "                                            for phi in np.linspace(0,2*np.pi,100)])))\n",
    "        \n",
    "        f = plt.figure()\n",
    "        ax = f.add_subplot(projection = 'mollweide')\n",
    "        ax.grid(False)\n",
    "        H_LR_im = ax.pcolormesh(np.linspace(-np.pi,np.pi,phi_precision), np.linspace(-0.5*np.pi,0.5*np.pi,theta_precision),\n",
    "                         H_LR_angular, \n",
    "                         cmap=plt.cm.hot, shading='auto')\n",
    "        plt.colorbar(H_LR_im)\n",
    "        \n",
    "        res_im = ax.contour(np.linspace(-np.pi,np.pi,phi_precision), np.linspace(-0.5*np.pi,0.5*np.pi,theta_precision),\n",
    "                         resonance_angular, levels=0, colors='cyan')\n",
    "        \n",
    "        #add net flux point \n",
    "        ax.scatter([np.arctan2(self.J[2],self.J[1])],\n",
    "                   [np.arctan2(self.J[3],(self.J[1]**2+self.J[2]**2)**(1/2))],\n",
    "                   label = 'ELN Flux Direction')\n",
    "        \n",
    "        ax.scatter([np.arctan2(self.J_tot[2],self.J_tot[1])],\n",
    "                   [np.arctan2(self.J_tot[3],(self.J_tot[1]**2+self.J_tot[2]**2)**(1/2))],\n",
    "                   label = 'Main Particle Flow')\n",
    "        #ax.legend()\n",
    "        ax.set_title(r'$Angular \\  Plot \\ of \\ H_{LR}$')\n",
    "        ax.facecolor='white'\n",
    "        \n",
    "        plt.show()\n",
    "\n",
    "\n",
    "  "
   ]
  },
  {
   "cell_type": "code",
   "execution_count": 6,
   "id": "e989a693",
   "metadata": {
    "scrolled": true
   },
   "outputs": [],
   "source": [
    "#SpinFlip(\"/home/henryrpg/Desktop/N3AS/data/i106_j136_k099_highres_sfm_z.h5\").plotter(\"H_LR_GM_mag\", basis =1)"
   ]
  },
  {
   "cell_type": "code",
   "execution_count": 7,
   "id": "270272c3",
   "metadata": {},
   "outputs": [],
   "source": [
    "G=1.1663787*10**(-23) # eV^-2\n",
    "c=2.998e+10 #cm/s\n",
    "M_p=1.6726219*10**(-24)#grams (Proton mass)\n",
    "hbar=6.58211951*10**(-16) #eV s\n",
    "\n",
    "class Merger_Grid:\n",
    "    def __init__(self, data_loc = \"/home/henryrpg/Desktop/N3AS/data/merger_grid.h5\", \n",
    "                unrotated_data_loc = \"/home/henryrpg/Desktop/N3AS/data/merger_grid_unrotated.h5\",\n",
    "                p_abs=10**7, zval = 95, theta=0, phi=0,\n",
    "                rotate = True):\n",
    "        \n",
    "        self.zval = zval\n",
    "            \n",
    "        #rotated data has ELN flux along z\n",
    "        if rotate == True:\n",
    "            self.merger_grid = h5py.File(data_loc, 'r')\n",
    "        elif rotated == False:\n",
    "            self.merger_grid = h5py.File(unrotated_data_loc, 'r')\n",
    "        else:\n",
    "            raise TypeError('rotate = True or False')\n",
    "        \n",
    "        #Electron fraction, baryon n density\n",
    "        self.rho=np.array(self.merger_grid['rho(g|ccm)'])[:,:,self.zval] #g/cm^3 (baryon mass density)\n",
    "        self.Ye=np.array(self.merger_grid['Ye'])[:,:,self.zval]\n",
    "        self.n_b=self.rho/M_p*(hbar**3 * c**3)#eV^3 (baryon number density)\n",
    "\n",
    "        #x,y axes\n",
    "        self.x_km = np.array(self.merger_grid['x(km)'])[0][:,:,0]\n",
    "        self.y_km = np.array(self.merger_grid['y(km)'])[0][:,:,0]\n",
    "       \n",
    "        \n",
    "        #basis\n",
    "        self.basis = sft.Basis(theta,phi)\n",
    "        #momentum\n",
    "        self.p_abs = p_abs\n",
    "        \n",
    "        #discriminant condition\n",
    "        self.discriminant = np.array(self.merger_grid['crossing_descriminant'])[:,:,self.zval]\n",
    "        self.positive = np.where(self.discriminant>=0)\n",
    "        self.negative = np.where(self.discriminant<0)\n",
    "        self.discriminant_sign=np.zeros_like(self.discriminant)\n",
    "        \n",
    "        #positive areas have ELN crossings\n",
    "        self.discriminant_sign[self.positive] = 1\n",
    "        self.discriminant_sign[self.negative] = 0\n",
    "        \n",
    "        self.J_e = (hbar**3 * c**3)*(np.array([self.merger_grid['n_e(1|ccm)'],\n",
    "                                             self.merger_grid['fn_e(1|ccm)'][0],\n",
    "                                             self.merger_grid['fn_e(1|ccm)'][1],\n",
    "                                             self.merger_grid['fn_e(1|ccm)'][2]]))[:,:,:,self.zval]\n",
    "                      \n",
    "        self.J_a = (hbar**3 * c**3)*np.array([self.merger_grid['n_a(1|ccm)'],\n",
    "                                              self.merger_grid['fn_a(1|ccm)'][0],\n",
    "                                              self.merger_grid['fn_a(1|ccm)'][1],\n",
    "                                              self.merger_grid['fn_a(1|ccm)'][2]])[:,:,:,self.zval]\n",
    "        \n",
    "        #technically just the ee component of J\n",
    "        self.J = self.J_e - self.J_a\n",
    "        \n",
    "        #max, min values of the LHS of the resonance condition (ADD OTHER PARTS)\n",
    "        self.mag_F=np.sqrt(np.sum(self.J[1:4,:,:]**2, axis=0))\n",
    "        self.H_vv_min = 2**(1./2.)*G*(self.J[0]+self.mag_F)\n",
    "        self.H_vv_max = 2**(1./2.)*G*(self.J[0]-self.mag_F)\n",
    "        #min occurs when flux is along basis direction\n",
    "        self.resonance_val_min = 2**(-1/2)*G*self.n_b*(3.*self.Ye-np.ones_like(self.Ye))+self.H_vv_max\n",
    "        self.resonance_val_max = 2**(-1/2)*G*self.n_b*(3.*self.Ye-np.ones_like(self.Ye))+self.H_vv_min\n",
    "\n",
    "        #conditions\n",
    "        #max res >0 so could be 0 for some direction\n",
    "        self.positive_resonance = np.where(self.resonance_val_max>=0)\n",
    "        self.pos_resonance_sign=np.zeros_like(self.discriminant)\n",
    "        self.pos_resonance_sign[self.positive_resonance]=1\n",
    "        #min res <0 so could be 0 for some direction\n",
    "        self.negative_resonance = np.where(self.resonance_val_min<=0)\n",
    "        self.neg_resonance_sign=np.zeros_like(self.discriminant)\n",
    "        self.neg_resonance_sign[self.positive_resonance]=1\n",
    "        \n",
    "        #both must be true for resonance to exist\n",
    "        self.resonance_sign = self.neg_resonance_sign*self.pos_resonance_sign\n",
    "        \n",
    "        #resonance and discriminant satisfied for some direction\n",
    "        self.both_conditions=self.resonance_sign*self.discriminant_sign\n",
    "    \n",
    "        #self.res_along_J = np.where(self.resonance_val_max>=0)\n",
    "        \n",
    "    #Basis dependent stuff\n",
    "    #returns the value of the resonance condition with the given basis at level zval\n",
    "    def resonance_val(self, basis):\n",
    "        S_R = 2**(1./2.)*G*np.transpose(np.array([[2*self.J,np.zeros_like(self.J)],[np.zeros_like(self.J),self.J]]),(2,0,1,3,4))\n",
    "        S_R_kappa = sft.kappa(S_R,basis)\n",
    "\n",
    "        return np.array(2**(-1/2)*G*self.n_b*(3.*self.Ye-np.ones_like(self.Ye))+S_R_kappa[0,0])\n",
    "\n",
    "    #gets the gradient (has to get data for z+1 and z-1 too)\n",
    "    def grad_magnitude(self, basis):\n",
    "        J_e = (hbar**3 * c**3)*(np.array([self.merger_grid['n_e(1|ccm)'],\n",
    "                                             self.merger_grid['fn_e(1|ccm)'][0],\n",
    "                                             self.merger_grid['fn_e(1|ccm)'][1],\n",
    "                                             self.merger_grid['fn_e(1|ccm)'][2]]))[:,:,:,(self.zval-1):(self.zval+1)]\n",
    "                      \n",
    "        J_a = (hbar**3 * c**3)*np.array([self.merger_grid['n_a(1|ccm)'],\n",
    "                                              self.merger_grid['fn_a(1|ccm)'][0],\n",
    "                                              self.merger_grid['fn_a(1|ccm)'][1],\n",
    "                                              self.merger_grid['fn_a(1|ccm)'][2]])[:,:,:,(self.zval-1):(self.zval+1)]\n",
    "        \n",
    "        #technically just the ee component of J\n",
    "        J = J_e - J_a\n",
    "        \n",
    "        S_R = 2**(1./2.)*G*np.transpose(np.array([[2*J,np.zeros_like(J)],[np.zeros_like(J),J]]),(2,0,1,3,4,5))\n",
    "        S_R_kappa = sft.kappa(S_R,basis)\n",
    "        \n",
    "        resonance = np.array(2**(-1/2)*G*self.n_b[:,:,np.newaxis]*(3.*self.Ye[:,:,np.newaxis]-np.ones_like(self.Ye[:,:,np.newaxis]))+S_R_kappa[0,0])\n",
    "\n",
    "        grad=np.gradient(resonance, 0.67928832684*1e5/(c*hbar))\n",
    "        projection=np.sum(basis.n_vector[1:4,np.newaxis,np.newaxis,np.newaxis]*grad, axis=0)\n",
    "\n",
    "        return np.array(np.abs(projection))[:,:,1]\n",
    "\n",
    "    #gets H_LR\n",
    "    def H_LRf(self, basis):\n",
    "        M=sft.M_2flavor\n",
    "        \n",
    "        S_R = 2**(1./2.)*G*np.transpose(np.array([[2*self.J,np.zeros_like(self.J)],\n",
    "                                                  [np.zeros_like(self.J),self.J]]),(2,0,1,3,4))\n",
    "        S_L = -2**(1./2.)*G*np.transpose(np.array([[2*self.J,np.zeros_like(self.J)],\n",
    "                                                   [np.zeros_like(self.J),self.J]]),(2,1,0,3,4))\n",
    "        S_L_minus = sft.minus(S_L, basis)\n",
    "        S_R_plus = sft.plus(S_R, basis)\n",
    "\n",
    "        MSl = np.transpose(np.array([[ np.matmul(np.conj(M),S_L_minus[:,:,x,y]) \n",
    "                                                                                   for y in range(201)]\n",
    "                                                                                   for x in range(201)]),(2,3,0,1))\n",
    "        \n",
    "        SrM = np.transpose(np.array([[ np.matmul(S_R_plus[:,:,x,y],np.conj(M))  \n",
    "                                                                                   for y in range(201)]\n",
    "                                                                                   for x in range(201)]) ,(2,3,0,1))\n",
    "        return (-1/self.p_abs)*(SrM-MSl)\n",
    "    \n",
    "    #gets full H\n",
    "    def H(self, basis):\n",
    "        return\n",
    "    #gets gamma\n",
    "    def adiabaticity(self, basis):\n",
    "        return np.real((self.H_LRf(basis)[0,0]**2)/self.grad_magnitude(basis))\n",
    "\n",
    "\n",
    "        #gets indices of points where adiab is greater than value at z\n",
    "        #\n",
    "    def max_adiab(self,adiab,value):\n",
    "        maxvals=np.where(adiab>value)\n",
    "        coordlist=[]\n",
    "        for n in range(0,len(maxvals[1])):\n",
    "            coordlist.append([int(maxvals[0][n]),int(maxvals[1][n])])\n",
    "        return np.array(coordlist)\n",
    "\n",
    "    #gets the coordinates of the points of adiab higher than value (for plotting)\n",
    "    def coords(self,adiab,value):\n",
    "        maxpoints=self.max_adiab(adiab,value)\n",
    "        xlist=[self.x_km[val[0],val[1]] for val in maxpoints]\n",
    "        ylist=[self.y_km[val[0],val[1]] for val in maxpoints]\n",
    "        return xlist,ylist\n",
    "    \n",
    "    \n",
    "    def contour_plot(self, savefig = False, x = 0, y = 0):\n",
    "        zval = self.zval\n",
    "        \n",
    "        f, ax = plt.subplots()\n",
    "        \n",
    "        #discriminant area\n",
    "        ax.contourf(self.x_km[:,:],self.y_km[:,:], self.discriminant_sign[:,:],\n",
    "                                   levels=[0.1,1,2,3], alpha=0.6, colors=['blue','red',[0.65,0,0.25]])\n",
    "        \n",
    "        #legend\n",
    "        proxy = [plt.Rectangle((1, 1), 2, 2, fc='blue'),plt.Rectangle((1, 1), 2, 2, fc='red'),plt.Rectangle((1, 1), 2, 2, fc=[0.7,0,0.5],ec='yellow')]\n",
    "        ax.legend(proxy, [\"ELN Crossing Present\", \"Resonance Condition Satisfied\",\"Both Conditions Satisfied\"])\n",
    "        \n",
    "        #resonance val\n",
    "        ax.contour(self.x_km[:,:],self.y_km[:,:],self.resonance_val_min[:,:], levels=[0,1], alpha=0.5, colors=['red'])\n",
    "        ax.contour(self.x_km[:,:],self.y_km[:,:],self.resonance_val_max[:,:], levels=[0,1], alpha=0.5, colors=['red'])\n",
    "\n",
    "        #both conditions\n",
    "        ax.contourf(self.x_km[:,:],self.y_km[:,:],self.both_conditions[:,:], levels=[0.5,1], colors=['yellow'] )\n",
    "        \n",
    "        mpl.pyplot.tick_params(axis='both',which=\"both\", direction=\"in\",top=True,right=True)\n",
    "        mpl.pyplot.minorticks_on()\n",
    "        ax.set_xlabel('x (km)')\n",
    "        ax.set_ylabel('y (km)')\n",
    "        plt.scatter(self.x_km[x,y],self.y_km[x,y], color = 'red')\n",
    "        #plt.contour(x[:,:,zval],y[:,:,zval],resonance_val_max[:,:,zval], levels=[0], colors=['blue'] )\n",
    "        #plt.title('Resonance Conditions and ELN Crossing Regions')\n",
    "        if savefig ==True:\n",
    "            plt.savefig('../'+'contour_plot_'+str(zval)+'.png', dpi=300)\n",
    "        else:\n",
    "            pass\n",
    "\n",
    "    #Adiabaticity Colorplot\n",
    "    def adiab_plot(self, minval = 1E-5, crit_region = False, savefig = False, theta_res = pi, phi_res = 0):\n",
    "        zval = self.zval\n",
    "        adiabaticity = self.adiabaticity(self.basis)\n",
    "        plt.grid(False)\n",
    "        colorplot=plt.pcolormesh(self.x_km[:,:],self.y_km[:,:],np.log10(adiabaticity[:,:]),cmap=plt.cm.hot,shading='auto', vmax=-3, vmin=-10)\n",
    "        \n",
    "        plt.xlabel('x (km)')\n",
    "        plt.ylabel('y (km)')\n",
    "        plt.colorbar(label=r'$log(\\gamma)$')\n",
    "        \n",
    "        if crit_region == True:\n",
    "            contourf=plt.contourf(self.x_km[:,:],self.y_km[:,:],self.both_conditions[:,:], alpha=0.5, levels=[0.5,1], colors=['blue'] )\n",
    "            proxy = [plt.Rectangle((1, 1), 2, 2, fc=pc.get_facecolor()[0]) for pc in\n",
    "            contourf.collections]\n",
    "        \n",
    "        plt.contour(self.x_km[:,:],self.y_km[:,:],self.resonance_val(sft.Basis(theta_res,phi_res)), levels=0)\n",
    "        #mpl.pyplot.tick_params(axis='both',which=\"both\", direction=\"in\",top=True,right=True)\n",
    "        mpl.pyplot.minorticks_on()\n",
    "        scatter=plt.scatter(self.coords(adiabaticity, minval)[0],self.coords(adiabaticity,minval)[1],color=[0,0.9,0], marker='x', label='Simulated Point')\n",
    "        red_patch = mpatches.Patch(color=[0.3,0,0.7], label='The red data')\n",
    "        plt.legend(handles=[scatter,red_patch], labels=[\"Simulated Point\",\"Both Conditions Satisfied\"], frameon = 1, framealpha=0.5)\n",
    "        plt.tight_layout()\n",
    "        plt.scatter(self.x_km[95,123],self.y_km[95,123])\n",
    "        if savefig ==True:\n",
    "            plt.savefig('../'+'adiabaticity_plot_'+str(zval)+'.png', dpi=300)\n",
    " "
   ]
  },
  {
   "cell_type": "code",
   "execution_count": 41,
   "id": "653fddaf",
   "metadata": {
    "scrolled": true
   },
   "outputs": [
    {
     "data": {
      "image/png": "[encoded data removed]",
      "text/plain": [
       "<Figure size 432x288 with 1 Axes>"
      ]
     },
     "metadata": {
      "needs_background": "light"
     },
     "output_type": "display_data"
    }
   ],
   "source": [
    "Merger_Grid(zval=99).contour_plot(x=91,y=139)"
   ]
  },
  {
   "cell_type": "code",
   "execution_count": 14,
   "id": "f6ffff16",
   "metadata": {},
   "outputs": [
    {
     "data": {
      "text/plain": [
       "0.679616544138824"
      ]
     },
     "execution_count": 14,
     "metadata": {},
     "output_type": "execute_result"
    }
   ],
   "source": [
    "xkm[1,0]-xkm[0,0]"
   ]
  },
  {
   "cell_type": "code",
   "execution_count": 17,
   "id": "6bf85aaf",
   "metadata": {},
   "outputs": [],
   "source": [
    "class AngularStuff:\n",
    "    def __init__(self, data_loc = \"/home/henryrpg/Desktop/N3AS/data/merger_grid.h5\", \n",
    "                unrotated_data_loc = \"/home/henryrpg/Desktop/N3AS/data/merger_grid_unrotated.h5\",\n",
    "                 p_abs=10**7, coordinate =[103,34,95], theta=0, phi=0,\n",
    "                 rotate = True):\n",
    "        \n",
    "        \n",
    "        #rotated data has ELN flux along z\n",
    "        if rotate == True:\n",
    "            self.merger_grid = h5py.File(data_loc, 'r')\n",
    "        elif rotate == False:\n",
    "            self.merger_grid = h5py.File(unrotated_data_loc, 'r')\n",
    "        else:\n",
    "            raise TypeError('rotate = True or False')\n",
    "        \n",
    "        #Electron fraction, baryon n density\n",
    "        self.rho=np.array(self.merger_grid['rho(g|ccm)'])[coordinate[0],coordinate[1],coordinate[2]] #g/cm^3 (baryon mass density)\n",
    "        self.Ye=np.array(self.merger_grid['Ye'])[coordinate[0],coordinate[1],coordinate[2]]\n",
    "        self.n_b=self.rho/M_p*(hbar**3 * c**3)#eV^3 (baryon number density)\n",
    "\n",
    "        #basis\n",
    "        self.basis = sft.Basis(theta,phi)\n",
    "        #momentum\n",
    "        self.p_abs = p_abs\n",
    "        \n",
    "        #discriminant condition\n",
    "        #self.discriminant = np.array(self.merger_grid['crossing_descriminant'])[coordinate[0],coordinate[1],coordinate[2]]\n",
    "        \n",
    "        self.J_e = (hbar**3 * c**3)*(np.array([self.merger_grid['n_e(1|ccm)'][coordinate[0],coordinate[1],coordinate[2]],\n",
    "                                             self.merger_grid['fn_e(1|ccm)'][0,coordinate[0],coordinate[1],coordinate[2]],\n",
    "                                             self.merger_grid['fn_e(1|ccm)'][1,coordinate[0],coordinate[1],coordinate[2]],\n",
    "                                             self.merger_grid['fn_e(1|ccm)'][2,coordinate[0],coordinate[1],coordinate[2]]]))\n",
    "                      \n",
    "        self.J_a = (hbar**3 * c**3)*np.array([self.merger_grid['n_a(1|ccm)'][coordinate[0],coordinate[1],coordinate[2]],\n",
    "                                              self.merger_grid['fn_a(1|ccm)'][0,coordinate[0],coordinate[1],coordinate[2]],\n",
    "                                              self.merger_grid['fn_a(1|ccm)'][1,coordinate[0],coordinate[1],coordinate[2]],\n",
    "                                              self.merger_grid['fn_a(1|ccm)'][2,coordinate[0],coordinate[1],coordinate[2]]])\n",
    "        \n",
    "        self.J_x = (hbar**3 * c**3)*np.array([self.merger_grid['n_x(1|ccm)'][coordinate[0],coordinate[1],coordinate[2]],\n",
    "                                              self.merger_grid['fn_x(1|ccm)'][0,coordinate[0],coordinate[1],coordinate[2]],\n",
    "                                              self.merger_grid['fn_x(1|ccm)'][1,coordinate[0],coordinate[1],coordinate[2]],\n",
    "                                              self.merger_grid['fn_x(1|ccm)'][2,coordinate[0],coordinate[1],coordinate[2]]])\n",
    "        \n",
    "        #technically just the ee component of J\n",
    "        self.J = self.J_e - self.J_a\n",
    "        \n",
    "        #Total (constant) flux, the trace of the particle flux. THE FACTOR BEHIND J_x MIGHT BE WRONG\n",
    "        self.J_tot = self.J_e + self.J_x\n",
    "\n",
    "        self.M = sft.M_2flavor\n",
    "        \n",
    "        self.S_R = 2**(1./2.)*G*np.transpose(np.array([[2*self.J,np.zeros_like(self.J)],[np.zeros_like(self.J),self.J]]),(2,0,1))\n",
    "        self.S_L = -2**(1./2.)*G*np.transpose(np.array([[2*self.J,np.zeros_like(self.J)],[np.zeros_like(self.J),self.J]]),(2,1,0))\n",
    "        \n",
    "        #H_LR at a point\n",
    "    def H_LR_at_basis(self,theta,phi):\n",
    "        basis = sft.Basis(theta, phi)\n",
    "        S_L_plus = sft.plus(self.S_L, basis)\n",
    "        S_R_plus = sft.plus(self.S_R, basis)\n",
    "        \n",
    "        MSl = np.array(np.matmul(np.conj(self.M),S_L_plus))\n",
    "        SrM = np.array(np.matmul(S_R_plus,np.conj(self.M)))\n",
    "        return (-1/self.p_abs)*(SrM-MSl)\n",
    "    \n",
    "    def resonance_at_basis(self, theta, phi):\n",
    "        \n",
    "        basis = sft.Basis(theta,phi)\n",
    "        S_R_kappa = sft.kappa(self.S_R,basis)\n",
    "\n",
    "        return np.array(2**(-1/2)*G*self.n_b*(3.*self.Ye-np.ones_like(self.Ye))+S_R_kappa[0,0])\n",
    "\n",
    "    #how do I make this work for different quantities\n",
    "    def angular_plot(self, theta_precision = 200, phi_precision = 100, savefig = True):\n",
    "        \n",
    "        H_LR_angular = np.transpose((np.array([[((np.real(self.H_LR_at_basis(theta,phi)[0,0]))**2\n",
    "                                               + (np.imag(self.H_LR_at_basis(theta,phi)[0,0]))**2)**(1/2)\n",
    "                                            for theta in np.linspace(0,np.pi,theta_precision)] \n",
    "                                            for phi in np.linspace(0,2*np.pi,phi_precision)])))\n",
    "        resonance_angular = np.transpose((np.array([[np.real(self.resonance_at_basis(theta,phi))  \n",
    "                                            for theta in np.linspace(0,np.pi,theta_precision)] \n",
    "                                            for phi in np.linspace(0,2*np.pi,phi_precision)])))\n",
    "        \n",
    "        f = plt.figure()\n",
    "        ax = f.add_subplot(projection = 'mollweide')\n",
    "        ax.grid(False)\n",
    "        H_LR_im = ax.pcolormesh(np.linspace(-np.pi,np.pi,phi_precision),\n",
    "                                np.linspace(0.5*np.pi,-0.5*np.pi,theta_precision),\n",
    "                                H_LR_angular, \n",
    "                                cmap=plt.cm.hot, shading='auto')\n",
    "        plt.colorbar(H_LR_im)\n",
    "        \n",
    "        res_im = ax.contour(np.linspace(-np.pi,np.pi,phi_precision), \n",
    "                            np.linspace(0.5*np.pi,-0.5*np.pi,theta_precision),\n",
    "                            resonance_angular, \n",
    "                            levels=[0.], colors='cyan')\n",
    "        \n",
    "        #add net flux point \n",
    "        ax.scatter([np.arctan2(self.J[2],self.J[1])],[np.arctan2(self.J[3],\n",
    "                                                (self.J[1]**2+self.J[2]**2)**(1/2))],label = 'ELN Flux Direction')\n",
    "        \n",
    "        #ax.scatter([np.arctan2(self.J_tot[2],self.J_tot[1])],\n",
    "         #          [np.arctan2(self.J_tot[3],(self.J_tot[1]**2+self.J_tot[2]**2)**(1/2))],\n",
    "          #         label = 'Main Particle Flow')\n",
    "        #ax.legend()\n",
    "        #ax.set_title(r'$Angular \\  Plot \\ of \\ H_{LR}$')\n",
    "        #ax.facecolor='white'\n",
    "        \n",
    "        #if savefig == True:\n",
    "        #    plt.tight_layout()\n",
    "        #    plt.savefig('../angularplot.png', dpi=300 )\n",
    "        #plt.show()"
   ]
  },
  {
   "cell_type": "code",
   "execution_count": 1,
   "id": "3de59b27",
   "metadata": {
    "scrolled": true
   },
   "outputs": [
    {
     "ename": "NameError",
     "evalue": "name 'np' is not defined",
     "output_type": "error",
     "traceback": [
      "\u001b[0;31m---------------------------------------------------------------------------\u001b[0m",
      "\u001b[0;31mNameError\u001b[0m                                 Traceback (most recent call last)",
      "Input \u001b[0;32mIn [1]\u001b[0m, in \u001b[0;36m<cell line: 1>\u001b[0;34m()\u001b[0m\n\u001b[0;32m----> 1\u001b[0m angles \u001b[38;5;241m=\u001b[39m \u001b[43mnp\u001b[49m\u001b[38;5;241m.\u001b[39mtranspose([[theta \u001b[38;5;28;01mfor\u001b[39;00m theta \u001b[38;5;129;01min\u001b[39;00m np\u001b[38;5;241m.\u001b[39mlinspace(\u001b[38;5;241m0\u001b[39m,np\u001b[38;5;241m.\u001b[39mpi,\u001b[38;5;241m200\u001b[39m)] \n\u001b[1;32m      2\u001b[0m                                             \u001b[38;5;28;01mfor\u001b[39;00m phi \u001b[38;5;129;01min\u001b[39;00m np\u001b[38;5;241m.\u001b[39mlinspace(\u001b[38;5;241m0\u001b[39m,\u001b[38;5;241m2\u001b[39m\u001b[38;5;241m*\u001b[39mnp\u001b[38;5;241m.\u001b[39mpi,\u001b[38;5;241m100\u001b[39m)])\n\u001b[1;32m      3\u001b[0m f \u001b[38;5;241m=\u001b[39m plt\u001b[38;5;241m.\u001b[39mfigure()\n\u001b[1;32m      4\u001b[0m ax \u001b[38;5;241m=\u001b[39m f\u001b[38;5;241m.\u001b[39madd_subplot(projection \u001b[38;5;241m=\u001b[39m \u001b[38;5;124m'\u001b[39m\u001b[38;5;124mmollweide\u001b[39m\u001b[38;5;124m'\u001b[39m)\n",
      "\u001b[0;31mNameError\u001b[0m: name 'np' is not defined"
     ]
    }
   ],
   "source": [
    "angles = np.transpose([[theta for theta in np.linspace(0,np.pi,200)] \n",
    "                                            for phi in np.linspace(0,2*np.pi,100)])\n",
    "f = plt.figure()\n",
    "ax = f.add_subplot(projection = 'mollweide')\n",
    "ax.grid(False)\n",
    "H_LR_im = ax.pcolormesh(np.linspace(-np.pi,np.pi,100),\n",
    "                        np.linspace(0.5*np.pi,-0.5*np.pi,200),\n",
    "                        angles, \n",
    "                        cmap=plt.cm.hot, shading='auto')\n",
    "plt.colorbar(H_LR_im)\n",
    "ax.scatter(0,0)"
   ]
  },
  {
   "cell_type": "code",
   "execution_count": 28,
   "id": "e0eeb5d8",
   "metadata": {},
   "outputs": [
    {
     "data": {
      "text/plain": [
       "array([-5.08206343e+18, -3.20000000e+01,  0.00000000e+00,  5.12872608e+18])"
      ]
     },
     "execution_count": 28,
     "metadata": {},
     "output_type": "execute_result"
    }
   ],
   "source": [
    "AngularStuff(rotate=True,coordinate=[106,136,99]).J"
   ]
  },
  {
   "cell_type": "code",
   "execution_count": 69,
   "id": "92b9699f",
   "metadata": {
    "scrolled": true
   },
   "outputs": [
    {
     "data": {
      "text/plain": [
       "['GM(eV^3)I',\n",
       " 'GM(eV^3)R',\n",
       " 'H_LR(eV)I',\n",
       " 'H_LR(eV)R',\n",
       " 'H_L_free(eV)',\n",
       " 'H_L_minusplus(eV)I',\n",
       " 'H_L_minusplus(eV)R',\n",
       " 'H_Lz(eV)I',\n",
       " 'H_Lz(eV)R',\n",
       " 'H_R_free(eV)',\n",
       " 'H_R_plusminus(eV)I',\n",
       " 'H_R_plusminus(eV)R',\n",
       " 'H_Rz(eV)I',\n",
       " 'H_Rz(eV)R',\n",
       " 'J(eV^3)I',\n",
       " 'J(eV^3)R',\n",
       " 'J_a(eV^3)I',\n",
       " 'J_a(eV^3)R',\n",
       " 'J_p(eV^3)I',\n",
       " 'J_p(eV^3)R',\n",
       " 'S_L(eV)I',\n",
       " 'S_L(eV)R',\n",
       " 'S_L_kappa(eV)I',\n",
       " 'S_L_kappa(eV)R',\n",
       " 'S_L_minus(eV)I',\n",
       " 'S_L_minus(eV)R',\n",
       " 'S_L_plus(eV)I',\n",
       " 'S_L_plus(eV)R',\n",
       " 'S_R(eV)I',\n",
       " 'S_R(eV)R',\n",
       " 'S_R_kappa(eV)I',\n",
       " 'S_R_kappa(eV)R',\n",
       " 'S_R_minus(eV)I',\n",
       " 'S_R_minus(eV)R',\n",
       " 'S_R_plus(eV)I',\n",
       " 'S_R_plus(eV)R',\n",
       " 't(s)',\n",
       " 'z(cm)']"
      ]
     },
     "execution_count": 69,
     "metadata": {},
     "output_type": "execute_result"
    }
   ],
   "source": [
    "#if skipping the above: set output_filename as the loc of the (already generated) h5 dataset you want to look at\n",
    "data_base_directory = \"/home/henryrpg/Desktop/N3AS/data/critpoint2.h5\"\n",
    "output_filename = data_base_directory[0:-3]+'_spin_flip_matrices_zdirr.h5'\n",
    "\n",
    "#extract calculated data, show the datasets\n",
    "# note - us|e h5ls in the terminal to peek inside a hdf5 file\n",
    "data =  h5py.File(output_filename, \"r\") \n",
    "list(data.keys())"
   ]
  },
  {
   "cell_type": "code",
   "execution_count": null,
   "id": "0343a42f",
   "metadata": {},
   "outputs": [],
   "source": []
  },
  {
   "cell_type": "code",
   "execution_count": 17,
   "id": "31dec9a3",
   "metadata": {},
   "outputs": [
    {
     "data": {
      "text/plain": [
       "33.301210662802376"
      ]
     },
     "execution_count": 17,
     "metadata": {},
     "output_type": "execute_result"
    }
   ],
   "source": [
    "49*0.679616544138824"
   ]
  },
  {
   "cell_type": "code",
   "execution_count": 29,
   "id": "e212f79f",
   "metadata": {},
   "outputs": [],
   "source": [
    "#adds GM components of flux\n",
    "GM_data = sft.GM_components(data) \n",
    "data.close()\n",
    "data_append =  h5py.File(output_filename, \"a\")\n",
    "sft.append_to_hdf5(data_append, \"GM(eV^3)\", GM_data)\n",
    "data = h5py.File(output_filename, \"r\")"
   ]
  },
  {
   "cell_type": "code",
   "execution_count": 24,
   "id": "0328a742",
   "metadata": {},
   "outputs": [],
   "source": [
    "# for plots: choose 'basis' as your basis component (either 0,1,2, or 3) and 'data' as your read-permission h5 dataset\n",
    "\n",
    "basis=3\n",
    "\n",
    "data = h5py.File(\"/home/henryrpg/Desktop/N3AS/data/critpoint2_spin_flip_matrices_zdirr.h5\", \"r\") "
   ]
  },
  {
   "cell_type": "code",
   "execution_count": 19,
   "id": "9d4fef42",
   "metadata": {
    "scrolled": true
   },
   "outputs": [
    {
     "data": {
      "image/png": "[encoded data removed]",
      "text/plain": [
       "<Figure size 432x288 with 1 Axes>"
      ]
     },
     "metadata": {},
     "output_type": "display_data"
    }
   ],
   "source": [
    "#plots flux GM components along chosen basis component\n",
    "t = np.array(data[\"t(s)\"])\n",
    "plt.xlabel(\"time (s)\")\n",
    "plt.ylabel(r\"$eV^3$\")\n",
    "plt.title('GM Components vs Time, '+str(basis)+ \" basis\")    \n",
    "plt.plot(t,np.average(np.absolute(sft.total(data, 'GM(eV^3)')[0][:,basis,:,:]), axis=1),label=[str(k)for k in range(0,8)])\n",
    "plt.legend()\n",
    "plt.grid()"
   ]
  },
  {
   "cell_type": "code",
   "execution_count": 20,
   "id": "8fa804f6",
   "metadata": {},
   "outputs": [],
   "source": [
    "#plots [basis] component of Flux \n"
   ]
  },
  {
   "cell_type": "code",
   "execution_count": 25,
   "id": "cc9d8dba",
   "metadata": {
    "scrolled": false
   },
   "outputs": [
    {
     "data": {
      "image/png": "[encoded data removed]",
      "text/plain": [
       "<Figure size 432x288 with 1 Axes>"
      ]
     },
     "metadata": {},
     "output_type": "display_data"
    }
   ],
   "source": [
    "#plots [basis] component of Flux \n",
    "J=sft.total(data,\"J(eV^3)\")\n",
    "t = np.array(data[\"t(s)\"])\n",
    "plt.xlabel(\"time (s)\")\n",
    "plt.ylabel(r\"$eV^3$\")\n",
    "plt.title(str(basis)+'-component of Flux vs Time')    \n",
    "plt.semilogy(t,np.average(sft.scalarfunc_time(J[:,3,:,:,:]), axis=1))\n",
    "plt.grid()"
   ]
  },
  {
   "cell_type": "code",
   "execution_count": 37,
   "id": "66954bf8",
   "metadata": {
    "scrolled": false
   },
   "outputs": [
    {
     "data": {
      "image/png": "[encoded data removed]",
      "text/plain": [
       "<Figure size 432x288 with 1 Axes>"
      ]
     },
     "metadata": {
      "needs_background": "light"
     },
     "output_type": "display_data"
    }
   ],
   "source": [
    "#plots H_LR\n",
    "H_LR=sft.total(data,\"H_LR(eV)\")\n",
    "t = np.array(data[\"t(s)\"])\n",
    "plt.xlabel(\"time (ns)\")\n",
    "plt.ylabel(r\"$|H_{LR}| \\ \\ (eV)$\")\n",
    "#plt.ylim(1e-17,5e-13)\n",
    "#plt.xlim(0,0.4)\n",
    "#plt.title('Spin-Flip Hamiltionian Component during Fast Flavor Instability')    \n",
    "plt.semilogy(10**9*t,np.average(sft.scalarfunc_time(H_LR[:,:,:,:]), axis=1))\n",
    "plt.fill_between([0.11,0.28], 0, 1e-12, alpha=0.5, color='yellow')\n",
    "proxy = [plt.Rectangle((1, 1), 2, 2, fc='yellow')]\n",
    "plt.legend(proxy, [\"Instability\"], loc='upper left')\n",
    "mpl.pyplot.tick_params(axis='both',which=\"both\", direction=\"in\",top=True,right=True)\n",
    "mpl.pyplot.minorticks_on()\n",
    "\n",
    "\n",
    "plt.grid()\n",
    "plt.savefig('../H_LR.png', dpi=300)"
   ]
  },
  {
   "cell_type": "code",
   "execution_count": null,
   "id": "3d3ddc92",
   "metadata": {},
   "outputs": [],
   "source": [
    "#plots the kappa component of the potential\n",
    "kappa=sft.total(data,'S_R_kappa(eV)')\n",
    "t = np.array(data[\"t(s)\"])\n",
    "plt.xlabel(\"time (s)\")\n",
    "plt.ylabel(r\"$eV$\")\n",
    "plt.title('Kappa Component of Potential vs Time')    \n",
    "plt.plot(t,np.average(kappa[:,0,0,:], axis=1))\n",
    "plt.grid()\n",
    "plt.savefig('../kappa.png', dpi=300)"
   ]
  },
  {
   "cell_type": "code",
   "execution_count": null,
   "id": "43eb6fb9",
   "metadata": {},
   "outputs": [],
   "source": [
    "np.shape(kappa)"
   ]
  },
  {
   "cell_type": "code",
   "execution_count": null,
   "id": "6f9634e7",
   "metadata": {
    "scrolled": false
   },
   "outputs": [],
   "source": [
    "#Plots neutrino-neutrino + vacuum part of diagonal component \n",
    "H_vv=sft.total(data,'H_Rz(eV)')\n",
    "t = np.array(data[\"t(s)\"])\n",
    "plt.xlabel(\"time (s)\")\n",
    "plt.ylabel(r\"$eV$\")\n",
    "plt.title(r'$H_{\\nu\\nu}+H_m$ vs Time')    \n",
    "plt.plot(t,np.average(sft.scalarfunc_time(H_vv[:,:,:,:]), axis=1))\n",
    "plt.grid()"
   ]
  },
  {
   "cell_type": "code",
   "execution_count": null,
   "id": "a8e73e15",
   "metadata": {},
   "outputs": [],
   "source": [
    "#Plots neutrino-neutrino + vacuum part of diagonal component against space (at time t)\n",
    "t=0\n",
    "H_vv=sft.total(data,'H_Rz(eV)')\n",
    "z = np.array(data[\"z(cm)\"])\n",
    "plt.xlabel(\"position (cm)\")\n",
    "plt.ylabel(r\"$eV$\")\n",
    "#plt.title('Spin-Flip Hamiltionian Component vs Space at t = '+str(t))    \n",
    "plt.plot(z,H_vv[t,0,0,:])\n",
    "plt.grid()"
   ]
  },
  {
   "cell_type": "code",
   "execution_count": 7,
   "id": "b225586e",
   "metadata": {
    "scrolled": false
   },
   "outputs": [
    {
     "data": {
      "text/plain": [
       "<KeysViewHDF5 ['J_a(erg|ccm)', 'J_e(erg|ccm)', 'J_x(erg|ccm)', 'Ye', 'crossing_discriminant', 'deltaCrossingAngle', 'eddfac_a(1|ccm)', 'eddfac_e(1|ccm)', 'eddfac_x(1|ccm)', 'fluxfac_a(1|ccm)', 'fluxfac_e(1|ccm)', 'fluxfac_x(1|ccm)', 'fn_a(1|ccm)', 'fn_e(1|ccm)', 'fn_x(1|ccm)', 'minerbo_Za', 'minerbo_Ze', 'minerbo_Zx', 'n_a(1|ccm)', 'n_e(1|ccm)', 'n_x(1|ccm)', 'rho(g|ccm)', 'x(cm)', 'x(km)', 'y(cm)', 'y(km)', 'z(cm)']>"
      ]
     },
     "execution_count": 7,
     "metadata": {},
     "output_type": "execute_result"
    }
   ],
   "source": [
    "\n",
    "\n",
    "\n",
    "\n",
    "\n",
    "\n",
    "\n",
    "\n",
    "\n",
    "\n",
    "\n",
    "\n",
    "\n",
    "\n",
    "\n",
    "\n",
    "\n",
    "\n",
    "#MERGER GRID FUNCTIONS: all plots involving 3d grid of data from the supernova merger (Rather than a single simulation)\n",
    "merger_grid = h5py.File(\"/home/henryrpg/Desktop/N3AS/data/merger_grid.h5\",\"r\")\n",
    "merger_grid_unrotated = h5py.File(\"/home/henryrpg/Desktop/N3AS/data/merger_grid_unrotated.h5\",\"r\")\n",
    "merger_grid_unrotated.keys()\n",
    "#use the km units, not the cm\n"
   ]
  },
  {
   "cell_type": "code",
   "execution_count": 14,
   "id": "76398047",
   "metadata": {},
   "outputs": [
    {
     "data": {
      "text/plain": [
       "1.5490443933176497e+28"
      ]
     },
     "execution_count": 14,
     "metadata": {},
     "output_type": "execute_result"
    }
   ],
   "source": [
    "location = [106,136,99]\n",
    "merger_grid['J_e(erg|ccm)'][106,136,99]\n"
   ]
  },
  {
   "cell_type": "code",
   "execution_count": 18,
   "id": "644183b7",
   "metadata": {},
   "outputs": [
    {
     "data": {
      "text/plain": [
       "4.077699264833035"
      ]
     },
     "execution_count": 18,
     "metadata": {},
     "output_type": "execute_result"
    }
   ],
   "source": [
    "xkm[106,0]"
   ]
  },
  {
   "cell_type": "code",
   "execution_count": 21,
   "id": "870b14cb",
   "metadata": {},
   "outputs": [],
   "source": [
    "fluxfac_e = np.array(merger_grid['eddfac_e(1|ccm)'])"
   ]
  },
  {
   "cell_type": "code",
   "execution_count": 22,
   "id": "9e7eca96",
   "metadata": {},
   "outputs": [
    {
     "data": {
      "text/plain": [
       "(201, 201, 101)"
      ]
     },
     "execution_count": 22,
     "metadata": {},
     "output_type": "execute_result"
    }
   ],
   "source": [
    "np.shape(fluxfac_e)"
   ]
  },
  {
   "cell_type": "code",
   "execution_count": 58,
   "id": "ff2a00be",
   "metadata": {},
   "outputs": [
    {
     "name": "stderr",
     "output_type": "stream",
     "text": [
      "/tmp/ipykernel_190/2108109855.py:204: MatplotlibDeprecationWarning: Auto-removal of grids by pcolor() and pcolormesh() is deprecated since 3.5 and will be removed two minor releases later; please call grid(False) first.\n",
      "  plt.colorbar(label=r'$log(\\gamma)$')\n"
     ]
    },
    {
     "data": {
      "image/png": "[encoded data removed]",
      "text/plain": [
       "<Figure size 432x288 with 2 Axes>"
      ]
     },
     "metadata": {},
     "output_type": "display_data"
    }
   ],
   "source": [
    "Merger_Grid(theta=pi/2).adiab_plot(theta_res = pi,crit_region=True)"
   ]
  },
  {
   "cell_type": "code",
   "execution_count": 59,
   "id": "51bcff89",
   "metadata": {},
   "outputs": [],
   "source": [
    "#hdf5 append? \n",
    "#new projection only showing half the angular space?\n"
   ]
  },
  {
   "cell_type": "code",
   "execution_count": 60,
   "id": "ef67389f",
   "metadata": {
    "scrolled": true
   },
   "outputs": [
    {
     "ename": "TypeError",
     "evalue": "adiab_plot() got an unexpected keyword argument 'zval'",
     "output_type": "error",
     "traceback": [
      "\u001b[0;31m---------------------------------------------------------------------------\u001b[0m",
      "\u001b[0;31mTypeError\u001b[0m                                 Traceback (most recent call last)",
      "\u001b[0;32m/tmp/ipykernel_190/4288460007.py\u001b[0m in \u001b[0;36m<module>\u001b[0;34m\u001b[0m\n\u001b[0;32m----> 1\u001b[0;31m \u001b[0mMerger_Grid\u001b[0m\u001b[0;34m(\u001b[0m\u001b[0mtheta\u001b[0m\u001b[0;34m=\u001b[0m\u001b[0mpi\u001b[0m\u001b[0;34m/\u001b[0m\u001b[0;36m2\u001b[0m\u001b[0;34m)\u001b[0m\u001b[0;34m.\u001b[0m\u001b[0madiab_plot\u001b[0m\u001b[0;34m(\u001b[0m\u001b[0mzval\u001b[0m \u001b[0;34m=\u001b[0m \u001b[0;36m5\u001b[0m\u001b[0;34m,\u001b[0m\u001b[0mminval\u001b[0m \u001b[0;34m=\u001b[0m \u001b[0;36m1E-5\u001b[0m\u001b[0;34m,\u001b[0m \u001b[0mcrit_region\u001b[0m \u001b[0;34m=\u001b[0m\u001b[0;32mTrue\u001b[0m\u001b[0;34m,\u001b[0m \u001b[0msavefig\u001b[0m\u001b[0;34m=\u001b[0m\u001b[0;32mTrue\u001b[0m\u001b[0;34m)\u001b[0m\u001b[0;34m\u001b[0m\u001b[0;34m\u001b[0m\u001b[0m\n\u001b[0m",
      "\u001b[0;31mTypeError\u001b[0m: adiab_plot() got an unexpected keyword argument 'zval'"
     ]
    }
   ],
   "source": [
    "Merger_Grid(theta=pi/2).adiab_plot(zval = 5,minval = 1E-5, crit_region =True, savefig=True)"
   ]
  },
  {
   "cell_type": "code",
   "execution_count": null,
   "id": "b54bc61d",
   "metadata": {},
   "outputs": [],
   "source": [
    "merger_grid = h5py.File(\"/home/henryrpg/Desktop/N3AS/data/merger_grid.h5\",\"r\")\n",
    "merger_grid_unrotated = h5py.File(\"/home/henryrpg/Desktop/N3AS/data/merger_grid_unrotated.h5\",\"r\")\n",
    "merger_grid_unrotated.keys()\n",
    "#use the km units, not the cm units"
   ]
  },
  {
   "cell_type": "code",
   "execution_count": 61,
   "id": "4b97895b",
   "metadata": {
    "scrolled": true
   },
   "outputs": [],
   "source": [
    "#constants and values\n",
    "G=1.1663787*10**(-23) # eV^-2\n",
    "c=2.998e+10 #cm/s\n",
    "M_p=1.6726219*10**(-24)#grams (Proton mass)\n",
    "rho=np.array(merger_grid['rho(g|ccm)']) #g/cm^3 (baryon mass density)\n",
    "Ye=np.array(merger_grid['Ye'])\n",
    "hbar=6.58211951*10**(-16) #eV s\n",
    "n_b=rho/M_p*(hbar**3 * c**3)#eV^3 (baryon number density)\n",
    "\n",
    "#x,y axes\n",
    "x_km=np.array(merger_grid['x(km)'])[0]\n",
    "y_km=np.array(merger_grid['y(km)'])[0]\n",
    "\n",
    "#discriminant condition\n",
    "discriminant=np.array(merger_grid['crossing_descriminant'])\n",
    "discriminant_unrotated=np.array(merger_grid_unrotated['crossing_discriminant'])\n",
    "\n",
    "positive=np.where(discriminant>=0)\n",
    "negative=np.where(discriminant<0)\n",
    "\n",
    "discriminant_sign=np.zeros_like(discriminant)\n",
    "\n",
    "discriminant_sign[positive]=1\n",
    "discriminant_sign[negative]=0"
   ]
  },
  {
   "cell_type": "code",
   "execution_count": 16,
   "id": "95770cca",
   "metadata": {},
   "outputs": [],
   "source": [
    "J_e=(hbar**3 * c**3)*(np.array([merger_grid['n_e(1|ccm)'],\n",
    "              merger_grid['fn_e(1|ccm)'][0],merger_grid['fn_e(1|ccm)'][1],merger_grid['fn_e(1|ccm)'][2]]))\n",
    "                      "
   ]
  },
  {
   "cell_type": "code",
   "execution_count": 17,
   "id": "917be2ae",
   "metadata": {},
   "outputs": [
    {
     "data": {
      "text/plain": [
       "(4, 201, 201, 101)"
      ]
     },
     "execution_count": 17,
     "metadata": {},
     "output_type": "execute_result"
    }
   ],
   "source": [
    "np.array(J_e).shape"
   ]
  },
  {
   "cell_type": "code",
   "execution_count": 15,
   "id": "182d9316",
   "metadata": {},
   "outputs": [
    {
     "ename": "NameError",
     "evalue": "name 'n_b' is not defined",
     "output_type": "error",
     "traceback": [
      "\u001b[0;31m---------------------------------------------------------------------------\u001b[0m",
      "\u001b[0;31mNameError\u001b[0m                                 Traceback (most recent call last)",
      "\u001b[0;32m/tmp/ipykernel_168/3619747270.py\u001b[0m in \u001b[0;36m<module>\u001b[0;34m\u001b[0m\n\u001b[1;32m     13\u001b[0m \u001b[0mH_vv_min\u001b[0m\u001b[0;34m=\u001b[0m\u001b[0;36m2\u001b[0m\u001b[0;34m**\u001b[0m\u001b[0;34m(\u001b[0m\u001b[0;36m1.\u001b[0m\u001b[0;34m/\u001b[0m\u001b[0;36m2.\u001b[0m\u001b[0;34m)\u001b[0m\u001b[0;34m*\u001b[0m\u001b[0mG\u001b[0m\u001b[0;34m*\u001b[0m\u001b[0;34m(\u001b[0m\u001b[0mJ\u001b[0m\u001b[0;34m[\u001b[0m\u001b[0;36m0\u001b[0m\u001b[0;34m]\u001b[0m\u001b[0;34m+\u001b[0m\u001b[0mmag_F\u001b[0m\u001b[0;34m)\u001b[0m\u001b[0;34m\u001b[0m\u001b[0;34m\u001b[0m\u001b[0m\n\u001b[1;32m     14\u001b[0m \u001b[0mH_vv_max\u001b[0m\u001b[0;34m=\u001b[0m\u001b[0;36m2\u001b[0m\u001b[0;34m**\u001b[0m\u001b[0;34m(\u001b[0m\u001b[0;36m1.\u001b[0m\u001b[0;34m/\u001b[0m\u001b[0;36m2.\u001b[0m\u001b[0;34m)\u001b[0m\u001b[0;34m*\u001b[0m\u001b[0mG\u001b[0m\u001b[0;34m*\u001b[0m\u001b[0;34m(\u001b[0m\u001b[0mJ\u001b[0m\u001b[0;34m[\u001b[0m\u001b[0;36m0\u001b[0m\u001b[0;34m]\u001b[0m\u001b[0;34m-\u001b[0m\u001b[0mmag_F\u001b[0m\u001b[0;34m)\u001b[0m\u001b[0;34m\u001b[0m\u001b[0;34m\u001b[0m\u001b[0m\n\u001b[0;32m---> 15\u001b[0;31m \u001b[0mresonance_val_max\u001b[0m \u001b[0;34m=\u001b[0m \u001b[0;36m2\u001b[0m\u001b[0;34m**\u001b[0m\u001b[0;34m(\u001b[0m\u001b[0;34m-\u001b[0m\u001b[0;36m1\u001b[0m\u001b[0;34m/\u001b[0m\u001b[0;36m2\u001b[0m\u001b[0;34m)\u001b[0m\u001b[0;34m*\u001b[0m\u001b[0mG\u001b[0m\u001b[0;34m*\u001b[0m\u001b[0mn_b\u001b[0m\u001b[0;34m*\u001b[0m\u001b[0;34m(\u001b[0m\u001b[0;36m3.\u001b[0m\u001b[0;34m*\u001b[0m\u001b[0mYe\u001b[0m\u001b[0;34m-\u001b[0m\u001b[0mnp\u001b[0m\u001b[0;34m.\u001b[0m\u001b[0mones_like\u001b[0m\u001b[0;34m(\u001b[0m\u001b[0mYe\u001b[0m\u001b[0;34m)\u001b[0m\u001b[0;34m)\u001b[0m\u001b[0;34m+\u001b[0m\u001b[0mH_vv_max\u001b[0m\u001b[0;34m\u001b[0m\u001b[0;34m\u001b[0m\u001b[0m\n\u001b[0m\u001b[1;32m     16\u001b[0m \u001b[0mresonance_val_min\u001b[0m \u001b[0;34m=\u001b[0m \u001b[0;36m2\u001b[0m\u001b[0;34m**\u001b[0m\u001b[0;34m(\u001b[0m\u001b[0;34m-\u001b[0m\u001b[0;36m1\u001b[0m\u001b[0;34m/\u001b[0m\u001b[0;36m2\u001b[0m\u001b[0;34m)\u001b[0m\u001b[0;34m*\u001b[0m\u001b[0mG\u001b[0m\u001b[0;34m*\u001b[0m\u001b[0mn_b\u001b[0m\u001b[0;34m*\u001b[0m\u001b[0;34m(\u001b[0m\u001b[0;36m3.\u001b[0m\u001b[0;34m*\u001b[0m\u001b[0mYe\u001b[0m\u001b[0;34m-\u001b[0m\u001b[0mnp\u001b[0m\u001b[0;34m.\u001b[0m\u001b[0mones_like\u001b[0m\u001b[0;34m(\u001b[0m\u001b[0mYe\u001b[0m\u001b[0;34m)\u001b[0m\u001b[0;34m)\u001b[0m\u001b[0;34m+\u001b[0m\u001b[0mH_vv_min\u001b[0m\u001b[0;34m\u001b[0m\u001b[0;34m\u001b[0m\u001b[0m\n\u001b[1;32m     17\u001b[0m \u001b[0;34m\u001b[0m\u001b[0m\n",
      "\u001b[0;31mNameError\u001b[0m: name 'n_b' is not defined"
     ]
    }
   ],
   "source": [
    "#4-component flux vectors for electron neutrinos (e), electron antineutrinos (a), and other neutrinos (x)\n",
    "#all in eV^3\n",
    "J_e=(hbar**3 * c**3)*(np.array([merger_grid['n_e(1|ccm)'],\n",
    "              merger_grid['fn_e(1|ccm)'][0],merger_grid['fn_e(1|ccm)'][1],merger_grid['fn_e(1|ccm)'][2]]))\n",
    "                      \n",
    "J_a=(hbar**3 * c**3)*np.array([merger_grid['n_a(1|ccm)'],\n",
    "              merger_grid['fn_a(1|ccm)'][0],merger_grid['fn_a(1|ccm)'][1],merger_grid['fn_a(1|ccm)'][2]])\n",
    "                      \n",
    "J = J_e - J_a \n",
    "\n",
    "#computing max, min values of the resonance condition\n",
    "mag_F=np.sqrt(np.sum(J[1:4,:,:,:]**2, axis=0))\n",
    "H_vv_min=2**(1./2.)*G*(J[0]+mag_F)\n",
    "H_vv_max=2**(1./2.)*G*(J[0]-mag_F)\n",
    "resonance_val_max = 2**(-1/2)*G*n_b*(3.*Ye-np.ones_like(Ye))+H_vv_max\n",
    "resonance_val_min = 2**(-1/2)*G*n_b*(3.*Ye-np.ones_like(Ye))+H_vv_min\n",
    "\n",
    "\n",
    "\n",
    "#conditions\n",
    "positive_resonance=np.where(resonance_val_min>=0)\n",
    "\n",
    "resonance_sign=np.zeros_like(discriminant)\n",
    "resonance_sign[positive_resonance]=1\n",
    "\n",
    "both_conditions=resonance_sign*discriminant_sign"
   ]
  },
  {
   "cell_type": "code",
   "execution_count": 63,
   "id": "6dadd6cf",
   "metadata": {
    "scrolled": true
   },
   "outputs": [
    {
     "data": {
      "image/png": "[encoded data removed]",
      "text/plain": [
       "<Figure size 432x288 with 1 Axes>"
      ]
     },
     "metadata": {},
     "output_type": "display_data"
    }
   ],
   "source": [
    "#see cntours at z=zval\n",
    "zval=95\n",
    "#colorplot=plt.pcolormesh(x[:,:,zval],y[:,:,zval],discriminant[:,:,zval],cmap=plt.cm.RdYlBu,shading='auto',vmax=0.3,vmin=-0.3)\n",
    "#plt.colorbar()\n",
    "cs=plt.contourf(x_km[:,:,zval],y_km[:,:,zval], discriminant_sign[:,:,zval], levels=[0.1,1,2,3], alpha=0.6, colors=['blue','red',[0.65,0,0.25]])\n",
    "proxy = [plt.Rectangle((1, 1), 2, 2, fc='blue'),plt.Rectangle((1, 1), 2, 2, fc='red'),plt.Rectangle((1, 1), 2, 2, fc=[0.7,0,0.5],ec='yellow')]\n",
    "\n",
    "plt.legend(proxy, [\"ELN Crossing Present\", \"Resonance Condition Satisfied\",\"Both Conditions Satisfied\"])\n",
    "plt.contourf(x_km[:,:,zval],y_km[:,:,zval],resonance_val_min[:,:,zval], levels=[0,1], alpha=0.5, colors=['red'])\n",
    "plt.contour(x_km[:,:,zval],y_km[:,:,zval],both_conditions[:,:,zval], levels=[0.5,1], colors=['yellow'] )\n",
    "mpl.pyplot.tick_params(axis='both',which=\"both\", direction=\"in\",top=True,right=True)\n",
    "mpl.pyplot.minorticks_on()\n",
    "plt.xlabel('x (km)')\n",
    "plt.ylabel('y (km)')\n",
    "#plt.contour(x[:,:,zval],y[:,:,zval],resonance_val_max[:,:,zval], levels=[0], colors=['blue'] )\n",
    "#plt.title('Resonance Conditions and ELN Crossing Regions')\n",
    "plt.savefig('../'+str(zval)+'.png', dpi=300)"
   ]
  },
  {
   "cell_type": "code",
   "execution_count": 51,
   "id": "1b69b249",
   "metadata": {},
   "outputs": [],
   "source": [
    "############################\n",
    "#angle-dependent resonance##\n",
    "###########################\n",
    "\n",
    "J_e=(hbar**3 * c**3)*(np.array([merger_grid['n_e(1|ccm)'],\n",
    "              merger_grid['fn_e(1|ccm)'][0],merger_grid['fn_e(1|ccm)'][1],merger_grid['fn_e(1|ccm)'][2]]))\n",
    "                      \n",
    "J_a=(hbar**3 * c**3)*np.array([merger_grid['n_a(1|ccm)'],\n",
    "              merger_grid['fn_a(1|ccm)'][0],merger_grid['fn_a(1|ccm)'][1],merger_grid['fn_a(1|ccm)'][2]])\n",
    "#rotated data: max ELN flux along z\n",
    "J_merger=J_e-J_a\n",
    "\n",
    "\n",
    "\n",
    "\n",
    "J_eu=(hbar**3 * c**3)*(np.array([merger_grid_unrotated['n_e(1|ccm)'],\n",
    "              merger_grid_unrotated['fn_e(1|ccm)'][0],merger_grid_unrotated['fn_e(1|ccm)'][1],merger_grid_unrotated['fn_e(1|ccm)'][2]]))\n",
    "                      \n",
    "J_au=(hbar**3 * c**3)*np.array([merger_grid_unrotated['n_a(1|ccm)'],\n",
    "              merger_grid_unrotated['fn_a(1|ccm)'][0],merger_grid_unrotated['fn_a(1|ccm)'][1],merger_grid_unrotated['fn_a(1|ccm)'][2]])\n",
    "#unrotated\n",
    "J_u=J_eu-J_au"
   ]
  },
  {
   "cell_type": "code",
   "execution_count": 52,
   "id": "ebf91c4c",
   "metadata": {},
   "outputs": [],
   "source": [
    "#returns the value of the resonance condition with the given basis\n",
    "def resonance_val(J, basis):\n",
    "   \n",
    "    S_R = 2**(1./2.)*G*np.transpose(np.array([[2*J,np.zeros_like(J)],[np.zeros_like(J),J]]),(2,0,1,3,4,5))\n",
    "    \n",
    "    S_R_kappa = sft.kappa(S_R,basis)\n",
    "    \n",
    "    return np.array(2**(-1/2)*G*n_b*(3.*Ye-np.ones_like(Ye))+S_R_kappa[0,0])\n",
    "\n",
    "#gets the gradient\n",
    "def grad_magnitude(J, basis):\n",
    "\n",
    "    grad=np.gradient(resonance_val(J,basis), 0.67928832684*1e5/(c*hbar))\n",
    "    projection=np.sum(basis.n_vector[1:4,np.newaxis,np.newaxis,np.newaxis]*grad, axis=0)\n",
    "    \n",
    "    return np.array(np.abs(projection))\n",
    "\n",
    "#gets H_LR\n",
    "def H_LRf(J, basis):\n",
    "    M=sft.M_2flavor\n",
    "    p_abs=10**7\n",
    "    S_R = 2**(1./2.)*G*np.transpose(np.array([[2*J,np.zeros_like(J)],[np.zeros_like(J),J]]),(2,0,1,3,4,5))\n",
    "    S_L = -2**(1./2.)*G*np.transpose(np.array([[2*J,np.zeros_like(J)],[np.zeros_like(J),J]]),(2,1,0,3,4,5))\n",
    "    S_L_minus = sft.minus(S_L, basis)\n",
    "    S_R_plus = sft.plus(S_R, basis)\n",
    "    \n",
    "    MSl = np.transpose(np.array([[[ np.matmul(np.conj(M),S_L_minus[:,:,x,y,z]) for z in range(101) ] for y in range(201)] for x in range(201)]),(3,4,0,1,2))\n",
    "    SrM = np.transpose(np.array([[[ np.matmul(S_R_plus[:,:,x,y,z],np.conj(M))  for z in range(101) ] for y in range(201)] for x in range(201)]) ,(3,4,0,1,2))\n",
    "    return (-1/p_abs)*(SrM-MSl)\n",
    "\n",
    "#gets gamma\n",
    "def adiabaticity(J,basis):\n",
    "    return np.real((H_LRf(J,basis)[0,0]**2)/grad_magnitude(J,basis))\n",
    "\n",
    "#gets indices of points where adiab is greater than value at z\n",
    "def max_adiab(adiab,z,value):\n",
    "    maxvals=np.where(adiab>value)\n",
    "    coordlist=[]\n",
    "    for n in range(0,len(maxvals[2])):\n",
    "        if maxvals[2][n]==z:\n",
    "            coordlist.append([int(maxvals[0][n]),int(maxvals[1][n])])\n",
    "    return np.array(coordlist)\n",
    "\n",
    "#gets the coordinates of the points of adiab higher than value (for plotting)\n",
    "def coords(adiab,z,value):\n",
    "    maxpoints=max_adiab(adiab,z,value)\n",
    "    xlist=[x_km[val[0],val[1],z] for val in maxpoints]\n",
    "    ylist=[y_km[val[0],val[1],z] for val in maxpoints]\n",
    "    return xlist,ylist"
   ]
  },
  {
   "cell_type": "code",
   "execution_count": 53,
   "id": "f445bc43",
   "metadata": {
    "scrolled": true
   },
   "outputs": [],
   "source": [
    "basis=sft.Basis(np.pi/2,0)\n",
    "adiab= adiabaticity(J_merger,basis)"
   ]
  },
  {
   "cell_type": "code",
   "execution_count": 20,
   "id": "15f64ae0",
   "metadata": {},
   "outputs": [
    {
     "data": {
      "text/plain": [
       "(array([1]), array([2]))"
      ]
     },
     "execution_count": 20,
     "metadata": {},
     "output_type": "execute_result"
    }
   ],
   "source": [
    "np.where(np.array([[1,2,3],[4,5,6]])>5)"
   ]
  },
  {
   "cell_type": "code",
   "execution_count": 20,
   "id": "ba968be3",
   "metadata": {},
   "outputs": [],
   "source": [
    "basis=sft.Basis(np.pi/2,0)\n",
    "H_LR_x=H_LRf(J_merger,basis)\n",
    "adiabaticity_x_unrotated=adiabaticity(J_u,basis)"
   ]
  },
  {
   "cell_type": "code",
   "execution_count": 23,
   "id": "24464c5c",
   "metadata": {},
   "outputs": [],
   "source": [
    "basis=sft.Basis(0,0)\n",
    "gradz=grad_magnitude(J_u, basis)\n",
    "gradx=grad_magnitude(J_u,sft.Basis(np.pi/2,0))"
   ]
  },
  {
   "cell_type": "code",
   "execution_count": 24,
   "id": "f9df57b7",
   "metadata": {},
   "outputs": [],
   "source": [
    "optimal_adiabaticity = np.real((H_LR_x[0,0]**2)/gradz)"
   ]
  },
  {
   "cell_type": "code",
   "execution_count": 59,
   "id": "567af3d0",
   "metadata": {
    "scrolled": false
   },
   "outputs": [
    {
     "data": {
      "image/png": "[encoded data removed]",
      "text/plain": [
       "<Figure size 432x288 with 2 Axes>"
      ]
     },
     "metadata": {
      "needs_background": "light"
     },
     "output_type": "display_data"
    }
   ],
   "source": [
    "#see contours at z=zval\n",
    "zval=13\n",
    "colorplot=plt.pcolormesh(x_km[:,:,zval],y_km[:,:,zval],np.log10(optimal_adiabaticity[:,:,zval]),cmap=plt.cm.hot,shading='auto', vmax=-3, vmin=-10)\n",
    "plt.xlabel('x (km)')\n",
    "plt.ylabel('y (km)')\n",
    "plt.colorbar(label=r'$log(\\gamma)$')\n",
    "contourf=plt.contourf(x_km[:,:,zval],y_km[:,:,zval],both_conditions[:,:,zval], alpha=0.5, levels=[0.5,1], colors=['blue'] )\n",
    "proxy = [plt.Rectangle((1, 1), 2, 2, fc=pc.get_facecolor()[0]) for pc in\n",
    "contourf.collections]\n",
    "\n",
    "#mpl.pyplot.tick_params(axis='both',which=\"both\", direction=\"in\",top=True,right=True)\n",
    "mpl.pyplot.minorticks_on()\n",
    "scatter=plt.scatter(coords(optimal_adiabaticity,zval,1e-4)[0],coords(optimal_adiabaticity,zval,1e-4)[1],color=[0,0.9,0], marker='x', label='Simulated Point')\n",
    "red_patch = mpatches.Patch(color=[0.3,0,0.7], label='The red data')\n",
    "plt.legend(handles=[scatter,red_patch], labels=[\"Simulated Point\",\"Both Conditions Satisfied\"], frameon = 1, framealpha=0.5)\n",
    "plt.tight_layout()\n",
    "plt.savefig('../'+str(zval)+'.png', dpi=300)"
   ]
  },
  {
   "cell_type": "code",
   "execution_count": 70,
   "id": "6d49f397",
   "metadata": {},
   "outputs": [
    {
     "data": {
      "text/plain": [
       "<Figure size 432x288 with 0 Axes>"
      ]
     },
     "metadata": {},
     "output_type": "display_data"
    }
   ],
   "source": [
    "#Generate Gif\n",
    "file_list=[]\n",
    "for zval in range(0,99):   \n",
    "\n",
    "    \n",
    "    colorplot=plt.pcolormesh(x_km[:,:,zval],y_km[:,:,zval],np.log10(optimal_adiabaticity[:,:,zval]),cmap=plt.cm.hot,shading='auto', vmax=-3, vmin=-10)\n",
    "    plt.xlabel('x (km)')\n",
    "    plt.ylabel('y (km)')\n",
    "    plt.title('z = '+str(zval))\n",
    "    plt.colorbar(label=r'$log(\\gamma)$')\n",
    "    contourf=plt.contourf(x_km[:,:,zval],y_km[:,:,zval],both_conditions[:,:,zval], alpha=0.5, levels=[0.5,1], colors=['blue'] )\n",
    "    proxy = [plt.Rectangle((1, 1), 2, 2, fc=pc.get_facecolor()[0]) for pc in\n",
    "    contourf.collections]\n",
    "\n",
    "    #mpl.pyplot.tick_params(axis='both',which=\"both\", direction=\"in\",top=True,right=True)\n",
    "    mpl.pyplot.minorticks_on()\n",
    "    scatter=plt.scatter(coords(optimal_adiabaticity,zval,1e-4)[0],coords(optimal_adiabaticity,zval,1e-4)[1],color=[0,0.9,0], marker='x', label='Simulated Point')\n",
    "\n",
    "    red_patch = mpatches.Patch(color=[0.3,0,0.7], label='The red data')\n",
    "    plt.legend(handles=[scatter,red_patch], labels=[\"Simulated Point\",\"Both Conditions Satisfied\"], frameon = 1, framealpha=0.5)\n",
    "    plt.tight_layout()\n",
    "    plt.savefig('../'+str(zval)+'.png', dpi=300)\n",
    "    \n",
    "    file_list.append(str(zval)+'.png')\n",
    "    plt.clf()"
   ]
  },
  {
   "cell_type": "code",
   "execution_count": 71,
   "id": "9f266a8a",
   "metadata": {},
   "outputs": [],
   "source": [
    "import imageio\n",
    "# Build GIF\n",
    "with imageio.get_writer('../data.gif', mode='I', fps=5) as writer:\n",
    "    for filename in file_list:\n",
    "        image = imageio.imread('../'+filename)\n",
    "        writer.append_data(image)\n",
    "for filename in set(file_list):\n",
    "    os.remove('../'+filename)"
   ]
  },
  {
   "cell_type": "code",
   "execution_count": 48,
   "id": "f6d207bc",
   "metadata": {},
   "outputs": [],
   "source": [
    "#angular plots\n",
    "def H_LR_coord(J, basis, coordinate):\n",
    "    M=sft.M_2flavor\n",
    "    J_coord=J[:,coordinate[0],coordinate[1],coordinate[2]]\n",
    "    p_abs=10**7\n",
    "    S_R = 2**(1./2.)*G*np.transpose(np.array([[2*J_coord,np.zeros_like(J_coord)],[np.zeros_like(J_coord),J_coord]]),(2,0,1))\n",
    "    S_L = -2**(1./2.)*G*np.transpose(np.array([[2*J_coord,np.zeros_like(J_coord)],[np.zeros_like(J_coord),J_coord]]),(2,1,0))\n",
    "    S_L_plus = sft.plus(S_L, basis)\n",
    "    S_R_plus = sft.plus(S_R, basis)\n",
    "    \n",
    "    MSl = np.array(np.matmul(np.conj(M),S_L_plus))\n",
    "    SrM = np.array(np.matmul(S_R_plus,np.conj(M)))\n",
    "    return (-1/p_abs)*(SrM-MSl)"
   ]
  },
  {
   "cell_type": "code",
   "execution_count": 23,
   "id": "853c0790",
   "metadata": {},
   "outputs": [],
   "source": [
    "theta=np.pi/5\n",
    "mixing = np.array([[np.cos(theta),np.sin(theta)],\n",
    "                   [-np.sin(theta),np.cos(theta)]])\n",
    "mass = np.array([[1,0],[0,2]])\n"
   ]
  },
  {
   "cell_type": "code",
   "execution_count": 46,
   "id": "a7d38cbd",
   "metadata": {},
   "outputs": [],
   "source": [
    "num_flux_rotated = np.array(merger_grid['fn_e(1|ccm)'])\n",
    "num_flux_unrotated = merger_grid_unrotated['fn_e(1|ccm)']\n",
    "num_flux_rotated = np.array(merger_grid['fn_e(1|ccm)'])\n",
    "num_flux_unrotated = merger_grid_unrotated['fn_e(1|ccm)']"
   ]
  },
  {
   "cell_type": "code",
   "execution_count": 52,
   "id": "3e39d104",
   "metadata": {},
   "outputs": [
    {
     "data": {
      "text/plain": [
       "(4, 201, 201, 101)"
      ]
     },
     "execution_count": 52,
     "metadata": {},
     "output_type": "execute_result"
    }
   ],
   "source": [
    "np.shape(J_plot)"
   ]
  },
  {
   "cell_type": "code",
   "execution_count": 54,
   "id": "e08bbc12",
   "metadata": {
    "scrolled": false
   },
   "outputs": [
    {
     "ename": "NameError",
     "evalue": "name 'H_LR_coord' is not defined",
     "output_type": "error",
     "traceback": [
      "\u001b[0;31m---------------------------------------------------------------------------\u001b[0m",
      "\u001b[0;31mNameError\u001b[0m                                 Traceback (most recent call last)",
      "\u001b[0;32m/tmp/ipykernel_190/1315418788.py\u001b[0m in \u001b[0;36m<module>\u001b[0;34m\u001b[0m\n\u001b[1;32m      7\u001b[0m \u001b[0mnum_flux\u001b[0m \u001b[0;34m=\u001b[0m \u001b[0mnum_flux_rotated\u001b[0m\u001b[0;34m\u001b[0m\u001b[0;34m\u001b[0m\u001b[0m\n\u001b[1;32m      8\u001b[0m \u001b[0;34m\u001b[0m\u001b[0m\n\u001b[0;32m----> 9\u001b[0;31m H_LR_crit=np.transpose((np.array([[((np.real(H_LR_coord(J_plot,sft.Basis(theta,phi),coordinates)[0,0]))**2+\n\u001b[0m\u001b[1;32m     10\u001b[0m                                    (np.imag(H_LR_coord(J_plot,sft.Basis(theta,phi),coordinates)[0,0]))**2)**(1/2)\n\u001b[1;32m     11\u001b[0m              for theta in np.linspace(0,np.pi,200)] for phi in np.linspace(0,2*np.pi,100)])))\n",
      "\u001b[0;32m/tmp/ipykernel_190/1315418788.py\u001b[0m in \u001b[0;36m<listcomp>\u001b[0;34m(.0)\u001b[0m\n\u001b[1;32m      7\u001b[0m \u001b[0mnum_flux\u001b[0m \u001b[0;34m=\u001b[0m \u001b[0mnum_flux_rotated\u001b[0m\u001b[0;34m\u001b[0m\u001b[0;34m\u001b[0m\u001b[0m\n\u001b[1;32m      8\u001b[0m \u001b[0;34m\u001b[0m\u001b[0m\n\u001b[0;32m----> 9\u001b[0;31m H_LR_crit=np.transpose((np.array([[((np.real(H_LR_coord(J_plot,sft.Basis(theta,phi),coordinates)[0,0]))**2+\n\u001b[0m\u001b[1;32m     10\u001b[0m                                    (np.imag(H_LR_coord(J_plot,sft.Basis(theta,phi),coordinates)[0,0]))**2)**(1/2)\n\u001b[1;32m     11\u001b[0m              for theta in np.linspace(0,np.pi,200)] for phi in np.linspace(0,2*np.pi,100)])))\n",
      "\u001b[0;32m/tmp/ipykernel_190/1315418788.py\u001b[0m in \u001b[0;36m<listcomp>\u001b[0;34m(.0)\u001b[0m\n\u001b[1;32m      7\u001b[0m \u001b[0mnum_flux\u001b[0m \u001b[0;34m=\u001b[0m \u001b[0mnum_flux_rotated\u001b[0m\u001b[0;34m\u001b[0m\u001b[0;34m\u001b[0m\u001b[0m\n\u001b[1;32m      8\u001b[0m \u001b[0;34m\u001b[0m\u001b[0m\n\u001b[0;32m----> 9\u001b[0;31m H_LR_crit=np.transpose((np.array([[((np.real(H_LR_coord(J_plot,sft.Basis(theta,phi),coordinates)[0,0]))**2+\n\u001b[0m\u001b[1;32m     10\u001b[0m                                    (np.imag(H_LR_coord(J_plot,sft.Basis(theta,phi),coordinates)[0,0]))**2)**(1/2)\n\u001b[1;32m     11\u001b[0m              for theta in np.linspace(0,np.pi,200)] for phi in np.linspace(0,2*np.pi,100)])))\n",
      "\u001b[0;31mNameError\u001b[0m: name 'H_LR_coord' is not defined"
     ]
    }
   ],
   "source": [
    "num_flux_rotated = np.array(merger_grid['fn_e(1|ccm)'])\n",
    "num_flux_unrotated = merger_grid_unrotated['fn_e(1|ccm)']\n",
    "num_flux_rotated = np.array(merger_grid['fn_e(1|ccm)'])\n",
    "num_flux_unrotated = merger_grid_unrotated['fn_e(1|ccm)']\n",
    "coordinates=[1,134,10]\n",
    "J_plot=J_merger\n",
    "num_flux = num_flux_rotated\n",
    "\n",
    "H_LR_crit=np.transpose((np.array([[((np.real(H_LR_coord(J_plot,sft.Basis(theta,phi),coordinates)[0,0]))**2+\n",
    "                                   (np.imag(H_LR_coord(J_plot,sft.Basis(theta,phi),coordinates)[0,0]))**2)**(1/2)\n",
    "             for theta in np.linspace(0,np.pi,200)] for phi in np.linspace(0,2*np.pi,100)])))\n",
    "fig=plt.figure()\n",
    "ax = fig.add_subplot(projection=\"mollweide\")\n",
    "\n",
    "\n",
    "im=ax.pcolormesh(np.linspace(-np.pi,np.pi,100), np.linspace(-0.5*np.pi,0.5*np.pi,200), H_LR_crit,cmap=plt.cm.hot,shading='auto')\n",
    "plt.colorbar(im)\n",
    "\n",
    "#add net flux point\n",
    "J_point=J_plot[:,coordinates[0],coordinates[1],coordinates[2]]\n",
    "ax.scatter([np.arctan2(J_point[2],J_point[1])],[np.arctan2(J_point[3],(J_point[1]**2+J_point[2]**2)**(1/2))])\n",
    "#add number flux point\n",
    "num_flux_point = num_flux[:,coordinates[0],coordinates[1],coordinates[2]]\n",
    "ax.scatter([np.arctan2(num_flux_point[1],num_flux_point[0])],[np.arctan2(num_flux_point[2],(num_flux_point[1]**2+num_flux_point[0]**2)**(1/2))])\n",
    "#ax.scatter([np.pi/3],[0])\n",
    "\n",
    "\n",
    "ax.facecolor='white'\n",
    "plt.show()"
   ]
  },
  {
   "cell_type": "code",
   "execution_count": null,
   "id": "fa613197",
   "metadata": {},
   "outputs": [],
   "source": [
    "#compute total flux direction as f_e+f_x(*2?)"
   ]
  },
  {
   "cell_type": "code",
   "execution_count": 53,
   "id": "1c90821e",
   "metadata": {
    "scrolled": true
   },
   "outputs": [
    {
     "ename": "IndexError",
     "evalue": "too many indices for array: array is 1-dimensional, but 4 were indexed",
     "output_type": "error",
     "traceback": [
      "\u001b[0;31m---------------------------------------------------------------------------\u001b[0m",
      "\u001b[0;31mIndexError\u001b[0m                                Traceback (most recent call last)",
      "\u001b[0;32m/tmp/ipykernel_151/741531208.py\u001b[0m in \u001b[0;36m<module>\u001b[0;34m\u001b[0m\n\u001b[1;32m      3\u001b[0m \u001b[0;31m#num_flux = num_flux_rotated\u001b[0m\u001b[0;34m\u001b[0m\u001b[0;34m\u001b[0m\u001b[0;34m\u001b[0m\u001b[0m\n\u001b[1;32m      4\u001b[0m \u001b[0;34m\u001b[0m\u001b[0m\n\u001b[0;32m----> 5\u001b[0;31m H_LR_crit=np.transpose((np.array([[((np.real(H_LR_coord(J_evolved[t,:,0,0,0],sft.Basis(theta,phi),coordinates)[0,0]))**2+\n\u001b[0m\u001b[1;32m      6\u001b[0m                                    (np.imag(H_LR_coord(J_evolved[t,:,0,0,0],sft.Basis(theta,phi),coordinates)[0,0]))**2)**(1/2)\n\u001b[1;32m      7\u001b[0m              for theta in np.linspace(0,np.pi,200)] for phi in np.linspace(0,2*np.pi,100)])))\n",
      "\u001b[0;32m/tmp/ipykernel_151/741531208.py\u001b[0m in \u001b[0;36m<listcomp>\u001b[0;34m(.0)\u001b[0m\n\u001b[1;32m      3\u001b[0m \u001b[0;31m#num_flux = num_flux_rotated\u001b[0m\u001b[0;34m\u001b[0m\u001b[0;34m\u001b[0m\u001b[0;34m\u001b[0m\u001b[0m\n\u001b[1;32m      4\u001b[0m \u001b[0;34m\u001b[0m\u001b[0m\n\u001b[0;32m----> 5\u001b[0;31m H_LR_crit=np.transpose((np.array([[((np.real(H_LR_coord(J_evolved[t,:,0,0,0],sft.Basis(theta,phi),coordinates)[0,0]))**2+\n\u001b[0m\u001b[1;32m      6\u001b[0m                                    (np.imag(H_LR_coord(J_evolved[t,:,0,0,0],sft.Basis(theta,phi),coordinates)[0,0]))**2)**(1/2)\n\u001b[1;32m      7\u001b[0m              for theta in np.linspace(0,np.pi,200)] for phi in np.linspace(0,2*np.pi,100)])))\n",
      "\u001b[0;32m/tmp/ipykernel_151/741531208.py\u001b[0m in \u001b[0;36m<listcomp>\u001b[0;34m(.0)\u001b[0m\n\u001b[1;32m      3\u001b[0m \u001b[0;31m#num_flux = num_flux_rotated\u001b[0m\u001b[0;34m\u001b[0m\u001b[0;34m\u001b[0m\u001b[0;34m\u001b[0m\u001b[0m\n\u001b[1;32m      4\u001b[0m \u001b[0;34m\u001b[0m\u001b[0m\n\u001b[0;32m----> 5\u001b[0;31m H_LR_crit=np.transpose((np.array([[((np.real(H_LR_coord(J_evolved[t,:,0,0,0],sft.Basis(theta,phi),coordinates)[0,0]))**2+\n\u001b[0m\u001b[1;32m      6\u001b[0m                                    (np.imag(H_LR_coord(J_evolved[t,:,0,0,0],sft.Basis(theta,phi),coordinates)[0,0]))**2)**(1/2)\n\u001b[1;32m      7\u001b[0m              for theta in np.linspace(0,np.pi,200)] for phi in np.linspace(0,2*np.pi,100)])))\n",
      "\u001b[0;32m/tmp/ipykernel_151/3537425471.py\u001b[0m in \u001b[0;36mH_LR_coord\u001b[0;34m(J, basis, coordinate)\u001b[0m\n\u001b[1;32m      2\u001b[0m \u001b[0;32mdef\u001b[0m \u001b[0mH_LR_coord\u001b[0m\u001b[0;34m(\u001b[0m\u001b[0mJ\u001b[0m\u001b[0;34m,\u001b[0m \u001b[0mbasis\u001b[0m\u001b[0;34m,\u001b[0m \u001b[0mcoordinate\u001b[0m\u001b[0;34m)\u001b[0m\u001b[0;34m:\u001b[0m\u001b[0;34m\u001b[0m\u001b[0;34m\u001b[0m\u001b[0m\n\u001b[1;32m      3\u001b[0m     \u001b[0mM\u001b[0m\u001b[0;34m=\u001b[0m\u001b[0msft\u001b[0m\u001b[0;34m.\u001b[0m\u001b[0mM_2flavor\u001b[0m\u001b[0;34m\u001b[0m\u001b[0;34m\u001b[0m\u001b[0m\n\u001b[0;32m----> 4\u001b[0;31m     \u001b[0mJ_coord\u001b[0m\u001b[0;34m=\u001b[0m\u001b[0mJ\u001b[0m\u001b[0;34m[\u001b[0m\u001b[0;34m:\u001b[0m\u001b[0;34m,\u001b[0m\u001b[0mcoordinate\u001b[0m\u001b[0;34m[\u001b[0m\u001b[0;36m0\u001b[0m\u001b[0;34m]\u001b[0m\u001b[0;34m,\u001b[0m\u001b[0mcoordinate\u001b[0m\u001b[0;34m[\u001b[0m\u001b[0;36m1\u001b[0m\u001b[0;34m]\u001b[0m\u001b[0;34m,\u001b[0m\u001b[0mcoordinate\u001b[0m\u001b[0;34m[\u001b[0m\u001b[0;36m2\u001b[0m\u001b[0;34m]\u001b[0m\u001b[0;34m]\u001b[0m\u001b[0;34m\u001b[0m\u001b[0;34m\u001b[0m\u001b[0m\n\u001b[0m\u001b[1;32m      5\u001b[0m     \u001b[0mp_abs\u001b[0m\u001b[0;34m=\u001b[0m\u001b[0;36m10\u001b[0m\u001b[0;34m**\u001b[0m\u001b[0;36m7\u001b[0m\u001b[0;34m\u001b[0m\u001b[0;34m\u001b[0m\u001b[0m\n\u001b[1;32m      6\u001b[0m     \u001b[0mS_R\u001b[0m \u001b[0;34m=\u001b[0m \u001b[0;36m2\u001b[0m\u001b[0;34m**\u001b[0m\u001b[0;34m(\u001b[0m\u001b[0;36m1.\u001b[0m\u001b[0;34m/\u001b[0m\u001b[0;36m2.\u001b[0m\u001b[0;34m)\u001b[0m\u001b[0;34m*\u001b[0m\u001b[0mG\u001b[0m\u001b[0;34m*\u001b[0m\u001b[0mnp\u001b[0m\u001b[0;34m.\u001b[0m\u001b[0mtranspose\u001b[0m\u001b[0;34m(\u001b[0m\u001b[0mnp\u001b[0m\u001b[0;34m.\u001b[0m\u001b[0marray\u001b[0m\u001b[0;34m(\u001b[0m\u001b[0;34m[\u001b[0m\u001b[0;34m[\u001b[0m\u001b[0;36m2\u001b[0m\u001b[0;34m*\u001b[0m\u001b[0mJ_coord\u001b[0m\u001b[0;34m,\u001b[0m\u001b[0mnp\u001b[0m\u001b[0;34m.\u001b[0m\u001b[0mzeros_like\u001b[0m\u001b[0;34m(\u001b[0m\u001b[0mJ_coord\u001b[0m\u001b[0;34m)\u001b[0m\u001b[0;34m]\u001b[0m\u001b[0;34m,\u001b[0m\u001b[0;34m[\u001b[0m\u001b[0mnp\u001b[0m\u001b[0;34m.\u001b[0m\u001b[0mzeros_like\u001b[0m\u001b[0;34m(\u001b[0m\u001b[0mJ_coord\u001b[0m\u001b[0;34m)\u001b[0m\u001b[0;34m,\u001b[0m\u001b[0mJ_coord\u001b[0m\u001b[0;34m]\u001b[0m\u001b[0;34m]\u001b[0m\u001b[0;34m)\u001b[0m\u001b[0;34m,\u001b[0m\u001b[0;34m(\u001b[0m\u001b[0;36m2\u001b[0m\u001b[0;34m,\u001b[0m\u001b[0;36m0\u001b[0m\u001b[0;34m,\u001b[0m\u001b[0;36m1\u001b[0m\u001b[0;34m)\u001b[0m\u001b[0;34m)\u001b[0m\u001b[0;34m\u001b[0m\u001b[0;34m\u001b[0m\u001b[0m\n",
      "\u001b[0;31mIndexError\u001b[0m: too many indices for array: array is 1-dimensional, but 4 were indexed"
     ]
    }
   ],
   "source": [
    "#Evolved data\n",
    "t=0\n",
    "#num_flux = num_flux_rotated\n",
    "\n",
    "H_LR_crit=np.transpose((np.array([[((np.real(H_LR_coord(J_evolved[t,:,0,0,0],sft.Basis(theta,phi),coordinates)[0,0]))**2+\n",
    "                                   (np.imag(H_LR_coord(J_evolved[t,:,0,0,0],sft.Basis(theta,phi),coordinates)[0,0]))**2)**(1/2)\n",
    "             for theta in np.linspace(0,np.pi,200)] for phi in np.linspace(0,2*np.pi,100)])))\n",
    "fig=plt.figure()\n",
    "ax = fig.add_subplot(projection=\"mollweide\")\n",
    "\n",
    "\n",
    "im=ax.pcolormesh(np.linspace(-np.pi,np.pi,100), np.linspace(-0.5*np.pi,0.5*np.pi,200), H_LR_crit,cmap=plt.cm.hot,shading='auto')\n",
    "plt.colorbar(im)\n",
    "\n",
    "#add net flux point\n",
    "J_point=J_plot[:,coordinates[0],coordinates[1],coordinates[2]]\n",
    "ax.scatter([np.arctan2(J_point[2],J_point[1])],[np.arctan2(J_point[3],(J_point[1]**2+J_point[2]**2)**(1/2))])\n",
    "#add number flux point\n",
    "num_flux_point = num_flux[:,coordinates[0],coordinates[1],coordinates[2]]\n",
    "ax.scatter([np.arctan2(num_flux_point[1],num_flux_point[0])],[np.arctan2(num_flux_point[2],(num_flux_point[1]**2+num_flux_point[0]**2)**(1/2))])\n",
    "#ax.scatter([np.pi/3],[0])\n",
    "\n",
    "\n",
    "\n",
    "plt.show()"
   ]
  },
  {
   "cell_type": "code",
   "execution_count": 63,
   "id": "14fcf68d",
   "metadata": {
    "scrolled": true
   },
   "outputs": [
    {
     "data": {
      "text/plain": [
       "['GM(eV^3)I',\n",
       " 'GM(eV^3)R',\n",
       " 'H_LR(eV)I',\n",
       " 'H_LR(eV)R',\n",
       " 'H_L_free(eV)',\n",
       " 'H_L_minusplus(eV)I',\n",
       " 'H_L_minusplus(eV)R',\n",
       " 'H_Lz(eV)I',\n",
       " 'H_Lz(eV)R',\n",
       " 'H_R_free(eV)',\n",
       " 'H_R_plusminus(eV)I',\n",
       " 'H_R_plusminus(eV)R',\n",
       " 'H_Rz(eV)I',\n",
       " 'H_Rz(eV)R',\n",
       " 'J(eV^3)I',\n",
       " 'J(eV^3)R',\n",
       " 'J_a(eV^3)I',\n",
       " 'J_a(eV^3)R',\n",
       " 'J_p(eV^3)I',\n",
       " 'J_p(eV^3)R',\n",
       " 'S_L(eV)I',\n",
       " 'S_L(eV)R',\n",
       " 'S_L_kappa(eV)I',\n",
       " 'S_L_kappa(eV)R',\n",
       " 'S_L_minus(eV)I',\n",
       " 'S_L_minus(eV)R',\n",
       " 'S_L_plus(eV)I',\n",
       " 'S_L_plus(eV)R',\n",
       " 'S_R(eV)I',\n",
       " 'S_R(eV)R',\n",
       " 'S_R_kappa(eV)I',\n",
       " 'S_R_kappa(eV)R',\n",
       " 'S_R_minus(eV)I',\n",
       " 'S_R_minus(eV)R',\n",
       " 'S_R_plus(eV)I',\n",
       " 'S_R_plus(eV)R',\n",
       " 't(s)',\n",
       " 'z(cm)']"
      ]
     },
     "execution_count": 63,
     "metadata": {},
     "output_type": "execute_result"
    }
   ],
   "source": [
    "#if skipping the above: set output_filename as the loc of the (already generated) h5 dataset you want to look at\n",
    "data_base_directory = \"/home/henryrpg/Desktop/N3AS/data/critpoint2.h5\"\n",
    "output_filename = data_base_directory[0:-3]+'_spin_flip_matrices_zdirr.h5'\n",
    "\n",
    "#extract calculated data, show the datasets\n",
    "# note - us|e h5ls in the terminal to peek inside a hdf5 file\n",
    "data =  h5py.File(output_filename, \"r\") \n",
    "list(data.keys())"
   ]
  },
  {
   "cell_type": "code",
   "execution_count": null,
   "id": "4565e61d",
   "metadata": {},
   "outputs": [],
   "source": []
  },
  {
   "cell_type": "code",
   "execution_count": 44,
   "id": "ad42cb52",
   "metadata": {},
   "outputs": [],
   "source": [
    "data = h5py.File(\"/home/henryrpg/Desktop/N3AS/data/critpoint2_spin_flip_matrices_zdirr.h5\", \"r\") \n",
    "data.keys()\n",
    "J_evolved=sft.total(data,\"J(eV^3)\")"
   ]
  },
  {
   "cell_type": "code",
   "execution_count": 116,
   "id": "da364f80",
   "metadata": {},
   "outputs": [
    {
     "data": {
      "text/plain": [
       "array([ 1.51662244e+17,  4.48465155e+17, -5.75299743e+16,  1.52063840e+17])"
      ]
     },
     "execution_count": 116,
     "metadata": {},
     "output_type": "execute_result"
    }
   ],
   "source": [
    "J_point"
   ]
  },
  {
   "cell_type": "code",
   "execution_count": null,
   "id": "404b3722",
   "metadata": {},
   "outputs": [],
   "source": [
    "coordinates=[103,134,95]\n",
    "J_plot=J_merger\n",
    "H_LR_crit=np.transpose(np.real(np.array([[H_LR_coord(J_plot,sft.Basis(theta,phi),coordinates)[0,0]\n",
    "            for theta in np.linspace(0,np.pi,200)] for phi in np.linspace(0,2*np.pi,100)])))\n",
    "fig=plt.figure()\n",
    "ax = fig.add_subplot(projection=\"aitoff\")\n",
    "J_point=J_plot[:,coordinates[0],coordinates[1],coordinates[2]]\n",
    "im=ax.pcolormesh(np.linspace(-np.pi,np.pi,100), np.linspace(-0.5*np.pi,0.5*np.pi,200), H_LR_crit,cmap=plt.cm.hot,shading='auto')\n",
    "plt.colorbar(im)\n",
    "ax.scatter([np.arctan2(J_point[2],J_point[1])],[np.arctan2(J_point[3],(J_point[1]**2+J_point[2]**2)**(1/2))])\n",
    "ax.scatter([np.pi+np.arctan2(J_point[2],J_point[1])],[-np.arctan2(J_point[3],(J_point[1]**2+J_point[2]**2)**(1/2))])\n",
    "\n",
    "\n",
    "#ax.set_title(\"A line plot on a polar axis\", va='bottom')\n",
    "plt.show()"
   ]
  },
  {
   "cell_type": "code",
   "execution_count": 309,
   "id": "38dddbef",
   "metadata": {},
   "outputs": [
    {
     "data": {
      "text/plain": [
       "-1.7521168107114542"
      ]
     },
     "execution_count": 309,
     "metadata": {},
     "output_type": "execute_result"
    }
   ],
   "source": [
    "J_point=J_u[:,103,134,95]\n",
    "np.arctan2(J_point[2],J_point[1])"
   ]
  },
  {
   "cell_type": "code",
   "execution_count": null,
   "id": "47fa8004",
   "metadata": {},
   "outputs": [],
   "source": [
    "Jprojection=np.array([[J*cos(phi)]])"
   ]
  },
  {
   "cell_type": "code",
   "execution_count": null,
   "id": "006f27eb",
   "metadata": {},
   "outputs": [],
   "source": [
    "plt.figure()\n",
    "ax = plt.subplot(projection=\"aitoff\")\n",
    "ax.pcolormesh(np.linspace(-np.pi,np.pi,10), np.linspace(-0.5*np.pi,0.5*np.pi,20), H_LR_crit,cmap=plt.cm.hot,shading='auto')\n",
    "plt.colorbar\n",
    "#ax.scatter([0],[0])\n",
    "\n",
    "\n",
    "#ax.set_title(\"A line plot on a polar axis\", va='bottom')\n",
    "plt.show()"
   ]
  },
  {
   "cell_type": "code",
   "execution_count": 111,
   "id": "3906f148",
   "metadata": {},
   "outputs": [],
   "source": [
    "def shouldITakeMyMidterm(MT1_score, MT2_score):\n",
    "    Final_score = np.linspace(50,100,50)\n",
    "    worse_MT = min([MT1_score, MT2_score])\n",
    "    better_MT = max([MT1_score, MT2_score])\n",
    "    \n",
    "    grade_if_yes = []\n",
    "    for n in range(0,50):\n",
    "        if worse_MT<Final_score[n]:\n",
    "            grade_if_yes.append( (Final_score[n]*0.45 + better_MT*0.15 + 40) )\n",
    "        else:\n",
    "            grade_if_yes.append( (Final_score[n]*0.30 + worse_MT*0.15 + better_MT*0.15 + 40) )\n",
    "    \n",
    "    grade_if_yes = np.array(grade_if_yes)\n",
    "    grade_if_no = np.array([Final_score[n]*0.45 + MT2_score*0.15 + 40 for n in range(0,50)])\n",
    "    \n",
    "    f, ax = plt.subplots()\n",
    "   \n",
    "    x_axis = range(50,100)\n",
    "    ax.set_ylabel('Total Grade')\n",
    "    ax.set_xlabel('Grade on the Final')\n",
    "    ax.plot(x_axis, grade_if_yes, color='blue', label=\"grade if I midterm\")\n",
    "    ax.plot(x_axis, grade_if_no, color='red', label=\"grade if I ski\")\n",
    "    \n",
    "    min_important_score = min(np.where(np.trunc(grade_if_yes) ==90)[0])\n",
    "    max_important_score = min(np.where(np.trunc(grade_if_no) ==90)[0])\n",
    "    ax.axhline(90, color='magenta',linestyle='--', label = 'Cutoff for an A')\n",
    "\n",
    "    plt.fill_between([min_important_score+49, max_important_score+49], 75, 100, alpha=0.5, color='yellow')\n",
    "    proxy = [plt.Rectangle((1, 1), 2, 2, fc='yellow')]\n",
    "    plt.legend(proxy, [\"Instability\"], loc='upper left')\n",
    "    ax.legend()\n",
    "    \n",
    "\n",
    "\n",
    "   "
   ]
  },
  {
   "cell_type": "code",
   "execution_count": 112,
   "id": "db8cbd71",
   "metadata": {},
   "outputs": [
    {
     "data": {
      "image/png": "[encoded data removed]",
      "text/plain": [
       "<Figure size 432x288 with 1 Axes>"
      ]
     },
     "metadata": {},
     "output_type": "display_data"
    }
   ],
   "source": [
    "shouldITakeMyMidterm(90,90)"
   ]
  },
  {
   "cell_type": "code",
   "execution_count": null,
   "id": "97dd5280",
   "metadata": {},
   "outputs": [],
   "source": []
  }
 ],
 "metadata": {
  "kernelspec": {
   "display_name": "Python 3 (ipykernel)",
   "language": "python",
   "name": "python3"
  },
  "language_info": {
   "codemirror_mode": {
    "name": "ipython",
    "version": 3
   },
   "file_extension": ".py",
   "mimetype": "text/x-python",
   "name": "python",
   "nbconvert_exporter": "python",
   "pygments_lexer": "ipython3",
   "version": "3.10.6"
  }
 },
 "nbformat": 4,
 "nbformat_minor": 5
}

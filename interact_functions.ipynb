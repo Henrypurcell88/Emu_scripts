{
 "cells": [
  {
   "cell_type": "code",
   "execution_count": 1,
   "id": "0f735327",
   "metadata": {
    "scrolled": true
   },
   "outputs": [
    {
     "data": {
      "text/plain": [
       "<module 'spin_flip_tools' from '/home/henryrpg/Desktop/N3AS/Emu_scripts/data_reduction/spin_flip_tools.py'>"
      ]
     },
     "execution_count": 1,
     "metadata": {},
     "output_type": "execute_result"
    }
   ],
   "source": [
    "#CHDIR COMMAND ONLY FOR JUPYTER\n",
    "import os\n",
    "import sys\n",
    "sys.path.append(\"/home/henryrpg/Desktop/N3AS/Emu_scripts/data_reduction\")\n",
    "import yt\n",
    "import numpy as np\n",
    "import matplotlib.pyplot as plt\n",
    "import matplotlib.patches as mpatches\n",
    "import h5py\n",
    "import amrex_plot_tools as amrex\n",
    "import emu_yt_module as emu\n",
    "import spin_flip_tools as sft\n",
    "import glob\n",
    "import concurrent\n",
    "\n",
    "import matplotlib as mpl\n",
    "from matplotlib.ticker import (MultipleLocator, FormatStrFormatter,AutoMinorLocator,LogLocator)\n",
    "from matplotlib import cm, colors\n",
    "import matplotlib.axes as ax\n",
    "from mpl_toolkits.mplot3d import Axes3D\n",
    "import latex\n",
    "\n",
    "# For ease of development, reload the relevant modules to make sure they are up to date.\n",
    "import importlib\n",
    "importlib.reload(sft)"
   ]
  },
  {
   "cell_type": "code",
   "execution_count": 2,
   "id": "a0f3c701",
   "metadata": {},
   "outputs": [],
   "source": [
    "#insert name of data directory and the desired basis. Supports h5 files and directories of 'pltXXXXX' files (which should be named with a fwd slash at the end)\n",
    "data_base_directory = \"/home/henryrpg/Desktop/N3AS/data/critpoint2.h5\"\n",
    "\n",
    "basis_theta = 0\n",
    "basis_phi = 0 "
   ]
  },
  {
   "cell_type": "code",
   "execution_count": 403,
   "id": "2c3fd428",
   "metadata": {},
   "outputs": [
    {
     "data": {
      "text/plain": [
       "array([[ 3.33268309e-13-0.00000000e+00j, -8.94505484e-16-8.05416355e-16j],\n",
       "       [-8.94505484e-16+8.05416355e-16j,  1.60571236e-13-0.00000000e+00j]])"
      ]
     },
     "execution_count": 403,
     "metadata": {},
     "output_type": "execute_result"
    }
   ],
   "source": [
    "H_LR1"
   ]
  },
  {
   "cell_type": "code",
   "execution_count": null,
   "id": "d75aee6f",
   "metadata": {
    "scrolled": true
   },
   "outputs": [],
   "source": [
    "#Runs interact\n",
    "if data_base_directory[-3:]=='.h5': #runs interact for h5 files, outputs [filename]_spin_flip_matrices.h5 in same location\n",
    "    \n",
    "    output_filename = data_base_directory[0:-3]+'_spin_flip_matrices_zdirr.h5'\n",
    "    \n",
    "    F=h5py.File(data_base_directory,\"r\")\n",
    "    nt=len(np.array(F[\"t(s)\"]))\n",
    "    F.close()\n",
    "\n",
    "    for t in range(0,nt):\n",
    "        sft.interact(data_base_directory, output_filename, basis_theta, basis_phi, t)\n",
    "        \n",
    "else: #runs interact, for plt files. outputs h5 'spin_flip_matrices' file inside of data_base_directory\n",
    "    \n",
    "    directory_list = sorted(glob.glob(data_base_directory+\"plt*\"))\n",
    "    output_filename = data_base_directory + \"spin_flip_matrices.h5\"\n",
    "\n",
    "    if os.path.exists(output_filename):\n",
    "        os.remove(output_filename)\n",
    "\n",
    "    for d in directory_list:\n",
    "        print(d)\n",
    "        with concurrent.futures.ProcessPoolExecutor(max_workers=1) as executor:\n",
    "            executor.submit(sft.interact, d, output_filename, basis_theta, basis_phi)\n",
    "    \n",
    "    "
   ]
  },
  {
   "cell_type": "code",
   "execution_count": 5,
   "id": "92b9699f",
   "metadata": {},
   "outputs": [
    {
     "ename": "NameError",
     "evalue": "name 'output_filename' is not defined",
     "output_type": "error",
     "traceback": [
      "\u001b[0;31m---------------------------------------------------------------------------\u001b[0m",
      "\u001b[0;31mNameError\u001b[0m                                 Traceback (most recent call last)",
      "\u001b[0;32m/tmp/ipykernel_18869/3772894719.py\u001b[0m in \u001b[0;36m<module>\u001b[0;34m\u001b[0m\n\u001b[1;32m      5\u001b[0m \u001b[0;31m#extract calculated data, show the datasets\u001b[0m\u001b[0;34m\u001b[0m\u001b[0;34m\u001b[0m\u001b[0;34m\u001b[0m\u001b[0m\n\u001b[1;32m      6\u001b[0m \u001b[0;31m# note - us|e h5ls in the terminal to peek inside a hdf5 file\u001b[0m\u001b[0;34m\u001b[0m\u001b[0;34m\u001b[0m\u001b[0;34m\u001b[0m\u001b[0m\n\u001b[0;32m----> 7\u001b[0;31m \u001b[0mdata\u001b[0m \u001b[0;34m=\u001b[0m  \u001b[0mh5py\u001b[0m\u001b[0;34m.\u001b[0m\u001b[0mFile\u001b[0m\u001b[0;34m(\u001b[0m\u001b[0moutput_filename\u001b[0m\u001b[0;34m,\u001b[0m \u001b[0;34m\"r\"\u001b[0m\u001b[0;34m)\u001b[0m\u001b[0;34m\u001b[0m\u001b[0;34m\u001b[0m\u001b[0m\n\u001b[0m\u001b[1;32m      8\u001b[0m \u001b[0mlist\u001b[0m\u001b[0;34m(\u001b[0m\u001b[0mdata\u001b[0m\u001b[0;34m.\u001b[0m\u001b[0mkeys\u001b[0m\u001b[0;34m(\u001b[0m\u001b[0;34m)\u001b[0m\u001b[0;34m)\u001b[0m\u001b[0;34m\u001b[0m\u001b[0;34m\u001b[0m\u001b[0m\n",
      "\u001b[0;31mNameError\u001b[0m: name 'output_filename' is not defined"
     ]
    }
   ],
   "source": [
    "#if skipping the above: set output_filename as the loc of the (already generated) h5 dataset you want to look at\n",
    "\n",
    "#output_filename=\n",
    "\n",
    "#extract calculated data, show the datasets\n",
    "# note - us|e h5ls in the terminal to peek inside a hdf5 file\n",
    "data =  h5py.File(output_filename, \"r\") \n",
    "list(data.keys())"
   ]
  },
  {
   "cell_type": "code",
   "execution_count": 6,
   "id": "e212f79f",
   "metadata": {},
   "outputs": [
    {
     "ename": "NameError",
     "evalue": "name 'data' is not defined",
     "output_type": "error",
     "traceback": [
      "\u001b[0;31m---------------------------------------------------------------------------\u001b[0m",
      "\u001b[0;31mNameError\u001b[0m                                 Traceback (most recent call last)",
      "\u001b[0;32m/tmp/ipykernel_18869/1041006540.py\u001b[0m in \u001b[0;36m<module>\u001b[0;34m\u001b[0m\n\u001b[1;32m      2\u001b[0m \u001b[0;34m\u001b[0m\u001b[0m\n\u001b[1;32m      3\u001b[0m \u001b[0;34m\u001b[0m\u001b[0m\n\u001b[0;32m----> 4\u001b[0;31m \u001b[0mGM_data\u001b[0m \u001b[0;34m=\u001b[0m \u001b[0msft\u001b[0m\u001b[0;34m.\u001b[0m\u001b[0mGM_components\u001b[0m\u001b[0;34m(\u001b[0m\u001b[0mdata\u001b[0m\u001b[0;34m)\u001b[0m\u001b[0;34m\u001b[0m\u001b[0;34m\u001b[0m\u001b[0m\n\u001b[0m\u001b[1;32m      5\u001b[0m \u001b[0mdata\u001b[0m\u001b[0;34m.\u001b[0m\u001b[0mclose\u001b[0m\u001b[0;34m(\u001b[0m\u001b[0;34m)\u001b[0m\u001b[0;34m\u001b[0m\u001b[0;34m\u001b[0m\u001b[0m\n\u001b[1;32m      6\u001b[0m \u001b[0mdata_append\u001b[0m \u001b[0;34m=\u001b[0m  \u001b[0mh5py\u001b[0m\u001b[0;34m.\u001b[0m\u001b[0mFile\u001b[0m\u001b[0;34m(\u001b[0m\u001b[0moutput_filename\u001b[0m\u001b[0;34m,\u001b[0m \u001b[0;34m\"a\"\u001b[0m\u001b[0;34m)\u001b[0m\u001b[0;34m\u001b[0m\u001b[0;34m\u001b[0m\u001b[0m\n",
      "\u001b[0;31mNameError\u001b[0m: name 'data' is not defined"
     ]
    }
   ],
   "source": [
    "#adds GM components of flux\n",
    "\n",
    "\n",
    "GM_data = sft.GM_components(data) \n",
    "data.close()\n",
    "data_append =  h5py.File(output_filename, \"a\")\n",
    "sft.append_to_hdf5(data_append, \"GM(eV^3)\", GM_data)\n",
    "data = h5py.File(output_filename, \"r\")"
   ]
  },
  {
   "cell_type": "code",
   "execution_count": 7,
   "id": "27a39b92",
   "metadata": {},
   "outputs": [
    {
     "data": {
      "image/png": "[encoded data removed]",
      "text/plain": [
       "<Figure size 432x288 with 1 Axes>"
      ]
     },
     "metadata": {
      "needs_background": "light"
     },
     "output_type": "display_data"
    }
   ],
   "source": [
    "################\n",
    "# plot options #\n",
    "################\n",
    "mpl.rcParams['font.size'] = 10\n",
    "mpl.rcParams['font.family'] = 'serif'\n",
    "mpl.rc('text', usetex=True)\n",
    "mpl.rcParams['xtick.major.size'] = 7\n",
    "mpl.rcParams['xtick.major.width'] = 2\n",
    "mpl.rcParams['xtick.major.pad'] = 8\n",
    "mpl.rcParams['xtick.minor.size'] = 4\n",
    "mpl.rcParams['xtick.minor.width'] = 2\n",
    "mpl.rcParams['ytick.major.size'] = 7\n",
    "mpl.rcParams['ytick.major.width'] = 2\n",
    "mpl.rcParams['ytick.minor.size'] = 4\n",
    "mpl.rcParams['ytick.minor.width'] = 2\n",
    "mpl.rcParams['axes.linewidth'] = 2\n",
    "mpl.pyplot.tick_params(axis='both',which=\"both\", direction=\"in\",top=True,right=True)\n",
    "\n",
    "mpl.pyplot.minorticks_on()"
   ]
  },
  {
   "cell_type": "code",
   "execution_count": 8,
   "id": "0328a742",
   "metadata": {},
   "outputs": [],
   "source": [
    "# for plots: choose 'basis' as your basis component (either 0,1,2, or 3) and 'data' as your read-permission h5 dataset\n",
    "\n",
    "basis=2\n",
    "\n",
    "data = h5py.File(\"/home/henryrpg/Desktop/N3AS/data/ideal_pt1_spin_flip_matrices_zdirr.h5\", \"r\") "
   ]
  },
  {
   "cell_type": "code",
   "execution_count": 9,
   "id": "9d4fef42",
   "metadata": {
    "scrolled": true
   },
   "outputs": [
    {
     "ename": "KeyError",
     "evalue": "\"Unable to open object (object 'GM(eV^3)R' doesn't exist)\"",
     "output_type": "error",
     "traceback": [
      "\u001b[0;31m---------------------------------------------------------------------------\u001b[0m",
      "\u001b[0;31mKeyError\u001b[0m                                  Traceback (most recent call last)",
      "\u001b[0;32m/tmp/ipykernel_18869/3007508781.py\u001b[0m in \u001b[0;36m<module>\u001b[0;34m\u001b[0m\n\u001b[1;32m      4\u001b[0m \u001b[0mplt\u001b[0m\u001b[0;34m.\u001b[0m\u001b[0mylabel\u001b[0m\u001b[0;34m(\u001b[0m\u001b[0;34mr\"$eV^3$\"\u001b[0m\u001b[0;34m)\u001b[0m\u001b[0;34m\u001b[0m\u001b[0;34m\u001b[0m\u001b[0m\n\u001b[1;32m      5\u001b[0m \u001b[0mplt\u001b[0m\u001b[0;34m.\u001b[0m\u001b[0mtitle\u001b[0m\u001b[0;34m(\u001b[0m\u001b[0;34m'GM Components vs Time, '\u001b[0m\u001b[0;34m+\u001b[0m\u001b[0mstr\u001b[0m\u001b[0;34m(\u001b[0m\u001b[0mbasis\u001b[0m\u001b[0;34m)\u001b[0m\u001b[0;34m+\u001b[0m \u001b[0;34m\" basis\"\u001b[0m\u001b[0;34m)\u001b[0m\u001b[0;34m\u001b[0m\u001b[0;34m\u001b[0m\u001b[0m\n\u001b[0;32m----> 6\u001b[0;31m \u001b[0mplt\u001b[0m\u001b[0;34m.\u001b[0m\u001b[0mplot\u001b[0m\u001b[0;34m(\u001b[0m\u001b[0mt\u001b[0m\u001b[0;34m,\u001b[0m\u001b[0mnp\u001b[0m\u001b[0;34m.\u001b[0m\u001b[0maverage\u001b[0m\u001b[0;34m(\u001b[0m\u001b[0mnp\u001b[0m\u001b[0;34m.\u001b[0m\u001b[0mabsolute\u001b[0m\u001b[0;34m(\u001b[0m\u001b[0msft\u001b[0m\u001b[0;34m.\u001b[0m\u001b[0mtotal\u001b[0m\u001b[0;34m(\u001b[0m\u001b[0mdata\u001b[0m\u001b[0;34m,\u001b[0m \u001b[0;34m'GM(eV^3)'\u001b[0m\u001b[0;34m)\u001b[0m\u001b[0;34m[\u001b[0m\u001b[0;36m0\u001b[0m\u001b[0;34m]\u001b[0m\u001b[0;34m[\u001b[0m\u001b[0;34m:\u001b[0m\u001b[0;34m,\u001b[0m\u001b[0mbasis\u001b[0m\u001b[0;34m,\u001b[0m\u001b[0;34m:\u001b[0m\u001b[0;34m,\u001b[0m\u001b[0;34m:\u001b[0m\u001b[0;34m]\u001b[0m\u001b[0;34m)\u001b[0m\u001b[0;34m,\u001b[0m \u001b[0maxis\u001b[0m\u001b[0;34m=\u001b[0m\u001b[0;36m1\u001b[0m\u001b[0;34m)\u001b[0m\u001b[0;34m,\u001b[0m\u001b[0mlabel\u001b[0m\u001b[0;34m=\u001b[0m\u001b[0;34m[\u001b[0m\u001b[0mstr\u001b[0m\u001b[0;34m(\u001b[0m\u001b[0mk\u001b[0m\u001b[0;34m)\u001b[0m\u001b[0;32mfor\u001b[0m \u001b[0mk\u001b[0m \u001b[0;32min\u001b[0m \u001b[0mrange\u001b[0m\u001b[0;34m(\u001b[0m\u001b[0;36m0\u001b[0m\u001b[0;34m,\u001b[0m\u001b[0;36m8\u001b[0m\u001b[0;34m)\u001b[0m\u001b[0;34m]\u001b[0m\u001b[0;34m)\u001b[0m\u001b[0;34m\u001b[0m\u001b[0;34m\u001b[0m\u001b[0m\n\u001b[0m\u001b[1;32m      7\u001b[0m \u001b[0mplt\u001b[0m\u001b[0;34m.\u001b[0m\u001b[0mlegend\u001b[0m\u001b[0;34m(\u001b[0m\u001b[0;34m)\u001b[0m\u001b[0;34m\u001b[0m\u001b[0;34m\u001b[0m\u001b[0m\n\u001b[1;32m      8\u001b[0m \u001b[0mplt\u001b[0m\u001b[0;34m.\u001b[0m\u001b[0mgrid\u001b[0m\u001b[0;34m(\u001b[0m\u001b[0;34m)\u001b[0m\u001b[0;34m\u001b[0m\u001b[0;34m\u001b[0m\u001b[0m\n",
      "\u001b[0;32m~/Desktop/N3AS/Emu_scripts/data_reduction/spin_flip_tools.py\u001b[0m in \u001b[0;36mtotal\u001b[0;34m(d, array)\u001b[0m\n\u001b[1;32m    190\u001b[0m     \u001b[0;31m#total takes in read-only h5 dataset and the array you want to compute and just adds the real and imaginary parts for the array\u001b[0m\u001b[0;34m\u001b[0m\u001b[0;34m\u001b[0m\u001b[0;34m\u001b[0m\u001b[0m\n\u001b[1;32m    191\u001b[0m \u001b[0;32mdef\u001b[0m \u001b[0mtotal\u001b[0m\u001b[0;34m(\u001b[0m\u001b[0md\u001b[0m\u001b[0;34m,\u001b[0m \u001b[0marray\u001b[0m\u001b[0;34m)\u001b[0m\u001b[0;34m:\u001b[0m\u001b[0;34m\u001b[0m\u001b[0;34m\u001b[0m\u001b[0m\n\u001b[0;32m--> 192\u001b[0;31m     \u001b[0;32mreturn\u001b[0m \u001b[0;34m(\u001b[0m\u001b[0;36m1\u001b[0m\u001b[0;34m+\u001b[0m\u001b[0;36m0\u001b[0m\u001b[0;34m*\u001b[0m\u001b[0;36m1j\u001b[0m\u001b[0;34m)\u001b[0m\u001b[0;34m*\u001b[0m\u001b[0mnp\u001b[0m\u001b[0;34m.\u001b[0m\u001b[0marray\u001b[0m\u001b[0;34m(\u001b[0m\u001b[0md\u001b[0m\u001b[0;34m[\u001b[0m\u001b[0marray\u001b[0m\u001b[0;34m+\u001b[0m\u001b[0;34m'R'\u001b[0m\u001b[0;34m]\u001b[0m\u001b[0;34m)\u001b[0m\u001b[0;34m+\u001b[0m\u001b[0;36m1j\u001b[0m\u001b[0;34m*\u001b[0m\u001b[0mnp\u001b[0m\u001b[0;34m.\u001b[0m\u001b[0marray\u001b[0m\u001b[0;34m(\u001b[0m\u001b[0md\u001b[0m\u001b[0;34m[\u001b[0m\u001b[0marray\u001b[0m\u001b[0;34m+\u001b[0m\u001b[0;34m'I'\u001b[0m\u001b[0;34m]\u001b[0m\u001b[0;34m)\u001b[0m\u001b[0;34m\u001b[0m\u001b[0;34m\u001b[0m\u001b[0m\n\u001b[0m\u001b[1;32m    193\u001b[0m \u001b[0;32mdef\u001b[0m \u001b[0mJ\u001b[0m\u001b[0;34m(\u001b[0m\u001b[0md\u001b[0m\u001b[0;34m)\u001b[0m\u001b[0;34m:\u001b[0m\u001b[0;34m\u001b[0m\u001b[0;34m\u001b[0m\u001b[0m\n\u001b[1;32m    194\u001b[0m     \u001b[0;32mreturn\u001b[0m \u001b[0mtotal\u001b[0m\u001b[0;34m(\u001b[0m\u001b[0md\u001b[0m\u001b[0;34m,\u001b[0m\u001b[0;34m'J(eV^3)'\u001b[0m\u001b[0;34m)\u001b[0m\u001b[0;34m\u001b[0m\u001b[0;34m\u001b[0m\u001b[0m\n",
      "\u001b[0;32mh5py/_objects.pyx\u001b[0m in \u001b[0;36mh5py._objects.with_phil.wrapper\u001b[0;34m()\u001b[0m\n",
      "\u001b[0;32mh5py/_objects.pyx\u001b[0m in \u001b[0;36mh5py._objects.with_phil.wrapper\u001b[0;34m()\u001b[0m\n",
      "\u001b[0;32m~/.local/lib/python3.8/site-packages/h5py/_hl/group.py\u001b[0m in \u001b[0;36m__getitem__\u001b[0;34m(self, name)\u001b[0m\n\u001b[1;32m    303\u001b[0m                 \u001b[0;32mraise\u001b[0m \u001b[0mValueError\u001b[0m\u001b[0;34m(\u001b[0m\u001b[0;34m\"Invalid HDF5 object reference\"\u001b[0m\u001b[0;34m)\u001b[0m\u001b[0;34m\u001b[0m\u001b[0;34m\u001b[0m\u001b[0m\n\u001b[1;32m    304\u001b[0m         \u001b[0;32melif\u001b[0m \u001b[0misinstance\u001b[0m\u001b[0;34m(\u001b[0m\u001b[0mname\u001b[0m\u001b[0;34m,\u001b[0m \u001b[0;34m(\u001b[0m\u001b[0mbytes\u001b[0m\u001b[0;34m,\u001b[0m \u001b[0mstr\u001b[0m\u001b[0;34m)\u001b[0m\u001b[0;34m)\u001b[0m\u001b[0;34m:\u001b[0m\u001b[0;34m\u001b[0m\u001b[0;34m\u001b[0m\u001b[0m\n\u001b[0;32m--> 305\u001b[0;31m             \u001b[0moid\u001b[0m \u001b[0;34m=\u001b[0m \u001b[0mh5o\u001b[0m\u001b[0;34m.\u001b[0m\u001b[0mopen\u001b[0m\u001b[0;34m(\u001b[0m\u001b[0mself\u001b[0m\u001b[0;34m.\u001b[0m\u001b[0mid\u001b[0m\u001b[0;34m,\u001b[0m \u001b[0mself\u001b[0m\u001b[0;34m.\u001b[0m\u001b[0m_e\u001b[0m\u001b[0;34m(\u001b[0m\u001b[0mname\u001b[0m\u001b[0;34m)\u001b[0m\u001b[0;34m,\u001b[0m \u001b[0mlapl\u001b[0m\u001b[0;34m=\u001b[0m\u001b[0mself\u001b[0m\u001b[0;34m.\u001b[0m\u001b[0m_lapl\u001b[0m\u001b[0;34m)\u001b[0m\u001b[0;34m\u001b[0m\u001b[0;34m\u001b[0m\u001b[0m\n\u001b[0m\u001b[1;32m    306\u001b[0m         \u001b[0;32melse\u001b[0m\u001b[0;34m:\u001b[0m\u001b[0;34m\u001b[0m\u001b[0;34m\u001b[0m\u001b[0m\n\u001b[1;32m    307\u001b[0m             raise TypeError(\"Accessing a group is done with bytes or str, \"\n",
      "\u001b[0;32mh5py/_objects.pyx\u001b[0m in \u001b[0;36mh5py._objects.with_phil.wrapper\u001b[0;34m()\u001b[0m\n",
      "\u001b[0;32mh5py/_objects.pyx\u001b[0m in \u001b[0;36mh5py._objects.with_phil.wrapper\u001b[0;34m()\u001b[0m\n",
      "\u001b[0;32mh5py/h5o.pyx\u001b[0m in \u001b[0;36mh5py.h5o.open\u001b[0;34m()\u001b[0m\n",
      "\u001b[0;31mKeyError\u001b[0m: \"Unable to open object (object 'GM(eV^3)R' doesn't exist)\""
     ]
    },
    {
     "data": {
      "image/png": "[encoded data removed]",
      "text/plain": [
       "<Figure size 432x288 with 1 Axes>"
      ]
     },
     "metadata": {
      "needs_background": "light"
     },
     "output_type": "display_data"
    }
   ],
   "source": [
    "#plots flux GM components along chosen basis component\n",
    "t = np.array(data[\"t(s)\"])\n",
    "plt.xlabel(\"time (s)\")\n",
    "plt.ylabel(r\"$eV^3$\")\n",
    "plt.title('GM Components vs Time, '+str(basis)+ \" basis\")    \n",
    "plt.plot(t,np.average(np.absolute(sft.total(data, 'GM(eV^3)')[0][:,basis,:,:]), axis=1),label=[str(k)for k in range(0,8)])\n",
    "plt.legend()\n",
    "plt.grid()"
   ]
  },
  {
   "cell_type": "code",
   "execution_count": 10,
   "id": "8fa804f6",
   "metadata": {},
   "outputs": [
    {
     "data": {
      "image/png": "[encoded data removed]",
      "text/plain": [
       "<Figure size 432x288 with 1 Axes>"
      ]
     },
     "metadata": {
      "needs_background": "light"
     },
     "output_type": "display_data"
    }
   ],
   "source": [
    "#plots [basis] component of Flux \n",
    "J=sft.total(data,\"J(eV^3)\")\n",
    "t = np.array(data[\"t(s)\"])\n",
    "plt.xlabel(\"time (s)\")\n",
    "plt.ylabel(r\"$eV^3$\")\n",
    "plt.title('1'+'-component of Flux vs Time')    \n",
    "plt.semilogy(t,np.average(sft.scalarfunc_time(J[:,3,:,:,:]), axis=1))\n",
    "plt.grid()"
   ]
  },
  {
   "cell_type": "code",
   "execution_count": null,
   "id": "cc9d8dba",
   "metadata": {
    "scrolled": false
   },
   "outputs": [],
   "source": [
    "#plots [basis] component of Flux \n",
    "J=sft.total(data,\"J(eV^3)\")\n",
    "t = np.array(data[\"t(s)\"])\n",
    "plt.xlabel(\"time (s)\")\n",
    "plt.ylabel(r\"$eV^3$\")\n",
    "plt.title(str(basis)+'-component of Flux vs Time')    \n",
    "plt.semilogy(t,np.average(sft.scalarfunc_time(J[:,2,:,:,:]), axis=1))\n",
    "plt.grid()"
   ]
  },
  {
   "cell_type": "code",
   "execution_count": 4,
   "id": "66954bf8",
   "metadata": {
    "scrolled": false
   },
   "outputs": [
    {
     "ename": "NameError",
     "evalue": "name 'data' is not defined",
     "output_type": "error",
     "traceback": [
      "\u001b[0;31m---------------------------------------------------------------------------\u001b[0m",
      "\u001b[0;31mNameError\u001b[0m                                 Traceback (most recent call last)",
      "\u001b[0;32m/tmp/ipykernel_18869/2401029793.py\u001b[0m in \u001b[0;36m<module>\u001b[0;34m\u001b[0m\n\u001b[1;32m      1\u001b[0m \u001b[0;31m#plots H_LR\u001b[0m\u001b[0;34m\u001b[0m\u001b[0;34m\u001b[0m\u001b[0;34m\u001b[0m\u001b[0m\n\u001b[0;32m----> 2\u001b[0;31m \u001b[0mH_LR\u001b[0m\u001b[0;34m=\u001b[0m\u001b[0msft\u001b[0m\u001b[0;34m.\u001b[0m\u001b[0mtotal\u001b[0m\u001b[0;34m(\u001b[0m\u001b[0mdata\u001b[0m\u001b[0;34m,\u001b[0m\u001b[0;34m\"H_LR(eV)\"\u001b[0m\u001b[0;34m)\u001b[0m\u001b[0;34m\u001b[0m\u001b[0;34m\u001b[0m\u001b[0m\n\u001b[0m\u001b[1;32m      3\u001b[0m \u001b[0mt\u001b[0m \u001b[0;34m=\u001b[0m \u001b[0mnp\u001b[0m\u001b[0;34m.\u001b[0m\u001b[0marray\u001b[0m\u001b[0;34m(\u001b[0m\u001b[0mdata\u001b[0m\u001b[0;34m[\u001b[0m\u001b[0;34m\"t(s)\"\u001b[0m\u001b[0;34m]\u001b[0m\u001b[0;34m)\u001b[0m\u001b[0;34m\u001b[0m\u001b[0;34m\u001b[0m\u001b[0m\n\u001b[1;32m      4\u001b[0m \u001b[0mplt\u001b[0m\u001b[0;34m.\u001b[0m\u001b[0mxlabel\u001b[0m\u001b[0;34m(\u001b[0m\u001b[0;34m\"time (ns)\"\u001b[0m\u001b[0;34m)\u001b[0m\u001b[0;34m\u001b[0m\u001b[0;34m\u001b[0m\u001b[0m\n\u001b[1;32m      5\u001b[0m \u001b[0mplt\u001b[0m\u001b[0;34m.\u001b[0m\u001b[0mylabel\u001b[0m\u001b[0;34m(\u001b[0m\u001b[0;34mr\"$|H_{LR}| \\ \\ (eV)$\"\u001b[0m\u001b[0;34m)\u001b[0m\u001b[0;34m\u001b[0m\u001b[0;34m\u001b[0m\u001b[0m\n",
      "\u001b[0;31mNameError\u001b[0m: name 'data' is not defined"
     ]
    }
   ],
   "source": [
    "#plots H_LR\n",
    "H_LR=sft.total(data,\"H_LR(eV)\")\n",
    "t = np.array(data[\"t(s)\"])\n",
    "plt.xlabel(\"time (ns)\")\n",
    "plt.ylabel(r\"$|H_{LR}| \\ \\ (eV)$\")\n",
    "#plt.ylim(1e-17,5e-13)\n",
    "#plt.xlim(0,0.4)\n",
    "#plt.title('Spin-Flip Hamiltionian Component during Fast Flavor Instability')    \n",
    "plt.semilogy(10**9*t,np.average(sft.scalarfunc_time(H_LR[:,:,:,:]), axis=1))\n",
    "plt.fill_between([0.11,0.28], 0, 1e-12, alpha=0.5, color='yellow')\n",
    "proxy = [plt.Rectangle((1, 1), 2, 2, fc='yellow')]\n",
    "mpl.pyplot.tick_params(axis='both',which=\"both\", direction=\"in\",top=True,right=True)\n",
    "mpl.pyplot.minorticks_on()\n",
    "\n",
    "plt.legend(proxy, [\"Instability\"], loc='upper left')\n",
    "plt.grid()\n",
    "plt.savefig('../H_LR.png', dpi=300)"
   ]
  },
  {
   "cell_type": "code",
   "execution_count": null,
   "id": "3d3ddc92",
   "metadata": {},
   "outputs": [],
   "source": [
    "#plots the kappa component of the potential\n",
    "kappa=sft.total(data,'S_R_kappa(eV)')\n",
    "t = np.array(data[\"t(s)\"])\n",
    "plt.xlabel(\"time (s)\")\n",
    "plt.ylabel(r\"$eV$\")\n",
    "plt.title('Kappa Component of Potential vs Time')    \n",
    "plt.plot(t,np.average(kappa[:,0,0,:], axis=1))\n",
    "plt.grid()\n",
    "plt.savefig('../kappa.png', dpi=300)"
   ]
  },
  {
   "cell_type": "code",
   "execution_count": null,
   "id": "43eb6fb9",
   "metadata": {},
   "outputs": [],
   "source": [
    "np.shape(kappa)"
   ]
  },
  {
   "cell_type": "code",
   "execution_count": null,
   "id": "6f9634e7",
   "metadata": {
    "scrolled": false
   },
   "outputs": [],
   "source": [
    "#Plots neutrino-neutrino + vacuum part of diagonal component \n",
    "H_vv=sft.total(data,'H_Rz(eV)')\n",
    "t = np.array(data[\"t(s)\"])\n",
    "plt.xlabel(\"time (s)\")\n",
    "plt.ylabel(r\"$eV$\")\n",
    "plt.title(r'$H_{\\nu\\nu}+H_m$ vs Time')    \n",
    "plt.plot(t,np.average(sft.scalarfunc_time(H_vv[:,:,:,:]), axis=1))\n",
    "plt.grid()"
   ]
  },
  {
   "cell_type": "code",
   "execution_count": null,
   "id": "a8e73e15",
   "metadata": {},
   "outputs": [],
   "source": [
    "#Plots neutrino-neutrino + vacuum part of diagonal component against space (at time t)\n",
    "t=0\n",
    "H_vv=sft.total(data,'H_Rz(eV)')\n",
    "z = np.array(data[\"z(cm)\"])\n",
    "plt.xlabel(\"position (cm)\")\n",
    "plt.ylabel(r\"$eV$\")\n",
    "#plt.title('Spin-Flip Hamiltionian Component vs Space at t = '+str(t))    \n",
    "plt.plot(z,H_vv[t,0,0,:])\n",
    "plt.grid()"
   ]
  },
  {
   "cell_type": "code",
   "execution_count": null,
   "id": "b225586e",
   "metadata": {},
   "outputs": [],
   "source": [
    "\n",
    "\n",
    "\n",
    "\n",
    "\n",
    "\n",
    "\n",
    "\n",
    "\n",
    "\n",
    "\n",
    "\n",
    "\n",
    "\n",
    "\n",
    "\n",
    "\n",
    "\n",
    "#MERGER GRID FUNCTIONS: all plots involving 3d grid of data from the supernova merger (Rather than a single simulation)"
   ]
  },
  {
   "cell_type": "code",
   "execution_count": 3,
   "id": "b54bc61d",
   "metadata": {},
   "outputs": [
    {
     "data": {
      "text/plain": [
       "<KeysViewHDF5 ['J_a(erg|ccm)', 'J_e(erg|ccm)', 'J_x(erg|ccm)', 'Ye', 'crossing_discriminant', 'deltaCrossingAngle', 'eddfac_a(1|ccm)', 'eddfac_e(1|ccm)', 'eddfac_x(1|ccm)', 'fluxfac_a(1|ccm)', 'fluxfac_e(1|ccm)', 'fluxfac_x(1|ccm)', 'fn_a(1|ccm)', 'fn_e(1|ccm)', 'fn_x(1|ccm)', 'minerbo_Za', 'minerbo_Ze', 'minerbo_Zx', 'n_a(1|ccm)', 'n_e(1|ccm)', 'n_x(1|ccm)', 'rho(g|ccm)', 'x(cm)', 'y(cm)', 'z(cm)']>"
      ]
     },
     "execution_count": 3,
     "metadata": {},
     "output_type": "execute_result"
    }
   ],
   "source": [
    "merger_grid = h5py.File(\"/home/henryrpg/Desktop/N3AS/data/merger_grid.h5\",\"r\")\n",
    "merger_grid_unrotated = h5py.File(\"/home/henryrpg/Desktop/N3AS/data/merger_grid_unrotated.h5\",\"r\")\n",
    "units= h5py.File(\"/home/henryrpg/Desktop/N3AS/data/units.h5\",\"r\")\n",
    "units.keys()\n",
    "#grid spacing is 0.67928832684 km"
   ]
  },
  {
   "cell_type": "code",
   "execution_count": 4,
   "id": "76ae161d",
   "metadata": {},
   "outputs": [],
   "source": [
    "xunits=np.array(units['x(cm)'])\n",
    "x_km=10**-5*xunits\n",
    "yunits=np.array(units['y(cm)'])\n",
    "y_km=10**-5*yunits"
   ]
  },
  {
   "cell_type": "code",
   "execution_count": 3,
   "id": "4b97895b",
   "metadata": {
    "scrolled": true
   },
   "outputs": [
    {
     "ename": "NameError",
     "evalue": "name 'merger_grid' is not defined",
     "output_type": "error",
     "traceback": [
      "\u001b[0;31m---------------------------------------------------------------------------\u001b[0m",
      "\u001b[0;31mNameError\u001b[0m                                 Traceback (most recent call last)",
      "\u001b[0;32m/tmp/ipykernel_18869/514010836.py\u001b[0m in \u001b[0;36m<module>\u001b[0;34m\u001b[0m\n\u001b[0;32m----> 1\u001b[0;31m \u001b[0mx\u001b[0m\u001b[0;34m=\u001b[0m\u001b[0mnp\u001b[0m\u001b[0;34m.\u001b[0m\u001b[0marray\u001b[0m\u001b[0;34m(\u001b[0m\u001b[0mmerger_grid\u001b[0m\u001b[0;34m[\u001b[0m\u001b[0;34m'x(cm)'\u001b[0m\u001b[0;34m]\u001b[0m\u001b[0;34m)\u001b[0m\u001b[0;34m\u001b[0m\u001b[0;34m\u001b[0m\u001b[0m\n\u001b[0m\u001b[1;32m      2\u001b[0m \u001b[0my\u001b[0m\u001b[0;34m=\u001b[0m\u001b[0mnp\u001b[0m\u001b[0;34m.\u001b[0m\u001b[0marray\u001b[0m\u001b[0;34m(\u001b[0m\u001b[0mmerger_grid\u001b[0m\u001b[0;34m[\u001b[0m\u001b[0;34m'y(cm)'\u001b[0m\u001b[0;34m]\u001b[0m\u001b[0;34m)\u001b[0m\u001b[0;34m\u001b[0m\u001b[0;34m\u001b[0m\u001b[0m\n\u001b[1;32m      3\u001b[0m \u001b[0mdiscriminant\u001b[0m\u001b[0;34m=\u001b[0m\u001b[0mnp\u001b[0m\u001b[0;34m.\u001b[0m\u001b[0marray\u001b[0m\u001b[0;34m(\u001b[0m\u001b[0mmerger_grid\u001b[0m\u001b[0;34m[\u001b[0m\u001b[0;34m'crossing_descriminant'\u001b[0m\u001b[0;34m]\u001b[0m\u001b[0;34m)\u001b[0m\u001b[0;34m\u001b[0m\u001b[0;34m\u001b[0m\u001b[0m\n\u001b[1;32m      4\u001b[0m \u001b[0mdiscriminant_unrotated\u001b[0m\u001b[0;34m=\u001b[0m\u001b[0mnp\u001b[0m\u001b[0;34m.\u001b[0m\u001b[0marray\u001b[0m\u001b[0;34m(\u001b[0m\u001b[0mmerger_grid_unrotated\u001b[0m\u001b[0;34m[\u001b[0m\u001b[0;34m'crossing_discriminant'\u001b[0m\u001b[0;34m]\u001b[0m\u001b[0;34m)\u001b[0m\u001b[0;34m\u001b[0m\u001b[0;34m\u001b[0m\u001b[0m\n\u001b[1;32m      5\u001b[0m \u001b[0;34m\u001b[0m\u001b[0m\n",
      "\u001b[0;31mNameError\u001b[0m: name 'merger_grid' is not defined"
     ]
    }
   ],
   "source": [
    "x=np.array(merger_grid['x(cm)'])\n",
    "y=np.array(merger_grid['y(cm)'])\n",
    "discriminant=np.array(merger_grid['crossing_descriminant'])\n",
    "discriminant_unrotated=np.array(merger_grid_unrotated['crossing_discriminant'])\n",
    "\n",
    "positive=np.where(discriminant>=0)\n",
    "negative=np.where(discriminant<0)\n",
    "\n",
    "discriminant_sign=np.zeros_like(discriminant)\n",
    "\n",
    "discriminant_sign[positive]=1\n",
    "discriminant_sign[negative]=0"
   ]
  },
  {
   "cell_type": "code",
   "execution_count": 11,
   "id": "454c5add",
   "metadata": {},
   "outputs": [],
   "source": [
    "G=1.1663787*10**(-23) # eV^-2\n",
    "c=2.998e+10 #cm/s\n",
    "M_p=1.6726219*10**(-24)#grams (Proton mass)\n",
    "rho=np.array(merger_grid['rho(g|ccm)']) #g/cm^3 (baryon mass density)\n",
    "Ye=np.array(merger_grid['Ye'])\n",
    "hbar=6.58211951*10**(-16) #eV s\n",
    "n_b=rho/M_p*(hbar**3 * c**3)#eV^3 (baryon number density)"
   ]
  },
  {
   "cell_type": "code",
   "execution_count": 12,
   "id": "68ced953",
   "metadata": {},
   "outputs": [],
   "source": [
    "#4-component flux vectors for electron neutrinos (e), electron antineutrinos (a), and other neutrinos (x)\n",
    "#all in eV^3\n",
    "J_e=(hbar**3 * c**3)*(np.array([merger_grid['n_e(1|ccm)'],\n",
    "              merger_grid['fn_e(1|ccm)'][0],merger_grid['fn_e(1|ccm)'][1],merger_grid['fn_e(1|ccm)'][2]]))\n",
    "                      \n",
    "J_a=(hbar**3 * c**3)*np.array([merger_grid['n_a(1|ccm)'],\n",
    "              merger_grid['fn_a(1|ccm)'][0],merger_grid['fn_a(1|ccm)'][1],merger_grid['fn_a(1|ccm)'][2]])\n",
    "                      \n"
   ]
  },
  {
   "cell_type": "code",
   "execution_count": 13,
   "id": "f2af7d92",
   "metadata": {},
   "outputs": [],
   "source": [
    "J=J_e-J_a"
   ]
  },
  {
   "cell_type": "code",
   "execution_count": 14,
   "id": "7fd2cc3e",
   "metadata": {},
   "outputs": [],
   "source": [
    "mag_F=np.sqrt(np.sum(J[1:4,:,:,:]**2, axis=0))"
   ]
  },
  {
   "cell_type": "code",
   "execution_count": 15,
   "id": "d1897caf",
   "metadata": {},
   "outputs": [],
   "source": [
    "H_vv_min=2**(1./2.)*G*(J[0]+mag_F)\n",
    "H_vv_max=2**(1./2.)*G*(J[0]-mag_F)\n",
    "\n",
    "resonance_val_max = 2**(-1/2)*G*n_b*(3.*Ye-np.ones_like(Ye))+H_vv_max\n",
    "resonance_val_min = 2**(-1/2)*G*n_b*(3.*Ye-np.ones_like(Ye))+H_vv_min\n"
   ]
  },
  {
   "cell_type": "code",
   "execution_count": 16,
   "id": "182d9316",
   "metadata": {},
   "outputs": [],
   "source": [
    "positive_resonance=np.where(resonance_val_min>=0)\n",
    "\n",
    "resonance_sign=np.zeros_like(discriminant)\n",
    "resonance_sign[positive_resonance]=1\n",
    "\n",
    "both_conditions=resonance_sign*discriminant_sign"
   ]
  },
  {
   "cell_type": "code",
   "execution_count": 20,
   "id": "6dadd6cf",
   "metadata": {
    "scrolled": true
   },
   "outputs": [
    {
     "data": {
      "image/png": "[encoded data removed]",
      "text/plain": [
       "<Figure size 432x288 with 1 Axes>"
      ]
     },
     "metadata": {
      "needs_background": "light"
     },
     "output_type": "display_data"
    }
   ],
   "source": [
    "#see cntours at z=zval\n",
    "zval=95\n",
    "#colorplot=plt.pcolormesh(x[:,:,zval],y[:,:,zval],discriminant[:,:,zval],cmap=plt.cm.RdYlBu,shading='auto',vmax=0.3,vmin=-0.3)\n",
    "#plt.colorbar()\n",
    "cs=plt.contourf(x_km[:,:,zval],y_km[:,:,zval], discriminant_sign[:,:,zval], levels=[0.1,1,2,3], alpha=0.6, colors=['blue','red',[0.65,0,0.25]])\n",
    "proxy = [plt.Rectangle((1, 1), 2, 2, fc='blue'),plt.Rectangle((1, 1), 2, 2, fc='red'),plt.Rectangle((1, 1), 2, 2, fc=[0.7,0,0.5],ec='yellow')]\n",
    "\n",
    "plt.legend(proxy, [\"ELN Crossing Present\", \"Resonance Condition Satisfied\",\"Both Conditions Satisfied\"])\n",
    "plt.contourf(x_km[:,:,zval],y_km[:,:,zval],resonance_val_min[:,:,zval], levels=[0,1], alpha=0.5, colors=['red'])\n",
    "plt.contour(x_km[:,:,zval],y_km[:,:,zval],both_conditions[:,:,zval], levels=[0.5,1], colors=['yellow'] )\n",
    "mpl.pyplot.tick_params(axis='both',which=\"both\", direction=\"in\",top=True,right=True)\n",
    "mpl.pyplot.minorticks_on()\n",
    "plt.xlabel('x (km)')\n",
    "plt.ylabel('y (km)')\n",
    "#plt.contour(x[:,:,zval],y[:,:,zval],resonance_val_max[:,:,zval], levels=[0], colors=['blue'] )\n",
    "#plt.title('Resonance Conditions and ELN Crossing Regions')\n",
    "plt.savefig('../'+str(zval)+'.png', dpi=300)"
   ]
  },
  {
   "cell_type": "code",
   "execution_count": 21,
   "id": "1b69b249",
   "metadata": {},
   "outputs": [],
   "source": [
    "#angle-dependent resonance\n",
    "\n",
    "J_e=(hbar**3 * c**3)*(np.array([merger_grid['n_e(1|ccm)'],\n",
    "              merger_grid['fn_e(1|ccm)'][0],merger_grid['fn_e(1|ccm)'][1],merger_grid['fn_e(1|ccm)'][2]]))\n",
    "                      \n",
    "J_a=(hbar**3 * c**3)*np.array([merger_grid['n_a(1|ccm)'],\n",
    "              merger_grid['fn_a(1|ccm)'][0],merger_grid['fn_a(1|ccm)'][1],merger_grid['fn_a(1|ccm)'][2]])\n",
    "\n",
    "\n",
    "J_merger=J_e-J_a\n",
    "\n",
    "\n",
    "\n",
    "\n",
    "J_eu=(hbar**3 * c**3)*(np.array([merger_grid_unrotated['n_e(1|ccm)'],\n",
    "              merger_grid_unrotated['fn_e(1|ccm)'][0],merger_grid_unrotated['fn_e(1|ccm)'][1],merger_grid_unrotated['fn_e(1|ccm)'][2]]))\n",
    "                      \n",
    "J_au=(hbar**3 * c**3)*np.array([merger_grid_unrotated['n_a(1|ccm)'],\n",
    "              merger_grid_unrotated['fn_a(1|ccm)'][0],merger_grid_unrotated['fn_a(1|ccm)'][1],merger_grid_unrotated['fn_a(1|ccm)'][2]])\n",
    "\n",
    "\n",
    "J_u=J_eu-J_au"
   ]
  },
  {
   "cell_type": "code",
   "execution_count": 22,
   "id": "ebf91c4c",
   "metadata": {},
   "outputs": [],
   "source": [
    "def resonance_val(J, basis):\n",
    "   \n",
    "    #should this be doubled?\n",
    "    S_R = 2**(1./2.)*G*np.transpose(np.array([[2*J,np.zeros_like(J)],[np.zeros_like(J),J]]),(2,0,1,3,4,5))\n",
    "    \n",
    "    S_R_kappa = sft.kappa(S_R,basis)\n",
    "    \n",
    "    return np.array(2**(-1/2)*G*n_b*(3.*Ye-np.ones_like(Ye))+S_R_kappa[0,0])\n",
    "    "
   ]
  },
  {
   "cell_type": "code",
   "execution_count": 23,
   "id": "07b95551",
   "metadata": {},
   "outputs": [],
   "source": [
    "def grad_magnitude(J, basis):\n",
    "\n",
    "    grad=np.gradient(resonance_val(J,basis), 0.67928832684*1e5/(c*hbar))\n",
    "    projection=np.sum(basis.n_vector[1:4,np.newaxis,np.newaxis,np.newaxis]*grad, axis=0)\n",
    "    \n",
    "    return np.array(np.abs(projection))"
   ]
  },
  {
   "cell_type": "code",
   "execution_count": 358,
   "id": "3c8e255f",
   "metadata": {},
   "outputs": [],
   "source": [
    "def H_LR(J, basis):\n",
    "    M=sft.M_2flavor\n",
    "    p_abs=10**7\n",
    "    S_R = 2**(1./2.)*G*np.transpose(np.array([[2*J,np.zeros_like(J)],[np.zeros_like(J),J]]),(2,0,1,3,4,5))\n",
    "    S_L = -2**(1./2.)*G*np.transpose(np.array([[2*J,np.zeros_like(J)],[np.zeros_like(J),J]]),(2,1,0,3,4,5))\n",
    "    S_L_minus = sft.minus(S_L, basis)\n",
    "    S_R_plus = sft.plus(S_R, basis)\n",
    "    \n",
    "    MSl = np.transpose(np.array([[[ np.matmul(np.conj(M),S_L_minus[:,:,x,y,z]) for z in range(101) ] for y in range(201)] for x in range(201)]),(3,4,0,1,2))\n",
    "    SrM = np.transpose(np.array([[[ np.matmul(S_R_plus[:,:,x,y,z],np.conj(M))  for z in range(101) ] for y in range(201)] for x in range(201)]) ,(3,4,0,1,2))\n",
    "    return (-1/p_abs)*(SrM-MSl)"
   ]
  },
  {
   "cell_type": "code",
   "execution_count": 25,
   "id": "5473e97b",
   "metadata": {},
   "outputs": [],
   "source": [
    "def adiabaticity(J,basis):\n",
    "    return np.real((H_LR(J,basis)[0,0]**2)/grad_magnitude(J,basis))"
   ]
  },
  {
   "cell_type": "code",
   "execution_count": 31,
   "id": "23e5dec4",
   "metadata": {},
   "outputs": [],
   "source": [
    "def max_adiab(adiab,z,value):\n",
    "    maxvals=np.where(adiab>value)\n",
    "    coordlist=[]\n",
    "    for n in range(0,len(maxvals[2])):\n",
    "        if maxvals[2][n]==z:\n",
    "            coordlist.append([int(maxvals[0][n]),int(maxvals[1][n])])\n",
    "    \n",
    "    return np.array(coordlist)"
   ]
  },
  {
   "cell_type": "code",
   "execution_count": 33,
   "id": "f445bc43",
   "metadata": {
    "scrolled": true
   },
   "outputs": [],
   "source": [
    "def coords(adiab,z,value):\n",
    "    maxpoints=max_adiab(adiab,z,value)\n",
    "    xlist=[x_km[val[0],val[1],z] for val in maxpoints]\n",
    "    ylist=[y_km[val[0],val[1],z] for val in maxpoints]\n",
    "    return xlist,ylist"
   ]
  },
  {
   "cell_type": "code",
   "execution_count": 140,
   "id": "ba968be3",
   "metadata": {},
   "outputs": [],
   "source": [
    "basis=sft.Basis(np.pi/2,0)\n",
    "H_LR_x=H_LR(J_merger,basis)\n"
   ]
  },
  {
   "cell_type": "code",
   "execution_count": 362,
   "id": "c8c75e88",
   "metadata": {},
   "outputs": [
    {
     "data": {
      "text/plain": [
       "array([[[1.27571113e-13-0.j, 1.25948845e-13-0.j, 1.24407926e-13-0.j,\n",
       "         ..., 1.22127323e-13-0.j, 1.22195506e-13-0.j,\n",
       "         1.22370158e-13-0.j],\n",
       "        [1.30164039e-13-0.j, 1.28816460e-13-0.j, 1.27495064e-13-0.j,\n",
       "         ..., 1.24237922e-13-0.j, 1.24801944e-13-0.j,\n",
       "         1.25244654e-13-0.j],\n",
       "        [1.33626805e-13-0.j, 1.32372696e-13-0.j, 1.30721618e-13-0.j,\n",
       "         ..., 1.26853942e-13-0.j, 1.27317665e-13-0.j,\n",
       "         1.27979680e-13-0.j],\n",
       "        ...,\n",
       "        [2.33027863e-13-0.j, 2.33583572e-13-0.j, 2.33326293e-13-0.j,\n",
       "         ..., 2.30492444e-13-0.j, 2.28133885e-13-0.j,\n",
       "         2.25499877e-13-0.j],\n",
       "        [2.29323322e-13-0.j, 2.29899954e-13-0.j, 2.30049306e-13-0.j,\n",
       "         ..., 2.26448423e-13-0.j, 2.23953151e-13-0.j,\n",
       "         2.21608780e-13-0.j],\n",
       "        [2.25346018e-13-0.j, 2.26044462e-13-0.j, 2.26746699e-13-0.j,\n",
       "         ..., 2.22539509e-13-0.j, 2.20047972e-13-0.j,\n",
       "         2.17866051e-13-0.j]],\n",
       "\n",
       "       [[1.30562625e-13-0.j, 1.28379175e-13-0.j, 1.26465598e-13-0.j,\n",
       "         ..., 1.23925609e-13-0.j, 1.24258358e-13-0.j,\n",
       "         1.24593646e-13-0.j],\n",
       "        [1.32618317e-13-0.j, 1.31204590e-13-0.j, 1.29722636e-13-0.j,\n",
       "         ..., 1.26271332e-13-0.j, 1.26212921e-13-0.j,\n",
       "         1.26616128e-13-0.j],\n",
       "        [1.35996910e-13-0.j, 1.35007400e-13-0.j, 1.33746663e-13-0.j,\n",
       "         ..., 1.29594102e-13-0.j, 1.29669964e-13-0.j,\n",
       "         1.29879021e-13-0.j],\n",
       "        ...,\n",
       "        [2.36896408e-13-0.j, 2.37384001e-13-0.j, 2.37250167e-13-0.j,\n",
       "         ..., 2.33134859e-13-0.j, 2.31128357e-13-0.j,\n",
       "         2.28745974e-13-0.j],\n",
       "        [2.33268677e-13-0.j, 2.33688550e-13-0.j, 2.33773440e-13-0.j,\n",
       "         ..., 2.29238840e-13-0.j, 2.27106707e-13-0.j,\n",
       "         2.24783141e-13-0.j],\n",
       "        [2.29454479e-13-0.j, 2.29887427e-13-0.j, 2.30839199e-13-0.j,\n",
       "         ..., 2.25771594e-13-0.j, 2.23368407e-13-0.j,\n",
       "         2.21107306e-13-0.j]],\n",
       "\n",
       "       [[1.32934346e-13-0.j, 1.30973833e-13-0.j, 1.29125258e-13-0.j,\n",
       "         ..., 1.26667743e-13-0.j, 1.27097221e-13-0.j,\n",
       "         1.27378660e-13-0.j],\n",
       "        [1.35682294e-13-0.j, 1.34445506e-13-0.j, 1.33141274e-13-0.j,\n",
       "         ..., 1.29500612e-13-0.j, 1.29441418e-13-0.j,\n",
       "         1.29625262e-13-0.j],\n",
       "        [1.39492994e-13-0.j, 1.38686116e-13-0.j, 1.37352156e-13-0.j,\n",
       "         ..., 1.32640728e-13-0.j, 1.32679464e-13-0.j,\n",
       "         1.32644070e-13-0.j],\n",
       "        ...,\n",
       "        [2.40805325e-13-0.j, 2.41421647e-13-0.j, 2.41296637e-13-0.j,\n",
       "         ..., 2.35633818e-13-0.j, 2.33679495e-13-0.j,\n",
       "         2.31143964e-13-0.j],\n",
       "        [2.36995789e-13-0.j, 2.37324023e-13-0.j, 2.37785591e-13-0.j,\n",
       "         ..., 2.32310343e-13-0.j, 2.30209295e-13-0.j,\n",
       "         2.27748093e-13-0.j],\n",
       "        [2.33127603e-13-0.j, 2.33619999e-13-0.j, 2.34425146e-13-0.j,\n",
       "         ..., 2.29064525e-13-0.j, 2.26956831e-13-0.j,\n",
       "         2.24411154e-13-0.j]],\n",
       "\n",
       "       ...,\n",
       "\n",
       "       [[1.39018494e-13-0.j, 1.39062027e-13-0.j, 1.39349785e-13-0.j,\n",
       "         ..., 1.35982012e-13-0.j, 1.35993087e-13-0.j,\n",
       "         1.36220557e-13-0.j],\n",
       "        [1.41139261e-13-0.j, 1.41076774e-13-0.j, 1.41232812e-13-0.j,\n",
       "         ..., 1.38277992e-13-0.j, 1.38649776e-13-0.j,\n",
       "         1.39045306e-13-0.j],\n",
       "        [1.43635253e-13-0.j, 1.43593855e-13-0.j, 1.43400215e-13-0.j,\n",
       "         ..., 1.40844520e-13-0.j, 1.41049904e-13-0.j,\n",
       "         1.41780584e-13-0.j],\n",
       "        ...,\n",
       "        [1.41033485e-13-0.j, 1.40069454e-13-0.j, 1.39499527e-13-0.j,\n",
       "         ..., 1.38432980e-13-0.j, 1.38506169e-13-0.j,\n",
       "         1.38594378e-13-0.j],\n",
       "        [1.41473505e-13-0.j, 1.40337874e-13-0.j, 1.39412184e-13-0.j,\n",
       "         ..., 1.39087583e-13-0.j, 1.39046860e-13-0.j,\n",
       "         1.39607938e-13-0.j],\n",
       "        [1.41623902e-13-0.j, 1.40728036e-13-0.j, 1.39863370e-13-0.j,\n",
       "         ..., 1.39935149e-13-0.j, 1.39923716e-13-0.j,\n",
       "         1.40020639e-13-0.j]],\n",
       "\n",
       "       [[1.36974706e-13-0.j, 1.37113532e-13-0.j, 1.37468615e-13-0.j,\n",
       "         ..., 1.34321470e-13-0.j, 1.34160369e-13-0.j,\n",
       "         1.34405911e-13-0.j],\n",
       "        [1.39254405e-13-0.j, 1.39050143e-13-0.j, 1.39326606e-13-0.j,\n",
       "         ..., 1.36805941e-13-0.j, 1.36740135e-13-0.j,\n",
       "         1.37043131e-13-0.j],\n",
       "        [1.41817080e-13-0.j, 1.41604356e-13-0.j, 1.41682028e-13-0.j,\n",
       "         ..., 1.39477415e-13-0.j, 1.39528712e-13-0.j,\n",
       "         1.39554368e-13-0.j],\n",
       "        ...,\n",
       "        [1.40004968e-13-0.j, 1.39200017e-13-0.j, 1.38386520e-13-0.j,\n",
       "         ..., 1.37545695e-13-0.j, 1.37671689e-13-0.j,\n",
       "         1.37714530e-13-0.j],\n",
       "        [1.40157783e-13-0.j, 1.39441990e-13-0.j, 1.38512693e-13-0.j,\n",
       "         ..., 1.38085414e-13-0.j, 1.38195550e-13-0.j,\n",
       "         1.38385411e-13-0.j],\n",
       "        [1.40330139e-13-0.j, 1.39592041e-13-0.j, 1.38732340e-13-0.j,\n",
       "         ..., 1.38571757e-13-0.j, 1.38809869e-13-0.j,\n",
       "         1.38858991e-13-0.j]],\n",
       "\n",
       "       [[1.34721413e-13-0.j, 1.35075884e-13-0.j, 1.35563009e-13-0.j,\n",
       "         ..., 1.32749321e-13-0.j, 1.32252316e-13-0.j,\n",
       "         1.32342968e-13-0.j],\n",
       "        [1.37238507e-13-0.j, 1.37390141e-13-0.j, 1.37518982e-13-0.j,\n",
       "         ..., 1.35144843e-13-0.j, 1.34912967e-13-0.j,\n",
       "         1.35054797e-13-0.j],\n",
       "        [1.40008313e-13-0.j, 1.39887147e-13-0.j, 1.39870304e-13-0.j,\n",
       "         ..., 1.37635440e-13-0.j, 1.37396647e-13-0.j,\n",
       "         1.37452728e-13-0.j],\n",
       "        ...,\n",
       "        [1.38984872e-13-0.j, 1.38419750e-13-0.j, 1.37330717e-13-0.j,\n",
       "         ..., 1.36758401e-13-0.j, 1.37007311e-13-0.j,\n",
       "         1.37083183e-13-0.j],\n",
       "        [1.39113582e-13-0.j, 1.38418120e-13-0.j, 1.37411810e-13-0.j,\n",
       "         ..., 1.37290840e-13-0.j, 1.37402200e-13-0.j,\n",
       "         1.37565128e-13-0.j],\n",
       "        [1.39129084e-13-0.j, 1.38356294e-13-0.j, 1.37336623e-13-0.j,\n",
       "         ..., 1.37554298e-13-0.j, 1.37777175e-13-0.j,\n",
       "         1.37821890e-13-0.j]]])"
      ]
     },
     "execution_count": 362,
     "metadata": {},
     "output_type": "execute_result"
    }
   ],
   "source": [
    "H_LR_x[1,1]"
   ]
  },
  {
   "cell_type": "code",
   "execution_count": 27,
   "id": "24464c5c",
   "metadata": {},
   "outputs": [],
   "source": [
    "adiabaticity_x_unrotated=adiabaticity(J_u,basis)"
   ]
  },
  {
   "cell_type": "code",
   "execution_count": 49,
   "id": "174f4665",
   "metadata": {},
   "outputs": [],
   "source": [
    "basis=sft.Basis(0,0)\n",
    "gradz=grad_magnitude(J_u, basis)\n",
    "gradx=grad_magnitude(J_u,sft.Basis(np.pi/2,0))"
   ]
  },
  {
   "cell_type": "code",
   "execution_count": 29,
   "id": "f9df57b7",
   "metadata": {},
   "outputs": [],
   "source": [
    "optimal_adiabaticity = np.real((H_LR_x[0,0]**2)/gradz)"
   ]
  },
  {
   "cell_type": "code",
   "execution_count": 45,
   "id": "9d7bc373",
   "metadata": {},
   "outputs": [
    {
     "data": {
      "text/plain": [
       "-0.0001519075171802824"
      ]
     },
     "execution_count": 45,
     "metadata": {},
     "output_type": "execute_result"
    }
   ],
   "source": [
    "#86,5,13,14 -- good zvals for optimal adiabaticity\n",
    "#103,134,95: chosen point"
   ]
  },
  {
   "cell_type": "code",
   "execution_count": 130,
   "id": "567af3d0",
   "metadata": {
    "scrolled": false
   },
   "outputs": [
    {
     "data": {
      "image/png": "[encoded data removed]",
      "text/plain": [
       "<Figure size 432x288 with 2 Axes>"
      ]
     },
     "metadata": {
      "needs_background": "light"
     },
     "output_type": "display_data"
    }
   ],
   "source": [
    "#see contours at z=zval\n",
    "zval=13\n",
    "colorplot=plt.pcolormesh(x_km[:,:,zval],y_km[:,:,zval],np.log10(optimal_adiabaticity[:,:,zval]),cmap=plt.cm.hot,shading='auto', vmax=-3, vmin=-10)\n",
    "plt.xlabel('x (km)')\n",
    "plt.ylabel('y (km)')\n",
    "plt.colorbar(label=r'$log(\\gamma)$')\n",
    "contourf=plt.contourf(x_km[:,:,zval],y_km[:,:,zval],both_conditions[:,:,zval], alpha=0.5, levels=[0.5,1], colors=['blue'] )\n",
    "proxy = [plt.Rectangle((1, 1), 2, 2, fc=pc.get_facecolor()[0]) for pc in\n",
    "contourf.collections]\n",
    "\n",
    "#mpl.pyplot.tick_params(axis='both',which=\"both\", direction=\"in\",top=True,right=True)\n",
    "mpl.pyplot.minorticks_on()\n",
    "scatter=plt.scatter(coords(optimal_adiabaticity,zval,1e-4)[0],coords(optimal_adiabaticity,zval,1e-4)[1],color=[0,0.9,0], marker='x', label='Simulated Point')\n",
    "red_patch = mpatches.Patch(color=[0.3,0,0.7], label='The red data')\n",
    "plt.legend(handles=[scatter,red_patch], labels=[\"Simulated Point\",\"Both Conditions Satisfied\"], frameon = 1, framealpha=0.5)\n",
    "plt.tight_layout()\n",
    "plt.savefig('../'+str(zval)+'.png', dpi=300)"
   ]
  },
  {
   "cell_type": "code",
   "execution_count": null,
   "id": "df8105d2",
   "metadata": {
    "scrolled": false
   },
   "outputs": [],
   "source": [
    "#see contours at z=zval\n",
    "zval=13\n",
    "colorplot=plt.pcolormesh(x_km[:,:,zval],y_km[:,:,zval],np.log10(optimal_adiabaticity[:,:,zval]),cmap=plt.cm.hot,shading='auto', vmax=-3, vmin=-10)\n",
    "plt.xlabel('x (km)')\n",
    "plt.ylabel('y (km)')\n",
    "plt.colorbar(label=r'$log(\\gamma)$')\n",
    "contourf=plt.contourf(x_km[:,:,zval],y_km[:,:,zval],both_conditions[:,:,zval], alpha=0.45, levels=[0.5,1], colors=['blue'] )\n",
    "proxy = [plt.Rectangle((1, 1), 2, 2, fc=pc.get_facecolor()[0]) for pc in\n",
    "contourf.collections]\n",
    "\n",
    "#mpl.pyplot.tick_params(axis='both',which=\"both\", direction=\"in\",top=True,right=True)\n",
    "mpl.pyplot.minorticks_on()\n",
    "scatter=plt.scatter(coords(optimal_adiabaticity,zval,1e-4)[0],coords(optimal_adiabaticity,zval,1e-4)[1],color=[0,0.9,0], marker='x', label='Simulated Point')\n",
    "\n",
    "red_patch = mpatches.Patch(color=[0.3,0,0.7], label='The red data')\n",
    "plt.legend(handles=[scatter,red_patch], labels=[\"Simulated Point\",\"Region of Interest\"], frameon = 1, framealpha=0.5)\n",
    "plt.tight_layout()\n",
    "plt.savefig('../'+str(zval)+'.png', dpi=300)"
   ]
  },
  {
   "cell_type": "code",
   "execution_count": 70,
   "id": "6d49f397",
   "metadata": {},
   "outputs": [
    {
     "data": {
      "text/plain": [
       "<Figure size 432x288 with 0 Axes>"
      ]
     },
     "metadata": {},
     "output_type": "display_data"
    }
   ],
   "source": [
    "#Generate Gif\n",
    "file_list=[]\n",
    "for zval in range(0,99):   \n",
    "\n",
    "    \n",
    "    colorplot=plt.pcolormesh(x_km[:,:,zval],y_km[:,:,zval],np.log10(optimal_adiabaticity[:,:,zval]),cmap=plt.cm.hot,shading='auto', vmax=-3, vmin=-10)\n",
    "    plt.xlabel('x (km)')\n",
    "    plt.ylabel('y (km)')\n",
    "    plt.title('z = '+str(zval))\n",
    "    plt.colorbar(label=r'$log(\\gamma)$')\n",
    "    contourf=plt.contourf(x_km[:,:,zval],y_km[:,:,zval],both_conditions[:,:,zval], alpha=0.5, levels=[0.5,1], colors=['blue'] )\n",
    "    proxy = [plt.Rectangle((1, 1), 2, 2, fc=pc.get_facecolor()[0]) for pc in\n",
    "    contourf.collections]\n",
    "\n",
    "    #mpl.pyplot.tick_params(axis='both',which=\"both\", direction=\"in\",top=True,right=True)\n",
    "    mpl.pyplot.minorticks_on()\n",
    "    scatter=plt.scatter(coords(optimal_adiabaticity,zval,1e-4)[0],coords(optimal_adiabaticity,zval,1e-4)[1],color=[0,0.9,0], marker='x', label='Simulated Point')\n",
    "\n",
    "    red_patch = mpatches.Patch(color=[0.3,0,0.7], label='The red data')\n",
    "    plt.legend(handles=[scatter,red_patch], labels=[\"Simulated Point\",\"Both Conditions Satisfied\"], frameon = 1, framealpha=0.5)\n",
    "    plt.tight_layout()\n",
    "    plt.savefig('../'+str(zval)+'.png', dpi=300)\n",
    "    \n",
    "    file_list.append(str(zval)+'.png')\n",
    "    plt.clf()"
   ]
  },
  {
   "cell_type": "code",
   "execution_count": 71,
   "id": "9f266a8a",
   "metadata": {},
   "outputs": [],
   "source": [
    "import imageio\n",
    "# Build GIF\n",
    "with imageio.get_writer('../data.gif', mode='I', fps=5) as writer:\n",
    "    for filename in file_list:\n",
    "        image = imageio.imread('../'+filename)\n",
    "        writer.append_data(image)\n",
    "for filename in set(file_list):\n",
    "    os.remove('../'+filename)"
   ]
  },
  {
   "cell_type": "code",
   "execution_count": null,
   "id": "03152c79",
   "metadata": {},
   "outputs": [],
   "source": []
  },
  {
   "cell_type": "code",
   "execution_count": 142,
   "id": "19813530",
   "metadata": {},
   "outputs": [
    {
     "data": {
      "text/plain": [
       "(4, 201, 201, 101)"
      ]
     },
     "execution_count": 142,
     "metadata": {},
     "output_type": "execute_result"
    }
   ],
   "source": [
    "J_merger.shape"
   ]
  },
  {
   "cell_type": "code",
   "execution_count": 424,
   "id": "f6d207bc",
   "metadata": {},
   "outputs": [],
   "source": [
    "#angular plots\n",
    "def H_LR_coord(J, basis, coordinate):\n",
    "    M=sft.M_2flavor\n",
    "    J_coord=J[:,coordinate[0],coordinate[1],coordinate[2]]\n",
    "    p_abs=10**7\n",
    "    S_R = 2**(1./2.)*G*np.transpose(np.array([[2*J_coord,np.zeros_like(J_coord)],[np.zeros_like(J_coord),J_coord]]),(2,0,1))\n",
    "    S_L = -2**(1./2.)*G*np.transpose(np.array([[2*J_coord,np.zeros_like(J_coord)],[np.zeros_like(J_coord),J_coord]]),(2,1,0))\n",
    "    S_L_minus = sft.minus(S_L, basis)\n",
    "    S_R_plus = sft.plus(S_R, basis)\n",
    "    \n",
    "    MSl = np.array(np.matmul(np.conj(M),S_L_minus))\n",
    "    SrM = np.array(np.matmul(S_R_plus,np.conj(M)))\n",
    "    return (-1/p_abs)*(SrM-MSl)"
   ]
  },
  {
   "cell_type": "code",
   "execution_count": 421,
   "id": "9d821e7f",
   "metadata": {},
   "outputs": [],
   "source": [
    "H_LR1,S_L,MSl,SrM=H_LR_coord(J_merger, sft.Basis(np.pi/2,0),[5,5,5])"
   ]
  },
  {
   "cell_type": "code",
   "execution_count": 466,
   "id": "37cfb84c",
   "metadata": {},
   "outputs": [
    {
     "data": {
      "text/plain": [
       "array([[-3.22197202e-13+0.00000000e+00j,  9.10951984e-16+7.27392716e-16j],\n",
       "       [ 9.10951984e-16-7.27392716e-16j, -1.55237091e-13+0.00000000e+00j]])"
      ]
     },
     "execution_count": 466,
     "metadata": {},
     "output_type": "execute_result"
    }
   ],
   "source": [
    "H_LR_coord(J_u, sft.Basis(np.pi,1), [5,5,5])"
   ]
  },
  {
   "cell_type": "code",
   "execution_count": 410,
   "id": "2f00a006",
   "metadata": {},
   "outputs": [
    {
     "data": {
      "text/plain": [
       "(6.123233995736766e-17+1j)"
      ]
     },
     "execution_count": 410,
     "metadata": {},
     "output_type": "execute_result"
    }
   ],
   "source": [
    "(SR.x1 +iSR.x2)m-m(SRt.x1-iSRt.x2)"
   ]
  },
  {
   "cell_type": "code",
   "execution_count": 388,
   "id": "47881375",
   "metadata": {},
   "outputs": [
    {
     "ename": "TypeError",
     "evalue": "tuple indices must be integers or slices, not tuple",
     "output_type": "error",
     "traceback": [
      "\u001b[0;31m---------------------------------------------------------------------------\u001b[0m",
      "\u001b[0;31mTypeError\u001b[0m                                 Traceback (most recent call last)",
      "\u001b[0;32m/tmp/ipykernel_210/991917836.py\u001b[0m in \u001b[0;36m<module>\u001b[0;34m\u001b[0m\n\u001b[0;32m----> 1\u001b[0;31m np.array([[H_LR_coord(J_plot,sft.Basis(theta,phi),coordinates)[0,0]\n\u001b[0m\u001b[1;32m      2\u001b[0m             for theta in np.linspace(0,np.pi,200)] for phi in np.linspace(0,2*np.pi,100)])\n",
      "\u001b[0;32m/tmp/ipykernel_210/991917836.py\u001b[0m in \u001b[0;36m<listcomp>\u001b[0;34m(.0)\u001b[0m\n\u001b[0;32m----> 1\u001b[0;31m np.array([[H_LR_coord(J_plot,sft.Basis(theta,phi),coordinates)[0,0]\n\u001b[0m\u001b[1;32m      2\u001b[0m             for theta in np.linspace(0,np.pi,200)] for phi in np.linspace(0,2*np.pi,100)])\n",
      "\u001b[0;32m/tmp/ipykernel_210/991917836.py\u001b[0m in \u001b[0;36m<listcomp>\u001b[0;34m(.0)\u001b[0m\n\u001b[0;32m----> 1\u001b[0;31m np.array([[H_LR_coord(J_plot,sft.Basis(theta,phi),coordinates)[0,0]\n\u001b[0m\u001b[1;32m      2\u001b[0m             for theta in np.linspace(0,np.pi,200)] for phi in np.linspace(0,2*np.pi,100)])\n",
      "\u001b[0;31mTypeError\u001b[0m: tuple indices must be integers or slices, not tuple"
     ]
    }
   ],
   "source": [
    "np.array([[H_LR_coord(J_plot,sft.Basis(theta,phi),coordinates)[0,0]\n",
    "            for theta in np.linspace(0,np.pi,200)] for phi in np.linspace(0,2*np.pi,100)])"
   ]
  },
  {
   "cell_type": "code",
   "execution_count": 461,
   "id": "83527e7f",
   "metadata": {},
   "outputs": [],
   "source": [
    "matrix=np.array(100*[[n for n in range(0,200)]])"
   ]
  },
  {
   "cell_type": "code",
   "execution_count": 491,
   "id": "32cf8ad5",
   "metadata": {},
   "outputs": [
    {
     "data": {
      "text/plain": [
       "array([[ 4.52318499e-12-0.00000000e+00j, -6.46559280e-15-1.72337965e-14j],\n",
       "       [-6.46559280e-15+1.72337965e-14j,  2.17930534e-12-0.00000000e+00j]])"
      ]
     },
     "execution_count": 491,
     "metadata": {},
     "output_type": "execute_result"
    }
   ],
   "source": [
    "H_LR_coord(J_plot,sft.Basis(np.pi/2,1),coordinates)"
   ]
  },
  {
   "cell_type": "code",
   "execution_count": 488,
   "id": "e08bbc12",
   "metadata": {
    "scrolled": false
   },
   "outputs": [
    {
     "data": {
      "image/png": "[encoded data removed]",
      "text/plain": [
       "<Figure size 432x288 with 2 Axes>"
      ]
     },
     "metadata": {
      "needs_background": "light"
     },
     "output_type": "display_data"
    }
   ],
   "source": [
    "coordinates=[103,134,10]\n",
    "J_plot=J_merger\n",
    "H_LR_crit=np.transpose((np.array([[((np.real(H_LR_coord(J_plot,sft.Basis(theta,phi),coordinates)[0,0]))**2+\n",
    "                                   (np.imag(H_LR_coord(J_plot,sft.Basis(theta,phi),coordinates)[0,0]))**2)**(1/2)\n",
    "             for theta in np.linspace(0,np.pi,200)] for phi in np.linspace(0,2*np.pi,100)])))\n",
    "fig=plt.figure()\n",
    "ax = fig.add_subplot(projection=\"mollweide\")\n",
    "J_point=J_plot[:,coordinates[0],coordinates[1],coordinates[2]]\n",
    "im=ax.pcolormesh(np.linspace(-np.pi,np.pi,100), np.linspace(-0.5*np.pi,0.5*np.pi,200), H_LR_crit,cmap=plt.cm.hot,shading='auto')\n",
    "plt.colorbar(im)\n",
    "ax.scatter([np.arctan2(J_point[2],J_point[1])],[np.arctan2(J_point[3],(J_point[1]**2+J_point[2]**2)**(1/2))])\n",
    "#ax.scatter([np.pi/3],[0])\n",
    "\n",
    "\n",
    "\n",
    "plt.show()"
   ]
  },
  {
   "cell_type": "code",
   "execution_count": null,
   "id": "404b3722",
   "metadata": {},
   "outputs": [],
   "source": [
    "coordinates=[103,134,95]\n",
    "J_plot=J_merger\n",
    "H_LR_crit=np.transpose(np.real(np.array([[H_LR_coord(J_plot,sft.Basis(theta,phi),coordinates)[0,0]\n",
    "            for theta in np.linspace(0,np.pi,200)] for phi in np.linspace(0,2*np.pi,100)])))\n",
    "fig=plt.figure()\n",
    "ax = fig.add_subplot(projection=\"aitoff\")\n",
    "J_point=J_plot[:,coordinates[0],coordinates[1],coordinates[2]]\n",
    "im=ax.pcolormesh(np.linspace(-np.pi,np.pi,100), np.linspace(-0.5*np.pi,0.5*np.pi,200), H_LR_crit,cmap=plt.cm.hot,shading='auto')\n",
    "plt.colorbar(im)\n",
    "ax.scatter([np.arctan2(J_point[2],J_point[1])],[np.arctan2(J_point[3],(J_point[1]**2+J_point[2]**2)**(1/2))])\n",
    "ax.scatter([np.pi+np.arctan2(J_point[2],J_point[1])],[-np.arctan2(J_point[3],(J_point[1]**2+J_point[2]**2)**(1/2))])\n",
    "\n",
    "\n",
    "#ax.set_title(\"A line plot on a polar axis\", va='bottom')\n",
    "plt.show()"
   ]
  },
  {
   "cell_type": "code",
   "execution_count": 309,
   "id": "38dddbef",
   "metadata": {},
   "outputs": [
    {
     "data": {
      "text/plain": [
       "-1.7521168107114542"
      ]
     },
     "execution_count": 309,
     "metadata": {},
     "output_type": "execute_result"
    }
   ],
   "source": [
    "J_point=J_u[:,103,134,95]\n",
    "np.arctan2(J_point[2],J_point[1])"
   ]
  },
  {
   "cell_type": "code",
   "execution_count": null,
   "id": "47fa8004",
   "metadata": {},
   "outputs": [],
   "source": [
    "Jprojection=np.array([[J*cos(phi)]])"
   ]
  },
  {
   "cell_type": "code",
   "execution_count": null,
   "id": "006f27eb",
   "metadata": {},
   "outputs": [],
   "source": [
    "plt.figure()\n",
    "ax = plt.subplot(projection=\"aitoff\")\n",
    "ax.pcolormesh(np.linspace(-np.pi,np.pi,10), np.linspace(-0.5*np.pi,0.5*np.pi,20), H_LR_crit,cmap=plt.cm.hot,shading='auto')\n",
    "plt.colorbar\n",
    "#ax.scatter([0],[0])\n",
    "\n",
    "\n",
    "#ax.set_title(\"A line plot on a polar axis\", va='bottom')\n",
    "plt.show()"
   ]
  }
 ],
 "metadata": {
  "kernelspec": {
   "display_name": "Python 3 (ipykernel)",
   "language": "python",
   "name": "python3"
  },
  "language_info": {
   "codemirror_mode": {
    "name": "ipython",
    "version": 3
   },
   "file_extension": ".py",
   "mimetype": "text/x-python",
   "name": "python",
   "nbconvert_exporter": "python",
   "pygments_lexer": "ipython3",
   "version": "3.8.10"
  }
 },
 "nbformat": 4,
 "nbformat_minor": 5
}

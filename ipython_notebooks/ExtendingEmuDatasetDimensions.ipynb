{
 "cells": [
  {
   "cell_type": "code",
   "execution_count": 1,
   "metadata": {},
   "outputs": [],
   "source": [
    "import yt\n",
    "import numpy as np\n",
    "from emu_yt_module import EmuDataset"
   ]
  },
  {
   "cell_type": "markdown",
   "metadata": {},
   "source": [
    "# Converting Emu Datasets To Higher Dimensions\n",
    "\n",
    "## Converting a 1D dataset to 2D or 3D\n",
    "\n",
    "first, we open a 1D dataset which is extended along the z-dimension"
   ]
  },
  {
   "cell_type": "code",
   "execution_count": 2,
   "metadata": {},
   "outputs": [
    {
     "name": "stderr",
     "output_type": "stream",
     "text": [
      "yt : [INFO     ] 2021-04-17 16:08:46,923 Parameters: current_time              = 0.0\n",
      "yt : [INFO     ] 2021-04-17 16:08:46,924 Parameters: domain_dimensions         = [ 1  1 16]\n",
      "yt : [INFO     ] 2021-04-17 16:08:46,925 Parameters: domain_left_edge          = [0. 0. 0.]\n",
      "yt : [INFO     ] 2021-04-17 16:08:46,926 Parameters: domain_right_edge         = [16. 16. 16.]\n",
      "/home/eugene/dev/Emu/Exec/emu_yt_module.py:153: UserWarning: Because 'sampling_type' not specified, yt will assume a cell 'sampling_type'\n",
      "  self.ds.add_field((\"gas\", \"trace\"), function=_trace, units=\"auto\", dimensions=dimensions.dimensionless)\n",
      "/home/eugene/dev/Emu/Exec/emu_yt_module.py:167: UserWarning: Because 'sampling_type' not specified, yt will assume a cell 'sampling_type'\n",
      "  self.ds.add_field((\"gas\", fname_norm), function=_norm_derived_f, units=\"auto\", dimensions=dimensions.dimensionless)\n"
     ]
    }
   ],
   "source": [
    "emu_1D = EmuDataset(\"plt00000\")"
   ]
  },
  {
   "cell_type": "markdown",
   "metadata": {},
   "source": [
    "now, convert it to a 2D dataset by extending the y-dimension to the same size as z by copying data along z ..."
   ]
  },
  {
   "cell_type": "code",
   "execution_count": 3,
   "metadata": {},
   "outputs": [
    {
     "name": "stderr",
     "output_type": "stream",
     "text": [
      "yt : [INFO     ] 2021-04-17 16:08:47,149 Parameters: current_time              = 0.0\n",
      "yt : [INFO     ] 2021-04-17 16:08:47,150 Parameters: domain_dimensions         = [ 1 16 16]\n",
      "yt : [INFO     ] 2021-04-17 16:08:47,150 Parameters: domain_left_edge          = [0. 0. 0.]\n",
      "yt : [INFO     ] 2021-04-17 16:08:47,151 Parameters: domain_right_edge         = [16. 16. 16.]\n",
      "yt : [INFO     ] 2021-04-17 16:08:47,151 Parameters: cosmological_simulation   = 0.0\n"
     ]
    }
   ],
   "source": [
    "emu_2D = emu_1D.to_2D()"
   ]
  },
  {
   "cell_type": "markdown",
   "metadata": {},
   "source": [
    "we can also convert the 1D dataset to a 3D dataset by extending x and y dimensions to the same size as z by copying data along z ..."
   ]
  },
  {
   "cell_type": "code",
   "execution_count": 4,
   "metadata": {},
   "outputs": [
    {
     "name": "stderr",
     "output_type": "stream",
     "text": [
      "yt : [INFO     ] 2021-04-17 16:08:47,314 Parameters: current_time              = 0.0\n",
      "yt : [INFO     ] 2021-04-17 16:08:47,315 Parameters: domain_dimensions         = [16 16 16]\n",
      "yt : [INFO     ] 2021-04-17 16:08:47,316 Parameters: domain_left_edge          = [0. 0. 0.]\n",
      "yt : [INFO     ] 2021-04-17 16:08:47,316 Parameters: domain_right_edge         = [16. 16. 16.]\n",
      "yt : [INFO     ] 2021-04-17 16:08:47,317 Parameters: cosmological_simulation   = 0.0\n"
     ]
    }
   ],
   "source": [
    "emu_3D = emu_1D.to_3D()"
   ]
  },
  {
   "cell_type": "markdown",
   "metadata": {},
   "source": [
    "## Converting a 2D dataset to 3D\n",
    "\n",
    "if we want, we can also convert a 2D dataset to a 3D dataset by extending the x dimension to the same size as the y dimension and copying data as before ..."
   ]
  },
  {
   "cell_type": "code",
   "execution_count": 5,
   "metadata": {},
   "outputs": [
    {
     "name": "stderr",
     "output_type": "stream",
     "text": [
      "yt : [INFO     ] 2021-04-17 16:08:47,478 Parameters: current_time              = 0.0\n",
      "yt : [INFO     ] 2021-04-17 16:08:47,479 Parameters: domain_dimensions         = [16 16 16]\n",
      "yt : [INFO     ] 2021-04-17 16:08:47,479 Parameters: domain_left_edge          = [0. 0. 0.]\n",
      "yt : [INFO     ] 2021-04-17 16:08:47,480 Parameters: domain_right_edge         = [16. 16. 16.]\n",
      "yt : [INFO     ] 2021-04-17 16:08:47,480 Parameters: cosmological_simulation   = 0.0\n"
     ]
    }
   ],
   "source": [
    "emu_3D_from_2D = emu_2D.to_3D()"
   ]
  },
  {
   "cell_type": "markdown",
   "metadata": {},
   "source": [
    "## Selecting a subdomain before converting dimensions\n",
    "\n",
    "Suppose we want to extract a rectangular region from our original dataset and convert it to another dimensionality. We can do this using the `EmuDataset.get_rectangle(left_edge, right_edge)` function, which returns us a new `EmuDataset` with the selected rectangle from our original dataset.\n",
    "\n",
    "The new dataset will contain the subset of the original domain lying within `(left_edge, right_edge)` where `left_edge` and `right_edge` are each arrays of 3 elements giving the physical positions of the edges of the selection box."
   ]
  },
  {
   "cell_type": "code",
   "execution_count": 6,
   "metadata": {},
   "outputs": [
    {
     "name": "stderr",
     "output_type": "stream",
     "text": [
      "yt : [INFO     ] 2021-04-17 16:08:47,635 Parameters: current_time              = 0.0\n",
      "yt : [INFO     ] 2021-04-17 16:08:47,636 Parameters: domain_dimensions         = [1 1 4]\n",
      "yt : [INFO     ] 2021-04-17 16:08:47,636 Parameters: domain_left_edge          = [0. 0. 0.]\n",
      "yt : [INFO     ] 2021-04-17 16:08:47,636 Parameters: domain_right_edge         = [16. 16.  4.]\n",
      "yt : [INFO     ] 2021-04-17 16:08:47,637 Parameters: cosmological_simulation   = 0.0\n"
     ]
    }
   ],
   "source": [
    "left_edge = emu_1D.ds.domain_left_edge\n",
    "right_edge = emu_1D.ds.domain_right_edge\n",
    "\n",
    "# select the region [0, 4.0] cm in z\n",
    "left_edge[2] = 0.0\n",
    "right_edge[2] = 4.0\n",
    "\n",
    "emu_1D_selection = emu_1D.get_rectangle(left_edge, right_edge)"
   ]
  },
  {
   "cell_type": "markdown",
   "metadata": {},
   "source": [
    "Now we can call `to_3D()` on our selected dataset as before ..."
   ]
  },
  {
   "cell_type": "code",
   "execution_count": 7,
   "metadata": {},
   "outputs": [
    {
     "name": "stderr",
     "output_type": "stream",
     "text": [
      "yt : [INFO     ] 2021-04-17 16:08:47,783 Parameters: current_time              = 0.0\n",
      "yt : [INFO     ] 2021-04-17 16:08:47,784 Parameters: domain_dimensions         = [4 4 4]\n",
      "yt : [INFO     ] 2021-04-17 16:08:47,785 Parameters: domain_left_edge          = [0. 0. 0.]\n",
      "yt : [INFO     ] 2021-04-17 16:08:47,785 Parameters: domain_right_edge         = [4. 4. 4.]\n",
      "yt : [INFO     ] 2021-04-17 16:08:47,786 Parameters: cosmological_simulation   = 0.0\n"
     ]
    }
   ],
   "source": [
    "emu_3D_from_1D_selection = emu_1D_selection.to_3D()"
   ]
  },
  {
   "cell_type": "code",
   "execution_count": null,
   "metadata": {},
   "outputs": [],
   "source": []
  }
 ],
 "metadata": {
  "kernelspec": {
   "display_name": "Python 3",
   "language": "python",
   "name": "python3"
  },
  "language_info": {
   "codemirror_mode": {
    "name": "ipython",
    "version": 3
   },
   "file_extension": ".py",
   "mimetype": "text/x-python",
   "name": "python",
   "nbconvert_exporter": "python",
   "pygments_lexer": "ipython3",
   "version": "3.8.5"
  }
 },
 "nbformat": 4,
 "nbformat_minor": 4
}

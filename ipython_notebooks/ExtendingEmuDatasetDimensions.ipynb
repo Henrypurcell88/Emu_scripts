{
 "cells": [
  {
   "cell_type": "code",
   "execution_count": 1,
   "metadata": {},
   "outputs": [],
   "source": [
    "import yt\n",
    "import numpy as np\n",
    "from emu_yt_module import EmuDataset"
   ]
  },
  {
   "cell_type": "markdown",
   "metadata": {},
   "source": [
    "# Converting Emu Datasets To Higher Dimensions\n",
    "\n",
    "## Converting a 1D dataset to 2D or 3D\n",
    "\n",
    "first, we open a 1D dataset which is extended along the z-dimension"
   ]
  },
  {
   "cell_type": "code",
   "execution_count": 2,
   "metadata": {},
   "outputs": [
    {
     "name": "stderr",
     "output_type": "stream",
     "text": [
      "yt : [INFO     ] 2021-04-16 14:24:35,661 Parameters: current_time              = 0.0\n",
      "yt : [INFO     ] 2021-04-16 14:24:35,662 Parameters: domain_dimensions         = [ 1  1 16]\n",
      "yt : [INFO     ] 2021-04-16 14:24:35,662 Parameters: domain_left_edge          = [0. 0. 0.]\n",
      "yt : [INFO     ] 2021-04-16 14:24:35,707 Parameters: domain_right_edge         = [16. 16. 16.]\n",
      "/home/eugene/dev/Emu/Exec/emu_yt_module.py:134: UserWarning: Because 'sampling_type' not specified, yt will assume a cell 'sampling_type'\n",
      "  self.ds.add_field((\"gas\", \"trace\"), function=_trace, units=\"auto\", dimensions=dimensions.dimensionless)\n",
      "/home/eugene/dev/Emu/Exec/emu_yt_module.py:148: UserWarning: Because 'sampling_type' not specified, yt will assume a cell 'sampling_type'\n",
      "  self.ds.add_field((\"gas\", fname_norm), function=_norm_derived_f, units=\"auto\", dimensions=dimensions.dimensionless)\n"
     ]
    }
   ],
   "source": [
    "emu_1D = EmuDataset(\"plt00000\")"
   ]
  },
  {
   "cell_type": "markdown",
   "metadata": {},
   "source": [
    "now, convert it to a 2D dataset by extending the y-dimension to the same size as z by copying data along z ..."
   ]
  },
  {
   "cell_type": "code",
   "execution_count": 3,
   "metadata": {},
   "outputs": [
    {
     "name": "stderr",
     "output_type": "stream",
     "text": [
      "yt : [INFO     ] 2021-04-16 14:24:35,893 Parameters: current_time              = 0.0\n",
      "yt : [INFO     ] 2021-04-16 14:24:35,894 Parameters: domain_dimensions         = [ 1 16 16]\n",
      "yt : [INFO     ] 2021-04-16 14:24:35,894 Parameters: domain_left_edge          = [0. 0. 0.]\n",
      "yt : [INFO     ] 2021-04-16 14:24:35,895 Parameters: domain_right_edge         = [16. 16. 16.]\n",
      "yt : [INFO     ] 2021-04-16 14:24:35,896 Parameters: cosmological_simulation   = 0.0\n"
     ]
    }
   ],
   "source": [
    "emu_2D = emu_1D.to_2D()"
   ]
  },
  {
   "cell_type": "markdown",
   "metadata": {},
   "source": [
    "we can also convert the 1D dataset to a 3D dataset by extending x and y dimensions to the same size as z by copying data along z ..."
   ]
  },
  {
   "cell_type": "code",
   "execution_count": 4,
   "metadata": {},
   "outputs": [
    {
     "name": "stderr",
     "output_type": "stream",
     "text": [
      "yt : [INFO     ] 2021-04-16 14:24:36,061 Parameters: current_time              = 0.0\n",
      "yt : [INFO     ] 2021-04-16 14:24:36,062 Parameters: domain_dimensions         = [16 16 16]\n",
      "yt : [INFO     ] 2021-04-16 14:24:36,062 Parameters: domain_left_edge          = [0. 0. 0.]\n",
      "yt : [INFO     ] 2021-04-16 14:24:36,063 Parameters: domain_right_edge         = [16. 16. 16.]\n",
      "yt : [INFO     ] 2021-04-16 14:24:36,063 Parameters: cosmological_simulation   = 0.0\n"
     ]
    }
   ],
   "source": [
    "emu_3D = emu_1D.to_3D()"
   ]
  },
  {
   "cell_type": "markdown",
   "metadata": {},
   "source": [
    "## Converting a 2D dataset to 3D\n",
    "\n",
    "if we want, we can also convert a 2D dataset to a 3D dataset by extending the x dimension to the same size as the y dimension and copying data as before ..."
   ]
  },
  {
   "cell_type": "code",
   "execution_count": 5,
   "metadata": {},
   "outputs": [
    {
     "name": "stderr",
     "output_type": "stream",
     "text": [
      "yt : [INFO     ] 2021-04-16 14:24:36,202 Parameters: current_time              = 0.0\n",
      "yt : [INFO     ] 2021-04-16 14:24:36,203 Parameters: domain_dimensions         = [16 16 16]\n",
      "yt : [INFO     ] 2021-04-16 14:24:36,203 Parameters: domain_left_edge          = [0. 0. 0.]\n",
      "yt : [INFO     ] 2021-04-16 14:24:36,204 Parameters: domain_right_edge         = [16. 16. 16.]\n",
      "yt : [INFO     ] 2021-04-16 14:24:36,205 Parameters: cosmological_simulation   = 0.0\n"
     ]
    }
   ],
   "source": [
    "emu_3D_from_2D = emu_2D.to_3D()"
   ]
  },
  {
   "cell_type": "code",
   "execution_count": null,
   "metadata": {},
   "outputs": [],
   "source": []
  }
 ],
 "metadata": {
  "kernelspec": {
   "display_name": "Python 3",
   "language": "python",
   "name": "python3"
  },
  "language_info": {
   "codemirror_mode": {
    "name": "ipython",
    "version": 3
   },
   "file_extension": ".py",
   "mimetype": "text/x-python",
   "name": "python",
   "nbconvert_exporter": "python",
   "pygments_lexer": "ipython3",
   "version": "3.8.5"
  }
 },
 "nbformat": 4,
 "nbformat_minor": 4
}
